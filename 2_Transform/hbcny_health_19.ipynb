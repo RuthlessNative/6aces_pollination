{
 "metadata": {
  "language_info": {
   "codemirror_mode": {
    "name": "ipython",
    "version": 3
   },
   "file_extension": ".py",
   "mimetype": "text/x-python",
   "name": "python",
   "nbconvert_exporter": "python",
   "pygments_lexer": "ipython3",
   "version": "3.8.5"
  },
  "orig_nbformat": 2,
  "kernelspec": {
   "name": "python385jvsc74a57bd06e67b620515b60b5e0a41f61aaaaaa0b5713da87d04dedede882ceace4acc361",
   "display_name": "Python 3.8.5 64-bit (conda)"
  }
 },
 "nbformat": 4,
 "nbformat_minor": 2,
 "cells": [
  {
   "cell_type": "code",
   "execution_count": 36,
   "metadata": {},
   "outputs": [],
   "source": [
    "## Dependencies and setup\n",
    "import pandas as pd"
   ]
  },
  {
   "cell_type": "code",
   "execution_count": 37,
   "metadata": {},
   "outputs": [],
   "source": [
    "## Load data files\n",
    "hbcny_h1 = \"../1_Extract/USDA-HB_Colony_Health_2019_and_2020/hbcny_+-_2019_q1_t005.csv\""
   ]
  },
  {
   "cell_type": "code",
   "execution_count": 38,
   "metadata": {},
   "outputs": [],
   "source": [
    "## Read data and store into df\n",
    "## Drop the first 5 rows which hold info text\n",
    "hbcny_h1 = pd.read_csv(hbcny_h1, skiprows=5)"
   ]
  },
  {
   "cell_type": "code",
   "execution_count": 39,
   "metadata": {},
   "outputs": [
    {
     "output_type": "execute_result",
     "data": {
      "text/plain": [
       "    5  h                                         Unnamed: 2  colonies  \\\n",
       "0   5  h                                                NaN       NaN   \n",
       "1   5  h                                                NaN       NaN   \n",
       "2   5  u                                                NaN  (number)   \n",
       "3   5  d                                            Alabama      5500   \n",
       "4   5  d                                            Arizona     22000   \n",
       ".. .. ..                                                ...       ...   \n",
       "60  5  f  1/ January 1 colonies plus all colonies moved ...       NaN   \n",
       "61  5  f  2/ Percent lost is the number of lost colonies...       NaN   \n",
       "62  5  f  3/ Defined as any surviving colony that was re...       NaN   \n",
       "63  5  f  4/ Percent renovated is the number of renovate...       NaN   \n",
       "64  5  f  5/ Includes data for States not published in t...       NaN   \n",
       "\n",
       "        Maximum      Lost    Percent     Added    Renovated     Percent.1  \n",
       "0   colonies 1/  colonies    lost 2/  colonies  colonies 3/  renovated 4/  \n",
       "1           NaN       NaN        NaN       NaN          NaN           NaN  \n",
       "2      (number)  (number)  (percent)  (number)     (number)     (percent)  \n",
       "3          5500       650         12       800          200             4  \n",
       "4         22000      2500         11       430           90           (Z)  \n",
       "..          ...       ...        ...       ...          ...           ...  \n",
       "60          NaN       NaN        NaN       NaN          NaN           NaN  \n",
       "61          NaN       NaN        NaN       NaN          NaN           NaN  \n",
       "62          NaN       NaN        NaN       NaN          NaN           NaN  \n",
       "63          NaN       NaN        NaN       NaN          NaN           NaN  \n",
       "64          NaN       NaN        NaN       NaN          NaN           NaN  \n",
       "\n",
       "[65 rows x 10 columns]"
      ],
      "text/html": "<div>\n<style scoped>\n    .dataframe tbody tr th:only-of-type {\n        vertical-align: middle;\n    }\n\n    .dataframe tbody tr th {\n        vertical-align: top;\n    }\n\n    .dataframe thead th {\n        text-align: right;\n    }\n</style>\n<table border=\"1\" class=\"dataframe\">\n  <thead>\n    <tr style=\"text-align: right;\">\n      <th></th>\n      <th>5</th>\n      <th>h</th>\n      <th>Unnamed: 2</th>\n      <th>colonies</th>\n      <th>Maximum</th>\n      <th>Lost</th>\n      <th>Percent</th>\n      <th>Added</th>\n      <th>Renovated</th>\n      <th>Percent.1</th>\n    </tr>\n  </thead>\n  <tbody>\n    <tr>\n      <th>0</th>\n      <td>5</td>\n      <td>h</td>\n      <td>NaN</td>\n      <td>NaN</td>\n      <td>colonies 1/</td>\n      <td>colonies</td>\n      <td>lost 2/</td>\n      <td>colonies</td>\n      <td>colonies 3/</td>\n      <td>renovated 4/</td>\n    </tr>\n    <tr>\n      <th>1</th>\n      <td>5</td>\n      <td>h</td>\n      <td>NaN</td>\n      <td>NaN</td>\n      <td>NaN</td>\n      <td>NaN</td>\n      <td>NaN</td>\n      <td>NaN</td>\n      <td>NaN</td>\n      <td>NaN</td>\n    </tr>\n    <tr>\n      <th>2</th>\n      <td>5</td>\n      <td>u</td>\n      <td>NaN</td>\n      <td>(number)</td>\n      <td>(number)</td>\n      <td>(number)</td>\n      <td>(percent)</td>\n      <td>(number)</td>\n      <td>(number)</td>\n      <td>(percent)</td>\n    </tr>\n    <tr>\n      <th>3</th>\n      <td>5</td>\n      <td>d</td>\n      <td>Alabama</td>\n      <td>5500</td>\n      <td>5500</td>\n      <td>650</td>\n      <td>12</td>\n      <td>800</td>\n      <td>200</td>\n      <td>4</td>\n    </tr>\n    <tr>\n      <th>4</th>\n      <td>5</td>\n      <td>d</td>\n      <td>Arizona</td>\n      <td>22000</td>\n      <td>22000</td>\n      <td>2500</td>\n      <td>11</td>\n      <td>430</td>\n      <td>90</td>\n      <td>(Z)</td>\n    </tr>\n    <tr>\n      <th>...</th>\n      <td>...</td>\n      <td>...</td>\n      <td>...</td>\n      <td>...</td>\n      <td>...</td>\n      <td>...</td>\n      <td>...</td>\n      <td>...</td>\n      <td>...</td>\n      <td>...</td>\n    </tr>\n    <tr>\n      <th>60</th>\n      <td>5</td>\n      <td>f</td>\n      <td>1/ January 1 colonies plus all colonies moved ...</td>\n      <td>NaN</td>\n      <td>NaN</td>\n      <td>NaN</td>\n      <td>NaN</td>\n      <td>NaN</td>\n      <td>NaN</td>\n      <td>NaN</td>\n    </tr>\n    <tr>\n      <th>61</th>\n      <td>5</td>\n      <td>f</td>\n      <td>2/ Percent lost is the number of lost colonies...</td>\n      <td>NaN</td>\n      <td>NaN</td>\n      <td>NaN</td>\n      <td>NaN</td>\n      <td>NaN</td>\n      <td>NaN</td>\n      <td>NaN</td>\n    </tr>\n    <tr>\n      <th>62</th>\n      <td>5</td>\n      <td>f</td>\n      <td>3/ Defined as any surviving colony that was re...</td>\n      <td>NaN</td>\n      <td>NaN</td>\n      <td>NaN</td>\n      <td>NaN</td>\n      <td>NaN</td>\n      <td>NaN</td>\n      <td>NaN</td>\n    </tr>\n    <tr>\n      <th>63</th>\n      <td>5</td>\n      <td>f</td>\n      <td>4/ Percent renovated is the number of renovate...</td>\n      <td>NaN</td>\n      <td>NaN</td>\n      <td>NaN</td>\n      <td>NaN</td>\n      <td>NaN</td>\n      <td>NaN</td>\n      <td>NaN</td>\n    </tr>\n    <tr>\n      <th>64</th>\n      <td>5</td>\n      <td>f</td>\n      <td>5/ Includes data for States not published in t...</td>\n      <td>NaN</td>\n      <td>NaN</td>\n      <td>NaN</td>\n      <td>NaN</td>\n      <td>NaN</td>\n      <td>NaN</td>\n      <td>NaN</td>\n    </tr>\n  </tbody>\n</table>\n<p>65 rows × 10 columns</p>\n</div>"
     },
     "metadata": {},
     "execution_count": 39
    }
   ],
   "source": [
    "hbcny_h1"
   ]
  },
  {
   "cell_type": "code",
   "execution_count": 52,
   "metadata": {},
   "outputs": [
    {
     "output_type": "execute_result",
     "data": {
      "text/plain": [
       "         Unnamed: 2  colonies      Maximum      Lost    Percent     Added  \\\n",
       "0               NaN       NaN  colonies 1/  colonies    lost 2/  colonies   \n",
       "2               NaN  (number)     (number)  (number)  (percent)  (number)   \n",
       "3           Alabama      5500         5500       650         12       800   \n",
       "4           Arizona     22000        22000      2500         11       430   \n",
       "5          Arkansas     28000        28000      6500         23        20   \n",
       "6        California   1140000      1580000    235000         15     83000   \n",
       "7          Colorado      5000         7500       320          4         -   \n",
       "8       Connecticut      3100         3100       270          9       170   \n",
       "9           Florida    300000       315000     46000         15     41000   \n",
       "10          Georgia    120000       129000     14500         11     19500   \n",
       "11           Hawaii     16500        16500       390          2       660   \n",
       "12            Idaho    132000       145000     12500          9      4600   \n",
       "13              NaN       NaN          NaN       NaN        NaN       NaN   \n",
       "14         Illinois      9000         9000      2300         26       210   \n",
       "15          Indiana      6000         6000       710         12       440   \n",
       "16             Iowa      7500        11500      1600         14       170   \n",
       "17           Kansas      4500         4500      1500         33       370   \n",
       "18         Kentucky      3700         4400       890         20        60   \n",
       "19        Louisiana     49000        51000      3500          7      9000   \n",
       "20            Maine      7000         7000       470          7        10   \n",
       "21         Maryland      8000         8000      2300         29        30   \n",
       "22    Massachusetts      3800         3800       680         18        60   \n",
       "23         Michigan     24000        33000      6500         20         -   \n",
       "24              NaN       NaN          NaN       NaN        NaN       NaN   \n",
       "25        Minnesota     17000        43000      2200          5        80   \n",
       "26      Mississippi     26000        29000      2400          8      3800   \n",
       "27         Missouri      8500         8500      1100         13        80   \n",
       "28          Montana     37000        68000      3500          5      1700   \n",
       "29         Nebraska     13500        16500      2500         15         -   \n",
       "30       New Jersey      6000         6000       310          5       130   \n",
       "31       New Mexico      4800         4800       170          4         -   \n",
       "32         New York     24000        24000      3400         14       110   \n",
       "33   North Carolina     10500        14500      1700         12       750   \n",
       "34     North Dakota     92000       102000      1100          1         -   \n",
       "35              NaN       NaN          NaN       NaN        NaN       NaN   \n",
       "36             Ohio     10500        12500      3500         28      1700   \n",
       "37         Oklahoma     21000        55000        50        (Z)        20   \n",
       "38           Oregon     89000        95000      7500          8      8000   \n",
       "39     Pennsylvania     15000        15000      2900         19       370   \n",
       "40   South Carolina     12000        13000       690          5      2000   \n",
       "41     South Dakota     18500        18500      1100          6         -   \n",
       "42        Tennessee      6000         7000      1500         21       240   \n",
       "43            Texas    260000       330000     17000          5     61000   \n",
       "44             Utah      8500        11000      1800         16       900   \n",
       "45          Vermont      6500         6500       260          4        50   \n",
       "46              NaN       NaN          NaN       NaN        NaN       NaN   \n",
       "47         Virginia      5500         5500      1100         20        80   \n",
       "48       Washington     51000        75000      7000          9      5500   \n",
       "49    West Virginia      5000         7000      1300         19        20   \n",
       "50        Wisconsin     16500        17000      3700         22       580   \n",
       "51          Wyoming      6500         9500       250          3         -   \n",
       "52              NaN       NaN          NaN       NaN        NaN       NaN   \n",
       "53  Other States 5/      6070         6070       590         10        70   \n",
       "54              NaN       NaN          NaN       NaN        NaN       NaN   \n",
       "55    United States   2671470          (X)    407700         15    247710   \n",
       "\n",
       "      Renovated     Percent.1  \n",
       "0   colonies 3/  renovated 4/  \n",
       "2      (number)     (percent)  \n",
       "3           200             4  \n",
       "4            90           (Z)  \n",
       "5            20           (Z)  \n",
       "6         86000             5  \n",
       "7             -             -  \n",
       "8            10           (Z)  \n",
       "9         16500             5  \n",
       "10         8000             6  \n",
       "11         3700            22  \n",
       "12         1100             1  \n",
       "13          NaN           NaN  \n",
       "14           80             1  \n",
       "15          280             5  \n",
       "16          140             1  \n",
       "17          110             2  \n",
       "18           30             1  \n",
       "19        16000            31  \n",
       "20           30           (Z)  \n",
       "21           10           (Z)  \n",
       "22           20             1  \n",
       "23            -             -  \n",
       "24          NaN           NaN  \n",
       "25          470             1  \n",
       "26         1700             6  \n",
       "27           60             1  \n",
       "28         1900             3  \n",
       "29            -             -  \n",
       "30           60             1  \n",
       "31            -             -  \n",
       "32           80           (Z)  \n",
       "33          890             6  \n",
       "34         1300             1  \n",
       "35          NaN           NaN  \n",
       "36          440             4  \n",
       "37            -             -  \n",
       "38         1800             2  \n",
       "39          320             2  \n",
       "40          340             3  \n",
       "41            -             -  \n",
       "42          320             5  \n",
       "43        35000            11  \n",
       "44            -             -  \n",
       "45          (Z)           (Z)  \n",
       "46          NaN           NaN  \n",
       "47          110             2  \n",
       "48         2200             3  \n",
       "49           60             1  \n",
       "50          100             1  \n",
       "51            -             -  \n",
       "52          NaN           NaN  \n",
       "53           30           (Z)  \n",
       "54          NaN           NaN  \n",
       "55       179500             7  "
      ],
      "text/html": "<div>\n<style scoped>\n    .dataframe tbody tr th:only-of-type {\n        vertical-align: middle;\n    }\n\n    .dataframe tbody tr th {\n        vertical-align: top;\n    }\n\n    .dataframe thead th {\n        text-align: right;\n    }\n</style>\n<table border=\"1\" class=\"dataframe\">\n  <thead>\n    <tr style=\"text-align: right;\">\n      <th></th>\n      <th>Unnamed: 2</th>\n      <th>colonies</th>\n      <th>Maximum</th>\n      <th>Lost</th>\n      <th>Percent</th>\n      <th>Added</th>\n      <th>Renovated</th>\n      <th>Percent.1</th>\n    </tr>\n  </thead>\n  <tbody>\n    <tr>\n      <th>0</th>\n      <td>NaN</td>\n      <td>NaN</td>\n      <td>colonies 1/</td>\n      <td>colonies</td>\n      <td>lost 2/</td>\n      <td>colonies</td>\n      <td>colonies 3/</td>\n      <td>renovated 4/</td>\n    </tr>\n    <tr>\n      <th>2</th>\n      <td>NaN</td>\n      <td>(number)</td>\n      <td>(number)</td>\n      <td>(number)</td>\n      <td>(percent)</td>\n      <td>(number)</td>\n      <td>(number)</td>\n      <td>(percent)</td>\n    </tr>\n    <tr>\n      <th>3</th>\n      <td>Alabama</td>\n      <td>5500</td>\n      <td>5500</td>\n      <td>650</td>\n      <td>12</td>\n      <td>800</td>\n      <td>200</td>\n      <td>4</td>\n    </tr>\n    <tr>\n      <th>4</th>\n      <td>Arizona</td>\n      <td>22000</td>\n      <td>22000</td>\n      <td>2500</td>\n      <td>11</td>\n      <td>430</td>\n      <td>90</td>\n      <td>(Z)</td>\n    </tr>\n    <tr>\n      <th>5</th>\n      <td>Arkansas</td>\n      <td>28000</td>\n      <td>28000</td>\n      <td>6500</td>\n      <td>23</td>\n      <td>20</td>\n      <td>20</td>\n      <td>(Z)</td>\n    </tr>\n    <tr>\n      <th>6</th>\n      <td>California</td>\n      <td>1140000</td>\n      <td>1580000</td>\n      <td>235000</td>\n      <td>15</td>\n      <td>83000</td>\n      <td>86000</td>\n      <td>5</td>\n    </tr>\n    <tr>\n      <th>7</th>\n      <td>Colorado</td>\n      <td>5000</td>\n      <td>7500</td>\n      <td>320</td>\n      <td>4</td>\n      <td>-</td>\n      <td>-</td>\n      <td>-</td>\n    </tr>\n    <tr>\n      <th>8</th>\n      <td>Connecticut</td>\n      <td>3100</td>\n      <td>3100</td>\n      <td>270</td>\n      <td>9</td>\n      <td>170</td>\n      <td>10</td>\n      <td>(Z)</td>\n    </tr>\n    <tr>\n      <th>9</th>\n      <td>Florida</td>\n      <td>300000</td>\n      <td>315000</td>\n      <td>46000</td>\n      <td>15</td>\n      <td>41000</td>\n      <td>16500</td>\n      <td>5</td>\n    </tr>\n    <tr>\n      <th>10</th>\n      <td>Georgia</td>\n      <td>120000</td>\n      <td>129000</td>\n      <td>14500</td>\n      <td>11</td>\n      <td>19500</td>\n      <td>8000</td>\n      <td>6</td>\n    </tr>\n    <tr>\n      <th>11</th>\n      <td>Hawaii</td>\n      <td>16500</td>\n      <td>16500</td>\n      <td>390</td>\n      <td>2</td>\n      <td>660</td>\n      <td>3700</td>\n      <td>22</td>\n    </tr>\n    <tr>\n      <th>12</th>\n      <td>Idaho</td>\n      <td>132000</td>\n      <td>145000</td>\n      <td>12500</td>\n      <td>9</td>\n      <td>4600</td>\n      <td>1100</td>\n      <td>1</td>\n    </tr>\n    <tr>\n      <th>13</th>\n      <td>NaN</td>\n      <td>NaN</td>\n      <td>NaN</td>\n      <td>NaN</td>\n      <td>NaN</td>\n      <td>NaN</td>\n      <td>NaN</td>\n      <td>NaN</td>\n    </tr>\n    <tr>\n      <th>14</th>\n      <td>Illinois</td>\n      <td>9000</td>\n      <td>9000</td>\n      <td>2300</td>\n      <td>26</td>\n      <td>210</td>\n      <td>80</td>\n      <td>1</td>\n    </tr>\n    <tr>\n      <th>15</th>\n      <td>Indiana</td>\n      <td>6000</td>\n      <td>6000</td>\n      <td>710</td>\n      <td>12</td>\n      <td>440</td>\n      <td>280</td>\n      <td>5</td>\n    </tr>\n    <tr>\n      <th>16</th>\n      <td>Iowa</td>\n      <td>7500</td>\n      <td>11500</td>\n      <td>1600</td>\n      <td>14</td>\n      <td>170</td>\n      <td>140</td>\n      <td>1</td>\n    </tr>\n    <tr>\n      <th>17</th>\n      <td>Kansas</td>\n      <td>4500</td>\n      <td>4500</td>\n      <td>1500</td>\n      <td>33</td>\n      <td>370</td>\n      <td>110</td>\n      <td>2</td>\n    </tr>\n    <tr>\n      <th>18</th>\n      <td>Kentucky</td>\n      <td>3700</td>\n      <td>4400</td>\n      <td>890</td>\n      <td>20</td>\n      <td>60</td>\n      <td>30</td>\n      <td>1</td>\n    </tr>\n    <tr>\n      <th>19</th>\n      <td>Louisiana</td>\n      <td>49000</td>\n      <td>51000</td>\n      <td>3500</td>\n      <td>7</td>\n      <td>9000</td>\n      <td>16000</td>\n      <td>31</td>\n    </tr>\n    <tr>\n      <th>20</th>\n      <td>Maine</td>\n      <td>7000</td>\n      <td>7000</td>\n      <td>470</td>\n      <td>7</td>\n      <td>10</td>\n      <td>30</td>\n      <td>(Z)</td>\n    </tr>\n    <tr>\n      <th>21</th>\n      <td>Maryland</td>\n      <td>8000</td>\n      <td>8000</td>\n      <td>2300</td>\n      <td>29</td>\n      <td>30</td>\n      <td>10</td>\n      <td>(Z)</td>\n    </tr>\n    <tr>\n      <th>22</th>\n      <td>Massachusetts</td>\n      <td>3800</td>\n      <td>3800</td>\n      <td>680</td>\n      <td>18</td>\n      <td>60</td>\n      <td>20</td>\n      <td>1</td>\n    </tr>\n    <tr>\n      <th>23</th>\n      <td>Michigan</td>\n      <td>24000</td>\n      <td>33000</td>\n      <td>6500</td>\n      <td>20</td>\n      <td>-</td>\n      <td>-</td>\n      <td>-</td>\n    </tr>\n    <tr>\n      <th>24</th>\n      <td>NaN</td>\n      <td>NaN</td>\n      <td>NaN</td>\n      <td>NaN</td>\n      <td>NaN</td>\n      <td>NaN</td>\n      <td>NaN</td>\n      <td>NaN</td>\n    </tr>\n    <tr>\n      <th>25</th>\n      <td>Minnesota</td>\n      <td>17000</td>\n      <td>43000</td>\n      <td>2200</td>\n      <td>5</td>\n      <td>80</td>\n      <td>470</td>\n      <td>1</td>\n    </tr>\n    <tr>\n      <th>26</th>\n      <td>Mississippi</td>\n      <td>26000</td>\n      <td>29000</td>\n      <td>2400</td>\n      <td>8</td>\n      <td>3800</td>\n      <td>1700</td>\n      <td>6</td>\n    </tr>\n    <tr>\n      <th>27</th>\n      <td>Missouri</td>\n      <td>8500</td>\n      <td>8500</td>\n      <td>1100</td>\n      <td>13</td>\n      <td>80</td>\n      <td>60</td>\n      <td>1</td>\n    </tr>\n    <tr>\n      <th>28</th>\n      <td>Montana</td>\n      <td>37000</td>\n      <td>68000</td>\n      <td>3500</td>\n      <td>5</td>\n      <td>1700</td>\n      <td>1900</td>\n      <td>3</td>\n    </tr>\n    <tr>\n      <th>29</th>\n      <td>Nebraska</td>\n      <td>13500</td>\n      <td>16500</td>\n      <td>2500</td>\n      <td>15</td>\n      <td>-</td>\n      <td>-</td>\n      <td>-</td>\n    </tr>\n    <tr>\n      <th>30</th>\n      <td>New Jersey</td>\n      <td>6000</td>\n      <td>6000</td>\n      <td>310</td>\n      <td>5</td>\n      <td>130</td>\n      <td>60</td>\n      <td>1</td>\n    </tr>\n    <tr>\n      <th>31</th>\n      <td>New Mexico</td>\n      <td>4800</td>\n      <td>4800</td>\n      <td>170</td>\n      <td>4</td>\n      <td>-</td>\n      <td>-</td>\n      <td>-</td>\n    </tr>\n    <tr>\n      <th>32</th>\n      <td>New York</td>\n      <td>24000</td>\n      <td>24000</td>\n      <td>3400</td>\n      <td>14</td>\n      <td>110</td>\n      <td>80</td>\n      <td>(Z)</td>\n    </tr>\n    <tr>\n      <th>33</th>\n      <td>North Carolina</td>\n      <td>10500</td>\n      <td>14500</td>\n      <td>1700</td>\n      <td>12</td>\n      <td>750</td>\n      <td>890</td>\n      <td>6</td>\n    </tr>\n    <tr>\n      <th>34</th>\n      <td>North Dakota</td>\n      <td>92000</td>\n      <td>102000</td>\n      <td>1100</td>\n      <td>1</td>\n      <td>-</td>\n      <td>1300</td>\n      <td>1</td>\n    </tr>\n    <tr>\n      <th>35</th>\n      <td>NaN</td>\n      <td>NaN</td>\n      <td>NaN</td>\n      <td>NaN</td>\n      <td>NaN</td>\n      <td>NaN</td>\n      <td>NaN</td>\n      <td>NaN</td>\n    </tr>\n    <tr>\n      <th>36</th>\n      <td>Ohio</td>\n      <td>10500</td>\n      <td>12500</td>\n      <td>3500</td>\n      <td>28</td>\n      <td>1700</td>\n      <td>440</td>\n      <td>4</td>\n    </tr>\n    <tr>\n      <th>37</th>\n      <td>Oklahoma</td>\n      <td>21000</td>\n      <td>55000</td>\n      <td>50</td>\n      <td>(Z)</td>\n      <td>20</td>\n      <td>-</td>\n      <td>-</td>\n    </tr>\n    <tr>\n      <th>38</th>\n      <td>Oregon</td>\n      <td>89000</td>\n      <td>95000</td>\n      <td>7500</td>\n      <td>8</td>\n      <td>8000</td>\n      <td>1800</td>\n      <td>2</td>\n    </tr>\n    <tr>\n      <th>39</th>\n      <td>Pennsylvania</td>\n      <td>15000</td>\n      <td>15000</td>\n      <td>2900</td>\n      <td>19</td>\n      <td>370</td>\n      <td>320</td>\n      <td>2</td>\n    </tr>\n    <tr>\n      <th>40</th>\n      <td>South Carolina</td>\n      <td>12000</td>\n      <td>13000</td>\n      <td>690</td>\n      <td>5</td>\n      <td>2000</td>\n      <td>340</td>\n      <td>3</td>\n    </tr>\n    <tr>\n      <th>41</th>\n      <td>South Dakota</td>\n      <td>18500</td>\n      <td>18500</td>\n      <td>1100</td>\n      <td>6</td>\n      <td>-</td>\n      <td>-</td>\n      <td>-</td>\n    </tr>\n    <tr>\n      <th>42</th>\n      <td>Tennessee</td>\n      <td>6000</td>\n      <td>7000</td>\n      <td>1500</td>\n      <td>21</td>\n      <td>240</td>\n      <td>320</td>\n      <td>5</td>\n    </tr>\n    <tr>\n      <th>43</th>\n      <td>Texas</td>\n      <td>260000</td>\n      <td>330000</td>\n      <td>17000</td>\n      <td>5</td>\n      <td>61000</td>\n      <td>35000</td>\n      <td>11</td>\n    </tr>\n    <tr>\n      <th>44</th>\n      <td>Utah</td>\n      <td>8500</td>\n      <td>11000</td>\n      <td>1800</td>\n      <td>16</td>\n      <td>900</td>\n      <td>-</td>\n      <td>-</td>\n    </tr>\n    <tr>\n      <th>45</th>\n      <td>Vermont</td>\n      <td>6500</td>\n      <td>6500</td>\n      <td>260</td>\n      <td>4</td>\n      <td>50</td>\n      <td>(Z)</td>\n      <td>(Z)</td>\n    </tr>\n    <tr>\n      <th>46</th>\n      <td>NaN</td>\n      <td>NaN</td>\n      <td>NaN</td>\n      <td>NaN</td>\n      <td>NaN</td>\n      <td>NaN</td>\n      <td>NaN</td>\n      <td>NaN</td>\n    </tr>\n    <tr>\n      <th>47</th>\n      <td>Virginia</td>\n      <td>5500</td>\n      <td>5500</td>\n      <td>1100</td>\n      <td>20</td>\n      <td>80</td>\n      <td>110</td>\n      <td>2</td>\n    </tr>\n    <tr>\n      <th>48</th>\n      <td>Washington</td>\n      <td>51000</td>\n      <td>75000</td>\n      <td>7000</td>\n      <td>9</td>\n      <td>5500</td>\n      <td>2200</td>\n      <td>3</td>\n    </tr>\n    <tr>\n      <th>49</th>\n      <td>West Virginia</td>\n      <td>5000</td>\n      <td>7000</td>\n      <td>1300</td>\n      <td>19</td>\n      <td>20</td>\n      <td>60</td>\n      <td>1</td>\n    </tr>\n    <tr>\n      <th>50</th>\n      <td>Wisconsin</td>\n      <td>16500</td>\n      <td>17000</td>\n      <td>3700</td>\n      <td>22</td>\n      <td>580</td>\n      <td>100</td>\n      <td>1</td>\n    </tr>\n    <tr>\n      <th>51</th>\n      <td>Wyoming</td>\n      <td>6500</td>\n      <td>9500</td>\n      <td>250</td>\n      <td>3</td>\n      <td>-</td>\n      <td>-</td>\n      <td>-</td>\n    </tr>\n    <tr>\n      <th>52</th>\n      <td>NaN</td>\n      <td>NaN</td>\n      <td>NaN</td>\n      <td>NaN</td>\n      <td>NaN</td>\n      <td>NaN</td>\n      <td>NaN</td>\n      <td>NaN</td>\n    </tr>\n    <tr>\n      <th>53</th>\n      <td>Other States 5/</td>\n      <td>6070</td>\n      <td>6070</td>\n      <td>590</td>\n      <td>10</td>\n      <td>70</td>\n      <td>30</td>\n      <td>(Z)</td>\n    </tr>\n    <tr>\n      <th>54</th>\n      <td>NaN</td>\n      <td>NaN</td>\n      <td>NaN</td>\n      <td>NaN</td>\n      <td>NaN</td>\n      <td>NaN</td>\n      <td>NaN</td>\n      <td>NaN</td>\n    </tr>\n    <tr>\n      <th>55</th>\n      <td>United States</td>\n      <td>2671470</td>\n      <td>(X)</td>\n      <td>407700</td>\n      <td>15</td>\n      <td>247710</td>\n      <td>179500</td>\n      <td>7</td>\n    </tr>\n  </tbody>\n</table>\n</div>"
     },
     "metadata": {},
     "execution_count": 52
    }
   ],
   "source": [
    "## Drop erroneous first 2 columns\n",
    "#hbcny_h1 = hbcny_h1.drop(['5', 'h'], axis=1)\n",
    "\n",
    "## Drop erroneous last few rows\n",
    "hbcny_h1 = hbcny_h1.drop(hbcny_h1.index[56:65])\n",
    "\n",
    "## Drop row [0] and rename column appropriately\n",
    "hbcny_h1 = hbcny_h1.drop([0])\n",
    "\n",
    "hbcny_h1"
   ]
  },
  {
   "cell_type": "code",
   "execution_count": null,
   "metadata": {},
   "outputs": [],
   "source": []
  }
 ]
}