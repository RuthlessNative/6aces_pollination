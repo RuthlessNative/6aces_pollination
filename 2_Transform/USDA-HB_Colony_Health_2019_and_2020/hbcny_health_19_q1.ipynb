{
 "metadata": {
  "language_info": {
   "codemirror_mode": {
    "name": "ipython",
    "version": 3
   },
   "file_extension": ".py",
   "mimetype": "text/x-python",
   "name": "python",
   "nbconvert_exporter": "python",
   "pygments_lexer": "ipython3",
   "version": "3.8.5"
  },
  "orig_nbformat": 2,
  "kernelspec": {
   "name": "python385jvsc74a57bd06e67b620515b60b5e0a41f61aaaaaa0b5713da87d04dedede882ceace4acc361",
   "display_name": "Python 3.8.5 64-bit (conda)"
  }
 },
 "nbformat": 4,
 "nbformat_minor": 2,
 "cells": [
  {
   "cell_type": "code",
   "execution_count": 6,
   "metadata": {},
   "outputs": [],
   "source": [
    "## Dependencies and setup\n",
    "import pandas as pd"
   ]
  },
  {
   "cell_type": "code",
   "execution_count": 7,
   "metadata": {},
   "outputs": [],
   "source": [
    "## Load data files\n",
    "hbcny_h1 = \"../../1_Extract/USDA-HB_Colony_Health_2019_and_2020/hbcny_+-_2019_q1_t005.csv\""
   ]
  },
  {
   "cell_type": "code",
   "execution_count": 8,
   "metadata": {},
   "outputs": [],
   "source": [
    "## Read data and store into df\n",
    "## Drop the first 5 rows which hold info text\n",
    "hbcny_h1 = pd.read_csv(hbcny_h1, skiprows=4)"
   ]
  },
  {
   "cell_type": "code",
   "execution_count": 9,
   "metadata": {},
   "outputs": [
    {
     "output_type": "execute_result",
     "data": {
      "text/plain": [
       "    5  h                                              State January 1  \\\n",
       "0   5  h                                                NaN  colonies   \n",
       "1   5  h                                                NaN       NaN   \n",
       "2   5  h                                                NaN       NaN   \n",
       "3   5  u                                                NaN  (number)   \n",
       "4   5  d                                            Alabama      5500   \n",
       ".. .. ..                                                ...       ...   \n",
       "61  5  f  1/ January 1 colonies plus all colonies moved ...       NaN   \n",
       "62  5  f  2/ Percent lost is the number of lost colonies...       NaN   \n",
       "63  5  f  3/ Defined as any surviving colony that was re...       NaN   \n",
       "64  5  f  4/ Percent renovated is the number of renovate...       NaN   \n",
       "65  5  f  5/ Includes data for States not published in t...       NaN   \n",
       "\n",
       "     Unnamed: 4 Unnamed: 5 Unnamed: 6 Unnamed: 7   Unnamed: 8    Unnamed: 9  \n",
       "0       Maximum       Lost    Percent      Added    Renovated       Percent  \n",
       "1   colonies 1/   colonies    lost 2/   colonies  colonies 3/  renovated 4/  \n",
       "2           NaN        NaN        NaN        NaN          NaN           NaN  \n",
       "3      (number)   (number)  (percent)   (number)     (number)     (percent)  \n",
       "4          5500        650         12        800          200             4  \n",
       "..          ...        ...        ...        ...          ...           ...  \n",
       "61          NaN        NaN        NaN        NaN          NaN           NaN  \n",
       "62          NaN        NaN        NaN        NaN          NaN           NaN  \n",
       "63          NaN        NaN        NaN        NaN          NaN           NaN  \n",
       "64          NaN        NaN        NaN        NaN          NaN           NaN  \n",
       "65          NaN        NaN        NaN        NaN          NaN           NaN  \n",
       "\n",
       "[66 rows x 10 columns]"
      ],
      "text/html": "<div>\n<style scoped>\n    .dataframe tbody tr th:only-of-type {\n        vertical-align: middle;\n    }\n\n    .dataframe tbody tr th {\n        vertical-align: top;\n    }\n\n    .dataframe thead th {\n        text-align: right;\n    }\n</style>\n<table border=\"1\" class=\"dataframe\">\n  <thead>\n    <tr style=\"text-align: right;\">\n      <th></th>\n      <th>5</th>\n      <th>h</th>\n      <th>State</th>\n      <th>January 1</th>\n      <th>Unnamed: 4</th>\n      <th>Unnamed: 5</th>\n      <th>Unnamed: 6</th>\n      <th>Unnamed: 7</th>\n      <th>Unnamed: 8</th>\n      <th>Unnamed: 9</th>\n    </tr>\n  </thead>\n  <tbody>\n    <tr>\n      <th>0</th>\n      <td>5</td>\n      <td>h</td>\n      <td>NaN</td>\n      <td>colonies</td>\n      <td>Maximum</td>\n      <td>Lost</td>\n      <td>Percent</td>\n      <td>Added</td>\n      <td>Renovated</td>\n      <td>Percent</td>\n    </tr>\n    <tr>\n      <th>1</th>\n      <td>5</td>\n      <td>h</td>\n      <td>NaN</td>\n      <td>NaN</td>\n      <td>colonies 1/</td>\n      <td>colonies</td>\n      <td>lost 2/</td>\n      <td>colonies</td>\n      <td>colonies 3/</td>\n      <td>renovated 4/</td>\n    </tr>\n    <tr>\n      <th>2</th>\n      <td>5</td>\n      <td>h</td>\n      <td>NaN</td>\n      <td>NaN</td>\n      <td>NaN</td>\n      <td>NaN</td>\n      <td>NaN</td>\n      <td>NaN</td>\n      <td>NaN</td>\n      <td>NaN</td>\n    </tr>\n    <tr>\n      <th>3</th>\n      <td>5</td>\n      <td>u</td>\n      <td>NaN</td>\n      <td>(number)</td>\n      <td>(number)</td>\n      <td>(number)</td>\n      <td>(percent)</td>\n      <td>(number)</td>\n      <td>(number)</td>\n      <td>(percent)</td>\n    </tr>\n    <tr>\n      <th>4</th>\n      <td>5</td>\n      <td>d</td>\n      <td>Alabama</td>\n      <td>5500</td>\n      <td>5500</td>\n      <td>650</td>\n      <td>12</td>\n      <td>800</td>\n      <td>200</td>\n      <td>4</td>\n    </tr>\n    <tr>\n      <th>...</th>\n      <td>...</td>\n      <td>...</td>\n      <td>...</td>\n      <td>...</td>\n      <td>...</td>\n      <td>...</td>\n      <td>...</td>\n      <td>...</td>\n      <td>...</td>\n      <td>...</td>\n    </tr>\n    <tr>\n      <th>61</th>\n      <td>5</td>\n      <td>f</td>\n      <td>1/ January 1 colonies plus all colonies moved ...</td>\n      <td>NaN</td>\n      <td>NaN</td>\n      <td>NaN</td>\n      <td>NaN</td>\n      <td>NaN</td>\n      <td>NaN</td>\n      <td>NaN</td>\n    </tr>\n    <tr>\n      <th>62</th>\n      <td>5</td>\n      <td>f</td>\n      <td>2/ Percent lost is the number of lost colonies...</td>\n      <td>NaN</td>\n      <td>NaN</td>\n      <td>NaN</td>\n      <td>NaN</td>\n      <td>NaN</td>\n      <td>NaN</td>\n      <td>NaN</td>\n    </tr>\n    <tr>\n      <th>63</th>\n      <td>5</td>\n      <td>f</td>\n      <td>3/ Defined as any surviving colony that was re...</td>\n      <td>NaN</td>\n      <td>NaN</td>\n      <td>NaN</td>\n      <td>NaN</td>\n      <td>NaN</td>\n      <td>NaN</td>\n      <td>NaN</td>\n    </tr>\n    <tr>\n      <th>64</th>\n      <td>5</td>\n      <td>f</td>\n      <td>4/ Percent renovated is the number of renovate...</td>\n      <td>NaN</td>\n      <td>NaN</td>\n      <td>NaN</td>\n      <td>NaN</td>\n      <td>NaN</td>\n      <td>NaN</td>\n      <td>NaN</td>\n    </tr>\n    <tr>\n      <th>65</th>\n      <td>5</td>\n      <td>f</td>\n      <td>5/ Includes data for States not published in t...</td>\n      <td>NaN</td>\n      <td>NaN</td>\n      <td>NaN</td>\n      <td>NaN</td>\n      <td>NaN</td>\n      <td>NaN</td>\n      <td>NaN</td>\n    </tr>\n  </tbody>\n</table>\n<p>66 rows × 10 columns</p>\n</div>"
     },
     "metadata": {},
     "execution_count": 9
    }
   ],
   "source": [
    "hbcny_h1"
   ]
  },
  {
   "cell_type": "code",
   "execution_count": 10,
   "metadata": {},
   "outputs": [
    {
     "output_type": "execute_result",
     "data": {
      "text/plain": [
       "     State January 1   Unnamed: 4 Unnamed: 5 Unnamed: 6 Unnamed: 7  \\\n",
       "0      NaN  colonies      Maximum       Lost    Percent      Added   \n",
       "1      NaN       NaN  colonies 1/   colonies    lost 2/   colonies   \n",
       "2      NaN       NaN          NaN        NaN        NaN        NaN   \n",
       "3      NaN  (number)     (number)   (number)  (percent)   (number)   \n",
       "4  Alabama      5500         5500        650         12        800   \n",
       "\n",
       "    Unnamed: 8    Unnamed: 9  \n",
       "0    Renovated       Percent  \n",
       "1  colonies 3/  renovated 4/  \n",
       "2          NaN           NaN  \n",
       "3     (number)     (percent)  \n",
       "4          200             4  "
      ],
      "text/html": "<div>\n<style scoped>\n    .dataframe tbody tr th:only-of-type {\n        vertical-align: middle;\n    }\n\n    .dataframe tbody tr th {\n        vertical-align: top;\n    }\n\n    .dataframe thead th {\n        text-align: right;\n    }\n</style>\n<table border=\"1\" class=\"dataframe\">\n  <thead>\n    <tr style=\"text-align: right;\">\n      <th></th>\n      <th>State</th>\n      <th>January 1</th>\n      <th>Unnamed: 4</th>\n      <th>Unnamed: 5</th>\n      <th>Unnamed: 6</th>\n      <th>Unnamed: 7</th>\n      <th>Unnamed: 8</th>\n      <th>Unnamed: 9</th>\n    </tr>\n  </thead>\n  <tbody>\n    <tr>\n      <th>0</th>\n      <td>NaN</td>\n      <td>colonies</td>\n      <td>Maximum</td>\n      <td>Lost</td>\n      <td>Percent</td>\n      <td>Added</td>\n      <td>Renovated</td>\n      <td>Percent</td>\n    </tr>\n    <tr>\n      <th>1</th>\n      <td>NaN</td>\n      <td>NaN</td>\n      <td>colonies 1/</td>\n      <td>colonies</td>\n      <td>lost 2/</td>\n      <td>colonies</td>\n      <td>colonies 3/</td>\n      <td>renovated 4/</td>\n    </tr>\n    <tr>\n      <th>2</th>\n      <td>NaN</td>\n      <td>NaN</td>\n      <td>NaN</td>\n      <td>NaN</td>\n      <td>NaN</td>\n      <td>NaN</td>\n      <td>NaN</td>\n      <td>NaN</td>\n    </tr>\n    <tr>\n      <th>3</th>\n      <td>NaN</td>\n      <td>(number)</td>\n      <td>(number)</td>\n      <td>(number)</td>\n      <td>(percent)</td>\n      <td>(number)</td>\n      <td>(number)</td>\n      <td>(percent)</td>\n    </tr>\n    <tr>\n      <th>4</th>\n      <td>Alabama</td>\n      <td>5500</td>\n      <td>5500</td>\n      <td>650</td>\n      <td>12</td>\n      <td>800</td>\n      <td>200</td>\n      <td>4</td>\n    </tr>\n  </tbody>\n</table>\n</div>"
     },
     "metadata": {},
     "execution_count": 10
    }
   ],
   "source": [
    "## Drop erroneous first 2 columns\n",
    "hbcny_h1 = hbcny_h1.drop(['5', 'h'], axis=1)\n",
    "\n",
    "## Drop erroneous last few rows\n",
    "hbcny_h1 = hbcny_h1.drop(hbcny_h1.index[56:66])\n",
    "\n",
    "hbcny_h1.head()"
   ]
  },
  {
   "cell_type": "code",
   "execution_count": 11,
   "metadata": {},
   "outputs": [
    {
     "output_type": "execute_result",
     "data": {
      "text/plain": [
       "              State # Colonies on 1 Jan Maximum Colonies Lost Colonies % Lost  \\\n",
       "4           Alabama                5500             5500           650     12   \n",
       "5           Arizona               22000            22000          2500     11   \n",
       "6          Arkansas               28000            28000          6500     23   \n",
       "7        California             1140000          1580000        235000     15   \n",
       "8          Colorado                5000             7500           320      4   \n",
       "9       Connecticut                3100             3100           270      9   \n",
       "10          Florida              300000           315000         46000     15   \n",
       "11          Georgia              120000           129000         14500     11   \n",
       "12           Hawaii               16500            16500           390      2   \n",
       "13            Idaho              132000           145000         12500      9   \n",
       "14              NaN                 NaN              NaN           NaN    NaN   \n",
       "15         Illinois                9000             9000          2300     26   \n",
       "16          Indiana                6000             6000           710     12   \n",
       "17             Iowa                7500            11500          1600     14   \n",
       "18           Kansas                4500             4500          1500     33   \n",
       "19         Kentucky                3700             4400           890     20   \n",
       "20        Louisiana               49000            51000          3500      7   \n",
       "21            Maine                7000             7000           470      7   \n",
       "22         Maryland                8000             8000          2300     29   \n",
       "23    Massachusetts                3800             3800           680     18   \n",
       "24         Michigan               24000            33000          6500     20   \n",
       "25              NaN                 NaN              NaN           NaN    NaN   \n",
       "26        Minnesota               17000            43000          2200      5   \n",
       "27      Mississippi               26000            29000          2400      8   \n",
       "28         Missouri                8500             8500          1100     13   \n",
       "29          Montana               37000            68000          3500      5   \n",
       "30         Nebraska               13500            16500          2500     15   \n",
       "31       New Jersey                6000             6000           310      5   \n",
       "32       New Mexico                4800             4800           170      4   \n",
       "33         New York               24000            24000          3400     14   \n",
       "34   North Carolina               10500            14500          1700     12   \n",
       "35     North Dakota               92000           102000          1100      1   \n",
       "36              NaN                 NaN              NaN           NaN    NaN   \n",
       "37             Ohio               10500            12500          3500     28   \n",
       "38         Oklahoma               21000            55000            50    (Z)   \n",
       "39           Oregon               89000            95000          7500      8   \n",
       "40     Pennsylvania               15000            15000          2900     19   \n",
       "41   South Carolina               12000            13000           690      5   \n",
       "42     South Dakota               18500            18500          1100      6   \n",
       "43        Tennessee                6000             7000          1500     21   \n",
       "44            Texas              260000           330000         17000      5   \n",
       "45             Utah                8500            11000          1800     16   \n",
       "46          Vermont                6500             6500           260      4   \n",
       "47              NaN                 NaN              NaN           NaN    NaN   \n",
       "48         Virginia                5500             5500          1100     20   \n",
       "49       Washington               51000            75000          7000      9   \n",
       "50    West Virginia                5000             7000          1300     19   \n",
       "51        Wisconsin               16500            17000          3700     22   \n",
       "52          Wyoming                6500             9500           250      3   \n",
       "53              NaN                 NaN              NaN           NaN    NaN   \n",
       "54  Other States 5/                6070             6070           590     10   \n",
       "55              NaN                 NaN              NaN           NaN    NaN   \n",
       "\n",
       "   Added Colonies Renovated Colonies % Renovated  \n",
       "4             800                200           4  \n",
       "5             430                 90         (Z)  \n",
       "6              20                 20         (Z)  \n",
       "7           83000              86000           5  \n",
       "8               -                  -           -  \n",
       "9             170                 10         (Z)  \n",
       "10          41000              16500           5  \n",
       "11          19500               8000           6  \n",
       "12            660               3700          22  \n",
       "13           4600               1100           1  \n",
       "14            NaN                NaN         NaN  \n",
       "15            210                 80           1  \n",
       "16            440                280           5  \n",
       "17            170                140           1  \n",
       "18            370                110           2  \n",
       "19             60                 30           1  \n",
       "20           9000              16000          31  \n",
       "21             10                 30         (Z)  \n",
       "22             30                 10         (Z)  \n",
       "23             60                 20           1  \n",
       "24              -                  -           -  \n",
       "25            NaN                NaN         NaN  \n",
       "26             80                470           1  \n",
       "27           3800               1700           6  \n",
       "28             80                 60           1  \n",
       "29           1700               1900           3  \n",
       "30              -                  -           -  \n",
       "31            130                 60           1  \n",
       "32              -                  -           -  \n",
       "33            110                 80         (Z)  \n",
       "34            750                890           6  \n",
       "35              -               1300           1  \n",
       "36            NaN                NaN         NaN  \n",
       "37           1700                440           4  \n",
       "38             20                  -           -  \n",
       "39           8000               1800           2  \n",
       "40            370                320           2  \n",
       "41           2000                340           3  \n",
       "42              -                  -           -  \n",
       "43            240                320           5  \n",
       "44          61000              35000          11  \n",
       "45            900                  -           -  \n",
       "46             50                (Z)         (Z)  \n",
       "47            NaN                NaN         NaN  \n",
       "48             80                110           2  \n",
       "49           5500               2200           3  \n",
       "50             20                 60           1  \n",
       "51            580                100           1  \n",
       "52              -                  -           -  \n",
       "53            NaN                NaN         NaN  \n",
       "54             70                 30         (Z)  \n",
       "55            NaN                NaN         NaN  "
      ],
      "text/html": "<div>\n<style scoped>\n    .dataframe tbody tr th:only-of-type {\n        vertical-align: middle;\n    }\n\n    .dataframe tbody tr th {\n        vertical-align: top;\n    }\n\n    .dataframe thead th {\n        text-align: right;\n    }\n</style>\n<table border=\"1\" class=\"dataframe\">\n  <thead>\n    <tr style=\"text-align: right;\">\n      <th></th>\n      <th>State</th>\n      <th># Colonies on 1 Jan</th>\n      <th>Maximum Colonies</th>\n      <th>Lost Colonies</th>\n      <th>% Lost</th>\n      <th>Added Colonies</th>\n      <th>Renovated Colonies</th>\n      <th>% Renovated</th>\n    </tr>\n  </thead>\n  <tbody>\n    <tr>\n      <th>4</th>\n      <td>Alabama</td>\n      <td>5500</td>\n      <td>5500</td>\n      <td>650</td>\n      <td>12</td>\n      <td>800</td>\n      <td>200</td>\n      <td>4</td>\n    </tr>\n    <tr>\n      <th>5</th>\n      <td>Arizona</td>\n      <td>22000</td>\n      <td>22000</td>\n      <td>2500</td>\n      <td>11</td>\n      <td>430</td>\n      <td>90</td>\n      <td>(Z)</td>\n    </tr>\n    <tr>\n      <th>6</th>\n      <td>Arkansas</td>\n      <td>28000</td>\n      <td>28000</td>\n      <td>6500</td>\n      <td>23</td>\n      <td>20</td>\n      <td>20</td>\n      <td>(Z)</td>\n    </tr>\n    <tr>\n      <th>7</th>\n      <td>California</td>\n      <td>1140000</td>\n      <td>1580000</td>\n      <td>235000</td>\n      <td>15</td>\n      <td>83000</td>\n      <td>86000</td>\n      <td>5</td>\n    </tr>\n    <tr>\n      <th>8</th>\n      <td>Colorado</td>\n      <td>5000</td>\n      <td>7500</td>\n      <td>320</td>\n      <td>4</td>\n      <td>-</td>\n      <td>-</td>\n      <td>-</td>\n    </tr>\n    <tr>\n      <th>9</th>\n      <td>Connecticut</td>\n      <td>3100</td>\n      <td>3100</td>\n      <td>270</td>\n      <td>9</td>\n      <td>170</td>\n      <td>10</td>\n      <td>(Z)</td>\n    </tr>\n    <tr>\n      <th>10</th>\n      <td>Florida</td>\n      <td>300000</td>\n      <td>315000</td>\n      <td>46000</td>\n      <td>15</td>\n      <td>41000</td>\n      <td>16500</td>\n      <td>5</td>\n    </tr>\n    <tr>\n      <th>11</th>\n      <td>Georgia</td>\n      <td>120000</td>\n      <td>129000</td>\n      <td>14500</td>\n      <td>11</td>\n      <td>19500</td>\n      <td>8000</td>\n      <td>6</td>\n    </tr>\n    <tr>\n      <th>12</th>\n      <td>Hawaii</td>\n      <td>16500</td>\n      <td>16500</td>\n      <td>390</td>\n      <td>2</td>\n      <td>660</td>\n      <td>3700</td>\n      <td>22</td>\n    </tr>\n    <tr>\n      <th>13</th>\n      <td>Idaho</td>\n      <td>132000</td>\n      <td>145000</td>\n      <td>12500</td>\n      <td>9</td>\n      <td>4600</td>\n      <td>1100</td>\n      <td>1</td>\n    </tr>\n    <tr>\n      <th>14</th>\n      <td>NaN</td>\n      <td>NaN</td>\n      <td>NaN</td>\n      <td>NaN</td>\n      <td>NaN</td>\n      <td>NaN</td>\n      <td>NaN</td>\n      <td>NaN</td>\n    </tr>\n    <tr>\n      <th>15</th>\n      <td>Illinois</td>\n      <td>9000</td>\n      <td>9000</td>\n      <td>2300</td>\n      <td>26</td>\n      <td>210</td>\n      <td>80</td>\n      <td>1</td>\n    </tr>\n    <tr>\n      <th>16</th>\n      <td>Indiana</td>\n      <td>6000</td>\n      <td>6000</td>\n      <td>710</td>\n      <td>12</td>\n      <td>440</td>\n      <td>280</td>\n      <td>5</td>\n    </tr>\n    <tr>\n      <th>17</th>\n      <td>Iowa</td>\n      <td>7500</td>\n      <td>11500</td>\n      <td>1600</td>\n      <td>14</td>\n      <td>170</td>\n      <td>140</td>\n      <td>1</td>\n    </tr>\n    <tr>\n      <th>18</th>\n      <td>Kansas</td>\n      <td>4500</td>\n      <td>4500</td>\n      <td>1500</td>\n      <td>33</td>\n      <td>370</td>\n      <td>110</td>\n      <td>2</td>\n    </tr>\n    <tr>\n      <th>19</th>\n      <td>Kentucky</td>\n      <td>3700</td>\n      <td>4400</td>\n      <td>890</td>\n      <td>20</td>\n      <td>60</td>\n      <td>30</td>\n      <td>1</td>\n    </tr>\n    <tr>\n      <th>20</th>\n      <td>Louisiana</td>\n      <td>49000</td>\n      <td>51000</td>\n      <td>3500</td>\n      <td>7</td>\n      <td>9000</td>\n      <td>16000</td>\n      <td>31</td>\n    </tr>\n    <tr>\n      <th>21</th>\n      <td>Maine</td>\n      <td>7000</td>\n      <td>7000</td>\n      <td>470</td>\n      <td>7</td>\n      <td>10</td>\n      <td>30</td>\n      <td>(Z)</td>\n    </tr>\n    <tr>\n      <th>22</th>\n      <td>Maryland</td>\n      <td>8000</td>\n      <td>8000</td>\n      <td>2300</td>\n      <td>29</td>\n      <td>30</td>\n      <td>10</td>\n      <td>(Z)</td>\n    </tr>\n    <tr>\n      <th>23</th>\n      <td>Massachusetts</td>\n      <td>3800</td>\n      <td>3800</td>\n      <td>680</td>\n      <td>18</td>\n      <td>60</td>\n      <td>20</td>\n      <td>1</td>\n    </tr>\n    <tr>\n      <th>24</th>\n      <td>Michigan</td>\n      <td>24000</td>\n      <td>33000</td>\n      <td>6500</td>\n      <td>20</td>\n      <td>-</td>\n      <td>-</td>\n      <td>-</td>\n    </tr>\n    <tr>\n      <th>25</th>\n      <td>NaN</td>\n      <td>NaN</td>\n      <td>NaN</td>\n      <td>NaN</td>\n      <td>NaN</td>\n      <td>NaN</td>\n      <td>NaN</td>\n      <td>NaN</td>\n    </tr>\n    <tr>\n      <th>26</th>\n      <td>Minnesota</td>\n      <td>17000</td>\n      <td>43000</td>\n      <td>2200</td>\n      <td>5</td>\n      <td>80</td>\n      <td>470</td>\n      <td>1</td>\n    </tr>\n    <tr>\n      <th>27</th>\n      <td>Mississippi</td>\n      <td>26000</td>\n      <td>29000</td>\n      <td>2400</td>\n      <td>8</td>\n      <td>3800</td>\n      <td>1700</td>\n      <td>6</td>\n    </tr>\n    <tr>\n      <th>28</th>\n      <td>Missouri</td>\n      <td>8500</td>\n      <td>8500</td>\n      <td>1100</td>\n      <td>13</td>\n      <td>80</td>\n      <td>60</td>\n      <td>1</td>\n    </tr>\n    <tr>\n      <th>29</th>\n      <td>Montana</td>\n      <td>37000</td>\n      <td>68000</td>\n      <td>3500</td>\n      <td>5</td>\n      <td>1700</td>\n      <td>1900</td>\n      <td>3</td>\n    </tr>\n    <tr>\n      <th>30</th>\n      <td>Nebraska</td>\n      <td>13500</td>\n      <td>16500</td>\n      <td>2500</td>\n      <td>15</td>\n      <td>-</td>\n      <td>-</td>\n      <td>-</td>\n    </tr>\n    <tr>\n      <th>31</th>\n      <td>New Jersey</td>\n      <td>6000</td>\n      <td>6000</td>\n      <td>310</td>\n      <td>5</td>\n      <td>130</td>\n      <td>60</td>\n      <td>1</td>\n    </tr>\n    <tr>\n      <th>32</th>\n      <td>New Mexico</td>\n      <td>4800</td>\n      <td>4800</td>\n      <td>170</td>\n      <td>4</td>\n      <td>-</td>\n      <td>-</td>\n      <td>-</td>\n    </tr>\n    <tr>\n      <th>33</th>\n      <td>New York</td>\n      <td>24000</td>\n      <td>24000</td>\n      <td>3400</td>\n      <td>14</td>\n      <td>110</td>\n      <td>80</td>\n      <td>(Z)</td>\n    </tr>\n    <tr>\n      <th>34</th>\n      <td>North Carolina</td>\n      <td>10500</td>\n      <td>14500</td>\n      <td>1700</td>\n      <td>12</td>\n      <td>750</td>\n      <td>890</td>\n      <td>6</td>\n    </tr>\n    <tr>\n      <th>35</th>\n      <td>North Dakota</td>\n      <td>92000</td>\n      <td>102000</td>\n      <td>1100</td>\n      <td>1</td>\n      <td>-</td>\n      <td>1300</td>\n      <td>1</td>\n    </tr>\n    <tr>\n      <th>36</th>\n      <td>NaN</td>\n      <td>NaN</td>\n      <td>NaN</td>\n      <td>NaN</td>\n      <td>NaN</td>\n      <td>NaN</td>\n      <td>NaN</td>\n      <td>NaN</td>\n    </tr>\n    <tr>\n      <th>37</th>\n      <td>Ohio</td>\n      <td>10500</td>\n      <td>12500</td>\n      <td>3500</td>\n      <td>28</td>\n      <td>1700</td>\n      <td>440</td>\n      <td>4</td>\n    </tr>\n    <tr>\n      <th>38</th>\n      <td>Oklahoma</td>\n      <td>21000</td>\n      <td>55000</td>\n      <td>50</td>\n      <td>(Z)</td>\n      <td>20</td>\n      <td>-</td>\n      <td>-</td>\n    </tr>\n    <tr>\n      <th>39</th>\n      <td>Oregon</td>\n      <td>89000</td>\n      <td>95000</td>\n      <td>7500</td>\n      <td>8</td>\n      <td>8000</td>\n      <td>1800</td>\n      <td>2</td>\n    </tr>\n    <tr>\n      <th>40</th>\n      <td>Pennsylvania</td>\n      <td>15000</td>\n      <td>15000</td>\n      <td>2900</td>\n      <td>19</td>\n      <td>370</td>\n      <td>320</td>\n      <td>2</td>\n    </tr>\n    <tr>\n      <th>41</th>\n      <td>South Carolina</td>\n      <td>12000</td>\n      <td>13000</td>\n      <td>690</td>\n      <td>5</td>\n      <td>2000</td>\n      <td>340</td>\n      <td>3</td>\n    </tr>\n    <tr>\n      <th>42</th>\n      <td>South Dakota</td>\n      <td>18500</td>\n      <td>18500</td>\n      <td>1100</td>\n      <td>6</td>\n      <td>-</td>\n      <td>-</td>\n      <td>-</td>\n    </tr>\n    <tr>\n      <th>43</th>\n      <td>Tennessee</td>\n      <td>6000</td>\n      <td>7000</td>\n      <td>1500</td>\n      <td>21</td>\n      <td>240</td>\n      <td>320</td>\n      <td>5</td>\n    </tr>\n    <tr>\n      <th>44</th>\n      <td>Texas</td>\n      <td>260000</td>\n      <td>330000</td>\n      <td>17000</td>\n      <td>5</td>\n      <td>61000</td>\n      <td>35000</td>\n      <td>11</td>\n    </tr>\n    <tr>\n      <th>45</th>\n      <td>Utah</td>\n      <td>8500</td>\n      <td>11000</td>\n      <td>1800</td>\n      <td>16</td>\n      <td>900</td>\n      <td>-</td>\n      <td>-</td>\n    </tr>\n    <tr>\n      <th>46</th>\n      <td>Vermont</td>\n      <td>6500</td>\n      <td>6500</td>\n      <td>260</td>\n      <td>4</td>\n      <td>50</td>\n      <td>(Z)</td>\n      <td>(Z)</td>\n    </tr>\n    <tr>\n      <th>47</th>\n      <td>NaN</td>\n      <td>NaN</td>\n      <td>NaN</td>\n      <td>NaN</td>\n      <td>NaN</td>\n      <td>NaN</td>\n      <td>NaN</td>\n      <td>NaN</td>\n    </tr>\n    <tr>\n      <th>48</th>\n      <td>Virginia</td>\n      <td>5500</td>\n      <td>5500</td>\n      <td>1100</td>\n      <td>20</td>\n      <td>80</td>\n      <td>110</td>\n      <td>2</td>\n    </tr>\n    <tr>\n      <th>49</th>\n      <td>Washington</td>\n      <td>51000</td>\n      <td>75000</td>\n      <td>7000</td>\n      <td>9</td>\n      <td>5500</td>\n      <td>2200</td>\n      <td>3</td>\n    </tr>\n    <tr>\n      <th>50</th>\n      <td>West Virginia</td>\n      <td>5000</td>\n      <td>7000</td>\n      <td>1300</td>\n      <td>19</td>\n      <td>20</td>\n      <td>60</td>\n      <td>1</td>\n    </tr>\n    <tr>\n      <th>51</th>\n      <td>Wisconsin</td>\n      <td>16500</td>\n      <td>17000</td>\n      <td>3700</td>\n      <td>22</td>\n      <td>580</td>\n      <td>100</td>\n      <td>1</td>\n    </tr>\n    <tr>\n      <th>52</th>\n      <td>Wyoming</td>\n      <td>6500</td>\n      <td>9500</td>\n      <td>250</td>\n      <td>3</td>\n      <td>-</td>\n      <td>-</td>\n      <td>-</td>\n    </tr>\n    <tr>\n      <th>53</th>\n      <td>NaN</td>\n      <td>NaN</td>\n      <td>NaN</td>\n      <td>NaN</td>\n      <td>NaN</td>\n      <td>NaN</td>\n      <td>NaN</td>\n      <td>NaN</td>\n    </tr>\n    <tr>\n      <th>54</th>\n      <td>Other States 5/</td>\n      <td>6070</td>\n      <td>6070</td>\n      <td>590</td>\n      <td>10</td>\n      <td>70</td>\n      <td>30</td>\n      <td>(Z)</td>\n    </tr>\n    <tr>\n      <th>55</th>\n      <td>NaN</td>\n      <td>NaN</td>\n      <td>NaN</td>\n      <td>NaN</td>\n      <td>NaN</td>\n      <td>NaN</td>\n      <td>NaN</td>\n      <td>NaN</td>\n    </tr>\n  </tbody>\n</table>\n</div>"
     },
     "metadata": {},
     "execution_count": 11
    }
   ],
   "source": [
    "## Rename column with Row [0] text and then drop Rows [0-3]\n",
    "\n",
    "hbcny_h1 = hbcny_h1.rename(columns={\n",
    "    \"January 1\": \"# Colonies on 1 Jan\",\n",
    "    \"Unnamed: 4\": \"Maximum Colonies\",\n",
    "    \"Unnamed: 5\": \"Lost Colonies\",\n",
    "    \"Unnamed: 6\": \"% Lost\",\n",
    "    \"Unnamed: 7\": \"Added Colonies\",\n",
    "    \"Unnamed: 8\": \"Renovated Colonies\",\n",
    "    \"Unnamed: 9\": \"% Renovated\"})\n",
    "\n",
    "hbcny_h1 = hbcny_h1.drop(range(4))\n",
    "\n",
    "hbcny_h1"
   ]
  },
  {
   "cell_type": "code",
   "execution_count": 12,
   "metadata": {},
   "outputs": [
    {
     "output_type": "execute_result",
     "data": {
      "text/plain": [
       "              State # Colonies on 1 Jan Maximum Colonies Lost Colonies % Lost  \\\n",
       "49       Washington               51000            75000          7000      9   \n",
       "50    West Virginia                5000             7000          1300     19   \n",
       "51        Wisconsin               16500            17000          3700     22   \n",
       "52          Wyoming                6500             9500           250      3   \n",
       "54  Other States 5/                6070             6070           590     10   \n",
       "\n",
       "   Added Colonies Renovated Colonies % Renovated  \n",
       "49           5500               2200           3  \n",
       "50             20                 60           1  \n",
       "51            580                100           1  \n",
       "52              -                  -           -  \n",
       "54             70                 30         (Z)  "
      ],
      "text/html": "<div>\n<style scoped>\n    .dataframe tbody tr th:only-of-type {\n        vertical-align: middle;\n    }\n\n    .dataframe tbody tr th {\n        vertical-align: top;\n    }\n\n    .dataframe thead th {\n        text-align: right;\n    }\n</style>\n<table border=\"1\" class=\"dataframe\">\n  <thead>\n    <tr style=\"text-align: right;\">\n      <th></th>\n      <th>State</th>\n      <th># Colonies on 1 Jan</th>\n      <th>Maximum Colonies</th>\n      <th>Lost Colonies</th>\n      <th>% Lost</th>\n      <th>Added Colonies</th>\n      <th>Renovated Colonies</th>\n      <th>% Renovated</th>\n    </tr>\n  </thead>\n  <tbody>\n    <tr>\n      <th>49</th>\n      <td>Washington</td>\n      <td>51000</td>\n      <td>75000</td>\n      <td>7000</td>\n      <td>9</td>\n      <td>5500</td>\n      <td>2200</td>\n      <td>3</td>\n    </tr>\n    <tr>\n      <th>50</th>\n      <td>West Virginia</td>\n      <td>5000</td>\n      <td>7000</td>\n      <td>1300</td>\n      <td>19</td>\n      <td>20</td>\n      <td>60</td>\n      <td>1</td>\n    </tr>\n    <tr>\n      <th>51</th>\n      <td>Wisconsin</td>\n      <td>16500</td>\n      <td>17000</td>\n      <td>3700</td>\n      <td>22</td>\n      <td>580</td>\n      <td>100</td>\n      <td>1</td>\n    </tr>\n    <tr>\n      <th>52</th>\n      <td>Wyoming</td>\n      <td>6500</td>\n      <td>9500</td>\n      <td>250</td>\n      <td>3</td>\n      <td>-</td>\n      <td>-</td>\n      <td>-</td>\n    </tr>\n    <tr>\n      <th>54</th>\n      <td>Other States 5/</td>\n      <td>6070</td>\n      <td>6070</td>\n      <td>590</td>\n      <td>10</td>\n      <td>70</td>\n      <td>30</td>\n      <td>(Z)</td>\n    </tr>\n  </tbody>\n</table>\n</div>"
     },
     "metadata": {},
     "execution_count": 12
    }
   ],
   "source": [
    "hbcny_h1 = hbcny_h1.dropna()\n",
    "hbcny_h1.tail()"
   ]
  },
  {
   "cell_type": "code",
   "execution_count": 13,
   "metadata": {},
   "outputs": [
    {
     "output_type": "stream",
     "name": "stderr",
     "text": [
      "C:\\Users\\Daniel Ramirez\\anaconda3\\lib\\site-packages\\pandas\\core\\indexing.py:670: SettingWithCopyWarning: \nA value is trying to be set on a copy of a slice from a DataFrame\n\nSee the caveats in the documentation: https://pandas.pydata.org/pandas-docs/stable/user_guide/indexing.html#returning-a-view-versus-a-copy\n  iloc._setitem_with_indexer(indexer, value)\n<ipython-input-13-93129e7bb29a>:1: SettingWithCopyWarning: \nA value is trying to be set on a copy of a slice from a DataFrame\n\nSee the caveats in the documentation: https://pandas.pydata.org/pandas-docs/stable/user_guide/indexing.html#returning-a-view-versus-a-copy\n  hbcny_h1.loc[54, \"State\"] = \"Other States\"\n"
     ]
    },
    {
     "output_type": "execute_result",
     "data": {
      "text/plain": [
       "            State # Colonies on 1 Jan Maximum Colonies Lost Colonies % Lost  \\\n",
       "49     Washington               51000            75000          7000      9   \n",
       "50  West Virginia                5000             7000          1300     19   \n",
       "51      Wisconsin               16500            17000          3700     22   \n",
       "52        Wyoming                6500             9500           250      3   \n",
       "54   Other States                6070             6070           590     10   \n",
       "\n",
       "   Added Colonies Renovated Colonies % Renovated  \n",
       "49           5500               2200           3  \n",
       "50             20                 60           1  \n",
       "51            580                100           1  \n",
       "52              -                  -           -  \n",
       "54             70                 30         (Z)  "
      ],
      "text/html": "<div>\n<style scoped>\n    .dataframe tbody tr th:only-of-type {\n        vertical-align: middle;\n    }\n\n    .dataframe tbody tr th {\n        vertical-align: top;\n    }\n\n    .dataframe thead th {\n        text-align: right;\n    }\n</style>\n<table border=\"1\" class=\"dataframe\">\n  <thead>\n    <tr style=\"text-align: right;\">\n      <th></th>\n      <th>State</th>\n      <th># Colonies on 1 Jan</th>\n      <th>Maximum Colonies</th>\n      <th>Lost Colonies</th>\n      <th>% Lost</th>\n      <th>Added Colonies</th>\n      <th>Renovated Colonies</th>\n      <th>% Renovated</th>\n    </tr>\n  </thead>\n  <tbody>\n    <tr>\n      <th>49</th>\n      <td>Washington</td>\n      <td>51000</td>\n      <td>75000</td>\n      <td>7000</td>\n      <td>9</td>\n      <td>5500</td>\n      <td>2200</td>\n      <td>3</td>\n    </tr>\n    <tr>\n      <th>50</th>\n      <td>West Virginia</td>\n      <td>5000</td>\n      <td>7000</td>\n      <td>1300</td>\n      <td>19</td>\n      <td>20</td>\n      <td>60</td>\n      <td>1</td>\n    </tr>\n    <tr>\n      <th>51</th>\n      <td>Wisconsin</td>\n      <td>16500</td>\n      <td>17000</td>\n      <td>3700</td>\n      <td>22</td>\n      <td>580</td>\n      <td>100</td>\n      <td>1</td>\n    </tr>\n    <tr>\n      <th>52</th>\n      <td>Wyoming</td>\n      <td>6500</td>\n      <td>9500</td>\n      <td>250</td>\n      <td>3</td>\n      <td>-</td>\n      <td>-</td>\n      <td>-</td>\n    </tr>\n    <tr>\n      <th>54</th>\n      <td>Other States</td>\n      <td>6070</td>\n      <td>6070</td>\n      <td>590</td>\n      <td>10</td>\n      <td>70</td>\n      <td>30</td>\n      <td>(Z)</td>\n    </tr>\n  </tbody>\n</table>\n</div>"
     },
     "metadata": {},
     "execution_count": 13
    }
   ],
   "source": [
    "hbcny_h1.loc[54, \"State\"] = \"Other States\"\n",
    "hbcny_h1.tail()"
   ]
  },
  {
   "cell_type": "code",
   "execution_count": 14,
   "metadata": {},
   "outputs": [
    {
     "output_type": "execute_result",
     "data": {
      "text/plain": [
       "             State # Colonies on 1 Jan Maximum Colonies Lost Colonies % Lost  \\\n",
       "0          Alabama                5500             5500           650     12   \n",
       "1          Arizona               22000            22000          2500     11   \n",
       "2         Arkansas               28000            28000          6500     23   \n",
       "3       California             1140000          1580000        235000     15   \n",
       "4         Colorado                5000             7500           320      4   \n",
       "5      Connecticut                3100             3100           270      9   \n",
       "6          Florida              300000           315000         46000     15   \n",
       "7          Georgia              120000           129000         14500     11   \n",
       "8           Hawaii               16500            16500           390      2   \n",
       "9            Idaho              132000           145000         12500      9   \n",
       "10        Illinois                9000             9000          2300     26   \n",
       "11         Indiana                6000             6000           710     12   \n",
       "12            Iowa                7500            11500          1600     14   \n",
       "13          Kansas                4500             4500          1500     33   \n",
       "14        Kentucky                3700             4400           890     20   \n",
       "15       Louisiana               49000            51000          3500      7   \n",
       "16           Maine                7000             7000           470      7   \n",
       "17        Maryland                8000             8000          2300     29   \n",
       "18   Massachusetts                3800             3800           680     18   \n",
       "19        Michigan               24000            33000          6500     20   \n",
       "20       Minnesota               17000            43000          2200      5   \n",
       "21     Mississippi               26000            29000          2400      8   \n",
       "22        Missouri                8500             8500          1100     13   \n",
       "23         Montana               37000            68000          3500      5   \n",
       "24        Nebraska               13500            16500          2500     15   \n",
       "25      New Jersey                6000             6000           310      5   \n",
       "26      New Mexico                4800             4800           170      4   \n",
       "27        New York               24000            24000          3400     14   \n",
       "28  North Carolina               10500            14500          1700     12   \n",
       "29    North Dakota               92000           102000          1100      1   \n",
       "30            Ohio               10500            12500          3500     28   \n",
       "31        Oklahoma               21000            55000            50    (Z)   \n",
       "32          Oregon               89000            95000          7500      8   \n",
       "33    Pennsylvania               15000            15000          2900     19   \n",
       "34  South Carolina               12000            13000           690      5   \n",
       "35    South Dakota               18500            18500          1100      6   \n",
       "36       Tennessee                6000             7000          1500     21   \n",
       "37           Texas              260000           330000         17000      5   \n",
       "38            Utah                8500            11000          1800     16   \n",
       "39         Vermont                6500             6500           260      4   \n",
       "40        Virginia                5500             5500          1100     20   \n",
       "41      Washington               51000            75000          7000      9   \n",
       "42   West Virginia                5000             7000          1300     19   \n",
       "43       Wisconsin               16500            17000          3700     22   \n",
       "44         Wyoming                6500             9500           250      3   \n",
       "45    Other States                6070             6070           590     10   \n",
       "\n",
       "   Added Colonies Renovated Colonies % Renovated  \n",
       "0             800                200           4  \n",
       "1             430                 90         (Z)  \n",
       "2              20                 20         (Z)  \n",
       "3           83000              86000           5  \n",
       "4               -                  -           -  \n",
       "5             170                 10         (Z)  \n",
       "6           41000              16500           5  \n",
       "7           19500               8000           6  \n",
       "8             660               3700          22  \n",
       "9            4600               1100           1  \n",
       "10            210                 80           1  \n",
       "11            440                280           5  \n",
       "12            170                140           1  \n",
       "13            370                110           2  \n",
       "14             60                 30           1  \n",
       "15           9000              16000          31  \n",
       "16             10                 30         (Z)  \n",
       "17             30                 10         (Z)  \n",
       "18             60                 20           1  \n",
       "19              -                  -           -  \n",
       "20             80                470           1  \n",
       "21           3800               1700           6  \n",
       "22             80                 60           1  \n",
       "23           1700               1900           3  \n",
       "24              -                  -           -  \n",
       "25            130                 60           1  \n",
       "26              -                  -           -  \n",
       "27            110                 80         (Z)  \n",
       "28            750                890           6  \n",
       "29              -               1300           1  \n",
       "30           1700                440           4  \n",
       "31             20                  -           -  \n",
       "32           8000               1800           2  \n",
       "33            370                320           2  \n",
       "34           2000                340           3  \n",
       "35              -                  -           -  \n",
       "36            240                320           5  \n",
       "37          61000              35000          11  \n",
       "38            900                  -           -  \n",
       "39             50                (Z)         (Z)  \n",
       "40             80                110           2  \n",
       "41           5500               2200           3  \n",
       "42             20                 60           1  \n",
       "43            580                100           1  \n",
       "44              -                  -           -  \n",
       "45             70                 30         (Z)  "
      ],
      "text/html": "<div>\n<style scoped>\n    .dataframe tbody tr th:only-of-type {\n        vertical-align: middle;\n    }\n\n    .dataframe tbody tr th {\n        vertical-align: top;\n    }\n\n    .dataframe thead th {\n        text-align: right;\n    }\n</style>\n<table border=\"1\" class=\"dataframe\">\n  <thead>\n    <tr style=\"text-align: right;\">\n      <th></th>\n      <th>State</th>\n      <th># Colonies on 1 Jan</th>\n      <th>Maximum Colonies</th>\n      <th>Lost Colonies</th>\n      <th>% Lost</th>\n      <th>Added Colonies</th>\n      <th>Renovated Colonies</th>\n      <th>% Renovated</th>\n    </tr>\n  </thead>\n  <tbody>\n    <tr>\n      <th>0</th>\n      <td>Alabama</td>\n      <td>5500</td>\n      <td>5500</td>\n      <td>650</td>\n      <td>12</td>\n      <td>800</td>\n      <td>200</td>\n      <td>4</td>\n    </tr>\n    <tr>\n      <th>1</th>\n      <td>Arizona</td>\n      <td>22000</td>\n      <td>22000</td>\n      <td>2500</td>\n      <td>11</td>\n      <td>430</td>\n      <td>90</td>\n      <td>(Z)</td>\n    </tr>\n    <tr>\n      <th>2</th>\n      <td>Arkansas</td>\n      <td>28000</td>\n      <td>28000</td>\n      <td>6500</td>\n      <td>23</td>\n      <td>20</td>\n      <td>20</td>\n      <td>(Z)</td>\n    </tr>\n    <tr>\n      <th>3</th>\n      <td>California</td>\n      <td>1140000</td>\n      <td>1580000</td>\n      <td>235000</td>\n      <td>15</td>\n      <td>83000</td>\n      <td>86000</td>\n      <td>5</td>\n    </tr>\n    <tr>\n      <th>4</th>\n      <td>Colorado</td>\n      <td>5000</td>\n      <td>7500</td>\n      <td>320</td>\n      <td>4</td>\n      <td>-</td>\n      <td>-</td>\n      <td>-</td>\n    </tr>\n    <tr>\n      <th>5</th>\n      <td>Connecticut</td>\n      <td>3100</td>\n      <td>3100</td>\n      <td>270</td>\n      <td>9</td>\n      <td>170</td>\n      <td>10</td>\n      <td>(Z)</td>\n    </tr>\n    <tr>\n      <th>6</th>\n      <td>Florida</td>\n      <td>300000</td>\n      <td>315000</td>\n      <td>46000</td>\n      <td>15</td>\n      <td>41000</td>\n      <td>16500</td>\n      <td>5</td>\n    </tr>\n    <tr>\n      <th>7</th>\n      <td>Georgia</td>\n      <td>120000</td>\n      <td>129000</td>\n      <td>14500</td>\n      <td>11</td>\n      <td>19500</td>\n      <td>8000</td>\n      <td>6</td>\n    </tr>\n    <tr>\n      <th>8</th>\n      <td>Hawaii</td>\n      <td>16500</td>\n      <td>16500</td>\n      <td>390</td>\n      <td>2</td>\n      <td>660</td>\n      <td>3700</td>\n      <td>22</td>\n    </tr>\n    <tr>\n      <th>9</th>\n      <td>Idaho</td>\n      <td>132000</td>\n      <td>145000</td>\n      <td>12500</td>\n      <td>9</td>\n      <td>4600</td>\n      <td>1100</td>\n      <td>1</td>\n    </tr>\n    <tr>\n      <th>10</th>\n      <td>Illinois</td>\n      <td>9000</td>\n      <td>9000</td>\n      <td>2300</td>\n      <td>26</td>\n      <td>210</td>\n      <td>80</td>\n      <td>1</td>\n    </tr>\n    <tr>\n      <th>11</th>\n      <td>Indiana</td>\n      <td>6000</td>\n      <td>6000</td>\n      <td>710</td>\n      <td>12</td>\n      <td>440</td>\n      <td>280</td>\n      <td>5</td>\n    </tr>\n    <tr>\n      <th>12</th>\n      <td>Iowa</td>\n      <td>7500</td>\n      <td>11500</td>\n      <td>1600</td>\n      <td>14</td>\n      <td>170</td>\n      <td>140</td>\n      <td>1</td>\n    </tr>\n    <tr>\n      <th>13</th>\n      <td>Kansas</td>\n      <td>4500</td>\n      <td>4500</td>\n      <td>1500</td>\n      <td>33</td>\n      <td>370</td>\n      <td>110</td>\n      <td>2</td>\n    </tr>\n    <tr>\n      <th>14</th>\n      <td>Kentucky</td>\n      <td>3700</td>\n      <td>4400</td>\n      <td>890</td>\n      <td>20</td>\n      <td>60</td>\n      <td>30</td>\n      <td>1</td>\n    </tr>\n    <tr>\n      <th>15</th>\n      <td>Louisiana</td>\n      <td>49000</td>\n      <td>51000</td>\n      <td>3500</td>\n      <td>7</td>\n      <td>9000</td>\n      <td>16000</td>\n      <td>31</td>\n    </tr>\n    <tr>\n      <th>16</th>\n      <td>Maine</td>\n      <td>7000</td>\n      <td>7000</td>\n      <td>470</td>\n      <td>7</td>\n      <td>10</td>\n      <td>30</td>\n      <td>(Z)</td>\n    </tr>\n    <tr>\n      <th>17</th>\n      <td>Maryland</td>\n      <td>8000</td>\n      <td>8000</td>\n      <td>2300</td>\n      <td>29</td>\n      <td>30</td>\n      <td>10</td>\n      <td>(Z)</td>\n    </tr>\n    <tr>\n      <th>18</th>\n      <td>Massachusetts</td>\n      <td>3800</td>\n      <td>3800</td>\n      <td>680</td>\n      <td>18</td>\n      <td>60</td>\n      <td>20</td>\n      <td>1</td>\n    </tr>\n    <tr>\n      <th>19</th>\n      <td>Michigan</td>\n      <td>24000</td>\n      <td>33000</td>\n      <td>6500</td>\n      <td>20</td>\n      <td>-</td>\n      <td>-</td>\n      <td>-</td>\n    </tr>\n    <tr>\n      <th>20</th>\n      <td>Minnesota</td>\n      <td>17000</td>\n      <td>43000</td>\n      <td>2200</td>\n      <td>5</td>\n      <td>80</td>\n      <td>470</td>\n      <td>1</td>\n    </tr>\n    <tr>\n      <th>21</th>\n      <td>Mississippi</td>\n      <td>26000</td>\n      <td>29000</td>\n      <td>2400</td>\n      <td>8</td>\n      <td>3800</td>\n      <td>1700</td>\n      <td>6</td>\n    </tr>\n    <tr>\n      <th>22</th>\n      <td>Missouri</td>\n      <td>8500</td>\n      <td>8500</td>\n      <td>1100</td>\n      <td>13</td>\n      <td>80</td>\n      <td>60</td>\n      <td>1</td>\n    </tr>\n    <tr>\n      <th>23</th>\n      <td>Montana</td>\n      <td>37000</td>\n      <td>68000</td>\n      <td>3500</td>\n      <td>5</td>\n      <td>1700</td>\n      <td>1900</td>\n      <td>3</td>\n    </tr>\n    <tr>\n      <th>24</th>\n      <td>Nebraska</td>\n      <td>13500</td>\n      <td>16500</td>\n      <td>2500</td>\n      <td>15</td>\n      <td>-</td>\n      <td>-</td>\n      <td>-</td>\n    </tr>\n    <tr>\n      <th>25</th>\n      <td>New Jersey</td>\n      <td>6000</td>\n      <td>6000</td>\n      <td>310</td>\n      <td>5</td>\n      <td>130</td>\n      <td>60</td>\n      <td>1</td>\n    </tr>\n    <tr>\n      <th>26</th>\n      <td>New Mexico</td>\n      <td>4800</td>\n      <td>4800</td>\n      <td>170</td>\n      <td>4</td>\n      <td>-</td>\n      <td>-</td>\n      <td>-</td>\n    </tr>\n    <tr>\n      <th>27</th>\n      <td>New York</td>\n      <td>24000</td>\n      <td>24000</td>\n      <td>3400</td>\n      <td>14</td>\n      <td>110</td>\n      <td>80</td>\n      <td>(Z)</td>\n    </tr>\n    <tr>\n      <th>28</th>\n      <td>North Carolina</td>\n      <td>10500</td>\n      <td>14500</td>\n      <td>1700</td>\n      <td>12</td>\n      <td>750</td>\n      <td>890</td>\n      <td>6</td>\n    </tr>\n    <tr>\n      <th>29</th>\n      <td>North Dakota</td>\n      <td>92000</td>\n      <td>102000</td>\n      <td>1100</td>\n      <td>1</td>\n      <td>-</td>\n      <td>1300</td>\n      <td>1</td>\n    </tr>\n    <tr>\n      <th>30</th>\n      <td>Ohio</td>\n      <td>10500</td>\n      <td>12500</td>\n      <td>3500</td>\n      <td>28</td>\n      <td>1700</td>\n      <td>440</td>\n      <td>4</td>\n    </tr>\n    <tr>\n      <th>31</th>\n      <td>Oklahoma</td>\n      <td>21000</td>\n      <td>55000</td>\n      <td>50</td>\n      <td>(Z)</td>\n      <td>20</td>\n      <td>-</td>\n      <td>-</td>\n    </tr>\n    <tr>\n      <th>32</th>\n      <td>Oregon</td>\n      <td>89000</td>\n      <td>95000</td>\n      <td>7500</td>\n      <td>8</td>\n      <td>8000</td>\n      <td>1800</td>\n      <td>2</td>\n    </tr>\n    <tr>\n      <th>33</th>\n      <td>Pennsylvania</td>\n      <td>15000</td>\n      <td>15000</td>\n      <td>2900</td>\n      <td>19</td>\n      <td>370</td>\n      <td>320</td>\n      <td>2</td>\n    </tr>\n    <tr>\n      <th>34</th>\n      <td>South Carolina</td>\n      <td>12000</td>\n      <td>13000</td>\n      <td>690</td>\n      <td>5</td>\n      <td>2000</td>\n      <td>340</td>\n      <td>3</td>\n    </tr>\n    <tr>\n      <th>35</th>\n      <td>South Dakota</td>\n      <td>18500</td>\n      <td>18500</td>\n      <td>1100</td>\n      <td>6</td>\n      <td>-</td>\n      <td>-</td>\n      <td>-</td>\n    </tr>\n    <tr>\n      <th>36</th>\n      <td>Tennessee</td>\n      <td>6000</td>\n      <td>7000</td>\n      <td>1500</td>\n      <td>21</td>\n      <td>240</td>\n      <td>320</td>\n      <td>5</td>\n    </tr>\n    <tr>\n      <th>37</th>\n      <td>Texas</td>\n      <td>260000</td>\n      <td>330000</td>\n      <td>17000</td>\n      <td>5</td>\n      <td>61000</td>\n      <td>35000</td>\n      <td>11</td>\n    </tr>\n    <tr>\n      <th>38</th>\n      <td>Utah</td>\n      <td>8500</td>\n      <td>11000</td>\n      <td>1800</td>\n      <td>16</td>\n      <td>900</td>\n      <td>-</td>\n      <td>-</td>\n    </tr>\n    <tr>\n      <th>39</th>\n      <td>Vermont</td>\n      <td>6500</td>\n      <td>6500</td>\n      <td>260</td>\n      <td>4</td>\n      <td>50</td>\n      <td>(Z)</td>\n      <td>(Z)</td>\n    </tr>\n    <tr>\n      <th>40</th>\n      <td>Virginia</td>\n      <td>5500</td>\n      <td>5500</td>\n      <td>1100</td>\n      <td>20</td>\n      <td>80</td>\n      <td>110</td>\n      <td>2</td>\n    </tr>\n    <tr>\n      <th>41</th>\n      <td>Washington</td>\n      <td>51000</td>\n      <td>75000</td>\n      <td>7000</td>\n      <td>9</td>\n      <td>5500</td>\n      <td>2200</td>\n      <td>3</td>\n    </tr>\n    <tr>\n      <th>42</th>\n      <td>West Virginia</td>\n      <td>5000</td>\n      <td>7000</td>\n      <td>1300</td>\n      <td>19</td>\n      <td>20</td>\n      <td>60</td>\n      <td>1</td>\n    </tr>\n    <tr>\n      <th>43</th>\n      <td>Wisconsin</td>\n      <td>16500</td>\n      <td>17000</td>\n      <td>3700</td>\n      <td>22</td>\n      <td>580</td>\n      <td>100</td>\n      <td>1</td>\n    </tr>\n    <tr>\n      <th>44</th>\n      <td>Wyoming</td>\n      <td>6500</td>\n      <td>9500</td>\n      <td>250</td>\n      <td>3</td>\n      <td>-</td>\n      <td>-</td>\n      <td>-</td>\n    </tr>\n    <tr>\n      <th>45</th>\n      <td>Other States</td>\n      <td>6070</td>\n      <td>6070</td>\n      <td>590</td>\n      <td>10</td>\n      <td>70</td>\n      <td>30</td>\n      <td>(Z)</td>\n    </tr>\n  </tbody>\n</table>\n</div>"
     },
     "metadata": {},
     "execution_count": 14
    }
   ],
   "source": [
    "hbcny_h1 = hbcny_h1.reset_index(drop = True)\n",
    "hbcny_h1"
   ]
  },
  {
   "cell_type": "code",
   "execution_count": 15,
   "metadata": {},
   "outputs": [],
   "source": [
    "hbcny_h1.to_csv(\"../hbcny_health_19_q1.csv\",index=False)"
   ]
  }
 ]
}