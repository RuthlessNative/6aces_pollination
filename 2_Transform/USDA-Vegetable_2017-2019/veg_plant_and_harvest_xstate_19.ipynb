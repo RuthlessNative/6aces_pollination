{
 "metadata": {
  "language_info": {
   "codemirror_mode": {
    "name": "ipython",
    "version": 3
   },
   "file_extension": ".py",
   "mimetype": "text/x-python",
   "name": "python",
   "nbconvert_exporter": "python",
   "pygments_lexer": "ipython3",
   "version": "3.8.5"
  },
  "orig_nbformat": 2,
  "kernelspec": {
   "name": "python385jvsc74a57bd06e67b620515b60b5e0a41f61aaaaaa0b5713da87d04dedede882ceace4acc361",
   "display_name": "Python 3.8.5 64-bit ('base': conda)"
  }
 },
 "nbformat": 4,
 "nbformat_minor": 2,
 "cells": [
  {
   "cell_type": "code",
   "execution_count": 20,
   "metadata": {},
   "outputs": [],
   "source": [
    "## Dependencies and setup\n",
    "import pandas as pd\n",
    "import numpy as np"
   ]
  },
  {
   "cell_type": "code",
   "execution_count": 30,
   "metadata": {},
   "outputs": [],
   "source": [
    "## Load data files\n",
    "veg_p_and_h = \"../../1_Extract/USDA-Vegetable_2017-2019/veg_plant_and_harvest_xstate_2017-2019.csv\""
   ]
  },
  {
   "cell_type": "code",
   "execution_count": 31,
   "metadata": {},
   "outputs": [
    {
     "output_type": "execute_result",
     "data": {
      "text/plain": [
       "    324  h                        Unnamed: 2 Area planted Area planted.1  \\\n",
       "0   324  h                             State          NaN            NaN   \n",
       "1   324  h                               NaN      2017 1/        2018 1/   \n",
       "2   324  h                               NaN          NaN            NaN   \n",
       "3   324  u                               NaN      (acres)        (acres)   \n",
       "4   324  d                        Alabama 3/         5600           6000   \n",
       "5   324  d                           Arizona       129900            (D)   \n",
       "6   324  d                     California 4/      1059100         999400   \n",
       "7   324  d                          Colorado          (D)            (D)   \n",
       "8   324  d                       Delaware 3/          (D)            (D)   \n",
       "9   324  d                        Florida 4/       178700         180000   \n",
       "10  324  d                           Georgia        97100         102900   \n",
       "11  324  d                             Idaho        16700          12600   \n",
       "12  324  d                          Illinois        48800          40900   \n",
       "13  324  d                           Indiana        28500          29200   \n",
       "14  324  d                               NaN          NaN            NaN   \n",
       "15  324  d                       Maryland 3/          (D)            (D)   \n",
       "16  324  d                          Michigan       110800         107700   \n",
       "17  324  d                         Minnesota       176800         171000   \n",
       "18  324  d                    Mississippi 4/            -              -   \n",
       "19  324  d                       Missouri 3/         3100            (D)   \n",
       "20  324  d                        New Jersey        30000          30300   \n",
       "21  324  d                        New Mexico        15400          15600   \n",
       "22  324  d                          New York        94300          97700   \n",
       "23  324  d                 North Carolina 4/        38300          40700   \n",
       "24  324  d                              Ohio        22200          22700   \n",
       "25  324  d                               NaN          NaN            NaN   \n",
       "26  324  d                            Oregon          (D)            (D)   \n",
       "27  324  d                      Pennsylvania        29300          30500   \n",
       "28  324  d                    South Carolina          (D)          10700   \n",
       "29  324  d                      Tennessee 3/        11700          13800   \n",
       "30  324  d                             Texas        73700          67500   \n",
       "31  324  d                          Virginia         6250           8300   \n",
       "32  324  d                        Washington       160400         147700   \n",
       "33  324  d                         Wisconsin          (D)            (D)   \n",
       "34  324  d                               NaN          NaN            NaN   \n",
       "35  324  d                   Other States 5/       323050         445250   \n",
       "36  324  d                               NaN          NaN            NaN   \n",
       "37  324  d                     United States      2659700        2580450   \n",
       "38  324  c                               NaN          NaN            NaN   \n",
       "39  324  c  See footnote(s) at end of table.  --continued            NaN   \n",
       "\n",
       "   Area planted.2 Area harvested Area harvested.1 Area harvested.2  \n",
       "0             NaN            NaN              NaN              NaN  \n",
       "1         2019 2/        2017 1/          2018 1/          2019 2/  \n",
       "2             NaN            NaN              NaN              NaN  \n",
       "3         (acres)        (acres)          (acres)          (acres)  \n",
       "4            (NA)           5400             5900             (NA)  \n",
       "5          124300         127000              (D)           123900  \n",
       "6          985600        1039900           985800           972400  \n",
       "7            3200            (D)              (D)             2700  \n",
       "8            (NA)            (D)              (D)             (NA)  \n",
       "9          175500         172700           172800           170700  \n",
       "10          96600          91900            95400            92900  \n",
       "11          11000          16400            12300            10900  \n",
       "12          43100          46100            38850            38100  \n",
       "13          11700          27800            28000            11100  \n",
       "14            NaN            NaN              NaN              NaN  \n",
       "15           (NA)            (D)              (D)             (NA)  \n",
       "16          90100         107500           101900            87200  \n",
       "17         160500         165100           160600           154300  \n",
       "18          28000              -                -            27500  \n",
       "19           (NA)           3000              (D)             (NA)  \n",
       "20          11200          28800            28500            10600  \n",
       "21          15700          14700            15000            15300  \n",
       "22          90100          90100            89200            86300  \n",
       "23         127700          37300            36500           126300  \n",
       "24           3700          21300            21500             3500  \n",
       "25            NaN            NaN              NaN              NaN  \n",
       "26          80700            (D)              (D)            79000  \n",
       "27          14700          27650            25500            13500  \n",
       "28           5000            (D)            10300             4500  \n",
       "29           (NA)          11300            12700             (NA)  \n",
       "30          54000          67600            62000            50100  \n",
       "31           5700           6000             7500             5600  \n",
       "32         144900         154300           144100           140300  \n",
       "33         164300            (D)              (D)           155900  \n",
       "34            NaN            NaN              NaN              NaN  \n",
       "35              -         310630           430750                -  \n",
       "36            NaN            NaN              NaN              NaN  \n",
       "37        2447300        2572480          2485100          2382600  \n",
       "38            NaN            NaN              NaN              NaN  \n",
       "39            NaN            NaN              NaN              NaN  "
      ],
      "text/html": "<div>\n<style scoped>\n    .dataframe tbody tr th:only-of-type {\n        vertical-align: middle;\n    }\n\n    .dataframe tbody tr th {\n        vertical-align: top;\n    }\n\n    .dataframe thead th {\n        text-align: right;\n    }\n</style>\n<table border=\"1\" class=\"dataframe\">\n  <thead>\n    <tr style=\"text-align: right;\">\n      <th></th>\n      <th>324</th>\n      <th>h</th>\n      <th>Unnamed: 2</th>\n      <th>Area planted</th>\n      <th>Area planted.1</th>\n      <th>Area planted.2</th>\n      <th>Area harvested</th>\n      <th>Area harvested.1</th>\n      <th>Area harvested.2</th>\n    </tr>\n  </thead>\n  <tbody>\n    <tr>\n      <th>0</th>\n      <td>324</td>\n      <td>h</td>\n      <td>State</td>\n      <td>NaN</td>\n      <td>NaN</td>\n      <td>NaN</td>\n      <td>NaN</td>\n      <td>NaN</td>\n      <td>NaN</td>\n    </tr>\n    <tr>\n      <th>1</th>\n      <td>324</td>\n      <td>h</td>\n      <td>NaN</td>\n      <td>2017 1/</td>\n      <td>2018 1/</td>\n      <td>2019 2/</td>\n      <td>2017 1/</td>\n      <td>2018 1/</td>\n      <td>2019 2/</td>\n    </tr>\n    <tr>\n      <th>2</th>\n      <td>324</td>\n      <td>h</td>\n      <td>NaN</td>\n      <td>NaN</td>\n      <td>NaN</td>\n      <td>NaN</td>\n      <td>NaN</td>\n      <td>NaN</td>\n      <td>NaN</td>\n    </tr>\n    <tr>\n      <th>3</th>\n      <td>324</td>\n      <td>u</td>\n      <td>NaN</td>\n      <td>(acres)</td>\n      <td>(acres)</td>\n      <td>(acres)</td>\n      <td>(acres)</td>\n      <td>(acres)</td>\n      <td>(acres)</td>\n    </tr>\n    <tr>\n      <th>4</th>\n      <td>324</td>\n      <td>d</td>\n      <td>Alabama 3/</td>\n      <td>5600</td>\n      <td>6000</td>\n      <td>(NA)</td>\n      <td>5400</td>\n      <td>5900</td>\n      <td>(NA)</td>\n    </tr>\n    <tr>\n      <th>5</th>\n      <td>324</td>\n      <td>d</td>\n      <td>Arizona</td>\n      <td>129900</td>\n      <td>(D)</td>\n      <td>124300</td>\n      <td>127000</td>\n      <td>(D)</td>\n      <td>123900</td>\n    </tr>\n    <tr>\n      <th>6</th>\n      <td>324</td>\n      <td>d</td>\n      <td>California 4/</td>\n      <td>1059100</td>\n      <td>999400</td>\n      <td>985600</td>\n      <td>1039900</td>\n      <td>985800</td>\n      <td>972400</td>\n    </tr>\n    <tr>\n      <th>7</th>\n      <td>324</td>\n      <td>d</td>\n      <td>Colorado</td>\n      <td>(D)</td>\n      <td>(D)</td>\n      <td>3200</td>\n      <td>(D)</td>\n      <td>(D)</td>\n      <td>2700</td>\n    </tr>\n    <tr>\n      <th>8</th>\n      <td>324</td>\n      <td>d</td>\n      <td>Delaware 3/</td>\n      <td>(D)</td>\n      <td>(D)</td>\n      <td>(NA)</td>\n      <td>(D)</td>\n      <td>(D)</td>\n      <td>(NA)</td>\n    </tr>\n    <tr>\n      <th>9</th>\n      <td>324</td>\n      <td>d</td>\n      <td>Florida 4/</td>\n      <td>178700</td>\n      <td>180000</td>\n      <td>175500</td>\n      <td>172700</td>\n      <td>172800</td>\n      <td>170700</td>\n    </tr>\n    <tr>\n      <th>10</th>\n      <td>324</td>\n      <td>d</td>\n      <td>Georgia</td>\n      <td>97100</td>\n      <td>102900</td>\n      <td>96600</td>\n      <td>91900</td>\n      <td>95400</td>\n      <td>92900</td>\n    </tr>\n    <tr>\n      <th>11</th>\n      <td>324</td>\n      <td>d</td>\n      <td>Idaho</td>\n      <td>16700</td>\n      <td>12600</td>\n      <td>11000</td>\n      <td>16400</td>\n      <td>12300</td>\n      <td>10900</td>\n    </tr>\n    <tr>\n      <th>12</th>\n      <td>324</td>\n      <td>d</td>\n      <td>Illinois</td>\n      <td>48800</td>\n      <td>40900</td>\n      <td>43100</td>\n      <td>46100</td>\n      <td>38850</td>\n      <td>38100</td>\n    </tr>\n    <tr>\n      <th>13</th>\n      <td>324</td>\n      <td>d</td>\n      <td>Indiana</td>\n      <td>28500</td>\n      <td>29200</td>\n      <td>11700</td>\n      <td>27800</td>\n      <td>28000</td>\n      <td>11100</td>\n    </tr>\n    <tr>\n      <th>14</th>\n      <td>324</td>\n      <td>d</td>\n      <td>NaN</td>\n      <td>NaN</td>\n      <td>NaN</td>\n      <td>NaN</td>\n      <td>NaN</td>\n      <td>NaN</td>\n      <td>NaN</td>\n    </tr>\n    <tr>\n      <th>15</th>\n      <td>324</td>\n      <td>d</td>\n      <td>Maryland 3/</td>\n      <td>(D)</td>\n      <td>(D)</td>\n      <td>(NA)</td>\n      <td>(D)</td>\n      <td>(D)</td>\n      <td>(NA)</td>\n    </tr>\n    <tr>\n      <th>16</th>\n      <td>324</td>\n      <td>d</td>\n      <td>Michigan</td>\n      <td>110800</td>\n      <td>107700</td>\n      <td>90100</td>\n      <td>107500</td>\n      <td>101900</td>\n      <td>87200</td>\n    </tr>\n    <tr>\n      <th>17</th>\n      <td>324</td>\n      <td>d</td>\n      <td>Minnesota</td>\n      <td>176800</td>\n      <td>171000</td>\n      <td>160500</td>\n      <td>165100</td>\n      <td>160600</td>\n      <td>154300</td>\n    </tr>\n    <tr>\n      <th>18</th>\n      <td>324</td>\n      <td>d</td>\n      <td>Mississippi 4/</td>\n      <td>-</td>\n      <td>-</td>\n      <td>28000</td>\n      <td>-</td>\n      <td>-</td>\n      <td>27500</td>\n    </tr>\n    <tr>\n      <th>19</th>\n      <td>324</td>\n      <td>d</td>\n      <td>Missouri 3/</td>\n      <td>3100</td>\n      <td>(D)</td>\n      <td>(NA)</td>\n      <td>3000</td>\n      <td>(D)</td>\n      <td>(NA)</td>\n    </tr>\n    <tr>\n      <th>20</th>\n      <td>324</td>\n      <td>d</td>\n      <td>New Jersey</td>\n      <td>30000</td>\n      <td>30300</td>\n      <td>11200</td>\n      <td>28800</td>\n      <td>28500</td>\n      <td>10600</td>\n    </tr>\n    <tr>\n      <th>21</th>\n      <td>324</td>\n      <td>d</td>\n      <td>New Mexico</td>\n      <td>15400</td>\n      <td>15600</td>\n      <td>15700</td>\n      <td>14700</td>\n      <td>15000</td>\n      <td>15300</td>\n    </tr>\n    <tr>\n      <th>22</th>\n      <td>324</td>\n      <td>d</td>\n      <td>New York</td>\n      <td>94300</td>\n      <td>97700</td>\n      <td>90100</td>\n      <td>90100</td>\n      <td>89200</td>\n      <td>86300</td>\n    </tr>\n    <tr>\n      <th>23</th>\n      <td>324</td>\n      <td>d</td>\n      <td>North Carolina 4/</td>\n      <td>38300</td>\n      <td>40700</td>\n      <td>127700</td>\n      <td>37300</td>\n      <td>36500</td>\n      <td>126300</td>\n    </tr>\n    <tr>\n      <th>24</th>\n      <td>324</td>\n      <td>d</td>\n      <td>Ohio</td>\n      <td>22200</td>\n      <td>22700</td>\n      <td>3700</td>\n      <td>21300</td>\n      <td>21500</td>\n      <td>3500</td>\n    </tr>\n    <tr>\n      <th>25</th>\n      <td>324</td>\n      <td>d</td>\n      <td>NaN</td>\n      <td>NaN</td>\n      <td>NaN</td>\n      <td>NaN</td>\n      <td>NaN</td>\n      <td>NaN</td>\n      <td>NaN</td>\n    </tr>\n    <tr>\n      <th>26</th>\n      <td>324</td>\n      <td>d</td>\n      <td>Oregon</td>\n      <td>(D)</td>\n      <td>(D)</td>\n      <td>80700</td>\n      <td>(D)</td>\n      <td>(D)</td>\n      <td>79000</td>\n    </tr>\n    <tr>\n      <th>27</th>\n      <td>324</td>\n      <td>d</td>\n      <td>Pennsylvania</td>\n      <td>29300</td>\n      <td>30500</td>\n      <td>14700</td>\n      <td>27650</td>\n      <td>25500</td>\n      <td>13500</td>\n    </tr>\n    <tr>\n      <th>28</th>\n      <td>324</td>\n      <td>d</td>\n      <td>South Carolina</td>\n      <td>(D)</td>\n      <td>10700</td>\n      <td>5000</td>\n      <td>(D)</td>\n      <td>10300</td>\n      <td>4500</td>\n    </tr>\n    <tr>\n      <th>29</th>\n      <td>324</td>\n      <td>d</td>\n      <td>Tennessee 3/</td>\n      <td>11700</td>\n      <td>13800</td>\n      <td>(NA)</td>\n      <td>11300</td>\n      <td>12700</td>\n      <td>(NA)</td>\n    </tr>\n    <tr>\n      <th>30</th>\n      <td>324</td>\n      <td>d</td>\n      <td>Texas</td>\n      <td>73700</td>\n      <td>67500</td>\n      <td>54000</td>\n      <td>67600</td>\n      <td>62000</td>\n      <td>50100</td>\n    </tr>\n    <tr>\n      <th>31</th>\n      <td>324</td>\n      <td>d</td>\n      <td>Virginia</td>\n      <td>6250</td>\n      <td>8300</td>\n      <td>5700</td>\n      <td>6000</td>\n      <td>7500</td>\n      <td>5600</td>\n    </tr>\n    <tr>\n      <th>32</th>\n      <td>324</td>\n      <td>d</td>\n      <td>Washington</td>\n      <td>160400</td>\n      <td>147700</td>\n      <td>144900</td>\n      <td>154300</td>\n      <td>144100</td>\n      <td>140300</td>\n    </tr>\n    <tr>\n      <th>33</th>\n      <td>324</td>\n      <td>d</td>\n      <td>Wisconsin</td>\n      <td>(D)</td>\n      <td>(D)</td>\n      <td>164300</td>\n      <td>(D)</td>\n      <td>(D)</td>\n      <td>155900</td>\n    </tr>\n    <tr>\n      <th>34</th>\n      <td>324</td>\n      <td>d</td>\n      <td>NaN</td>\n      <td>NaN</td>\n      <td>NaN</td>\n      <td>NaN</td>\n      <td>NaN</td>\n      <td>NaN</td>\n      <td>NaN</td>\n    </tr>\n    <tr>\n      <th>35</th>\n      <td>324</td>\n      <td>d</td>\n      <td>Other States 5/</td>\n      <td>323050</td>\n      <td>445250</td>\n      <td>-</td>\n      <td>310630</td>\n      <td>430750</td>\n      <td>-</td>\n    </tr>\n    <tr>\n      <th>36</th>\n      <td>324</td>\n      <td>d</td>\n      <td>NaN</td>\n      <td>NaN</td>\n      <td>NaN</td>\n      <td>NaN</td>\n      <td>NaN</td>\n      <td>NaN</td>\n      <td>NaN</td>\n    </tr>\n    <tr>\n      <th>37</th>\n      <td>324</td>\n      <td>d</td>\n      <td>United States</td>\n      <td>2659700</td>\n      <td>2580450</td>\n      <td>2447300</td>\n      <td>2572480</td>\n      <td>2485100</td>\n      <td>2382600</td>\n    </tr>\n    <tr>\n      <th>38</th>\n      <td>324</td>\n      <td>c</td>\n      <td>NaN</td>\n      <td>NaN</td>\n      <td>NaN</td>\n      <td>NaN</td>\n      <td>NaN</td>\n      <td>NaN</td>\n      <td>NaN</td>\n    </tr>\n    <tr>\n      <th>39</th>\n      <td>324</td>\n      <td>c</td>\n      <td>See footnote(s) at end of table.</td>\n      <td>--continued</td>\n      <td>NaN</td>\n      <td>NaN</td>\n      <td>NaN</td>\n      <td>NaN</td>\n      <td>NaN</td>\n    </tr>\n  </tbody>\n</table>\n</div>"
     },
     "metadata": {},
     "execution_count": 31
    }
   ],
   "source": [
    "## Read data and store into df\n",
    "## Drop the first 3 rows which hold info text\n",
    "veg_p_and_h = pd.read_csv(veg_p_and_h, skiprows=3)\n",
    "veg_p_and_h"
   ]
  },
  {
   "cell_type": "code",
   "execution_count": 32,
   "metadata": {},
   "outputs": [
    {
     "output_type": "execute_result",
     "data": {
      "text/plain": [
       "   Unnamed: 2 Area planted.2 Area harvested.2\n",
       "0       State            NaN              NaN\n",
       "1         NaN        2019 2/          2019 2/\n",
       "2         NaN            NaN              NaN\n",
       "3         NaN        (acres)          (acres)\n",
       "4  Alabama 3/           (NA)             (NA)"
      ],
      "text/html": "<div>\n<style scoped>\n    .dataframe tbody tr th:only-of-type {\n        vertical-align: middle;\n    }\n\n    .dataframe tbody tr th {\n        vertical-align: top;\n    }\n\n    .dataframe thead th {\n        text-align: right;\n    }\n</style>\n<table border=\"1\" class=\"dataframe\">\n  <thead>\n    <tr style=\"text-align: right;\">\n      <th></th>\n      <th>Unnamed: 2</th>\n      <th>Area planted.2</th>\n      <th>Area harvested.2</th>\n    </tr>\n  </thead>\n  <tbody>\n    <tr>\n      <th>0</th>\n      <td>State</td>\n      <td>NaN</td>\n      <td>NaN</td>\n    </tr>\n    <tr>\n      <th>1</th>\n      <td>NaN</td>\n      <td>2019 2/</td>\n      <td>2019 2/</td>\n    </tr>\n    <tr>\n      <th>2</th>\n      <td>NaN</td>\n      <td>NaN</td>\n      <td>NaN</td>\n    </tr>\n    <tr>\n      <th>3</th>\n      <td>NaN</td>\n      <td>(acres)</td>\n      <td>(acres)</td>\n    </tr>\n    <tr>\n      <th>4</th>\n      <td>Alabama 3/</td>\n      <td>(NA)</td>\n      <td>(NA)</td>\n    </tr>\n  </tbody>\n</table>\n</div>"
     },
     "metadata": {},
     "execution_count": 32
    }
   ],
   "source": [
    "## Drop erroneous first 2 columns and non-2019 data\n",
    "veg_p_and_h.drop(veg_p_and_h.iloc[:, [0, 1, 3, 4, 6, 7]], axis = 1, inplace = True)\n",
    "\n",
    "## Drop erroneous last few rows\n",
    "#veg_p_and_h.drop(veg_p_and_h.index[56:66])\n",
    "\n",
    "veg_p_and_h.head()"
   ]
  },
  {
   "cell_type": "code",
   "execution_count": 33,
   "metadata": {},
   "outputs": [
    {
     "output_type": "execute_result",
     "data": {
      "text/plain": [
       "                                   0        1        2\n",
       "0                              State      NaN      NaN\n",
       "1                                NaN  2019 2/  2019 2/\n",
       "2                                NaN      NaN      NaN\n",
       "3                                NaN  (acres)  (acres)\n",
       "4                         Alabama 3/     (NA)     (NA)\n",
       "5                            Arizona   124300   123900\n",
       "6                      California 4/   985600   972400\n",
       "7                           Colorado     3200     2700\n",
       "8                        Delaware 3/     (NA)     (NA)\n",
       "9                         Florida 4/   175500   170700\n",
       "10                           Georgia    96600    92900\n",
       "11                             Idaho    11000    10900\n",
       "12                          Illinois    43100    38100\n",
       "13                           Indiana    11700    11100\n",
       "14                               NaN      NaN      NaN\n",
       "15                       Maryland 3/     (NA)     (NA)\n",
       "16                          Michigan    90100    87200\n",
       "17                         Minnesota   160500   154300\n",
       "18                    Mississippi 4/    28000    27500\n",
       "19                       Missouri 3/     (NA)     (NA)\n",
       "20                        New Jersey    11200    10600\n",
       "21                        New Mexico    15700    15300\n",
       "22                          New York    90100    86300\n",
       "23                 North Carolina 4/   127700   126300\n",
       "24                              Ohio     3700     3500\n",
       "25                               NaN      NaN      NaN\n",
       "26                            Oregon    80700    79000\n",
       "27                      Pennsylvania    14700    13500\n",
       "28                    South Carolina     5000     4500\n",
       "29                      Tennessee 3/     (NA)     (NA)\n",
       "30                             Texas    54000    50100\n",
       "31                          Virginia     5700     5600\n",
       "32                        Washington   144900   140300\n",
       "33                         Wisconsin   164300   155900\n",
       "34                               NaN      NaN      NaN\n",
       "35                   Other States 5/        -        -\n",
       "36                               NaN      NaN      NaN\n",
       "37                     United States  2447300  2382600\n",
       "38                               NaN      NaN      NaN\n",
       "39  See footnote(s) at end of table.      NaN      NaN"
      ],
      "text/html": "<div>\n<style scoped>\n    .dataframe tbody tr th:only-of-type {\n        vertical-align: middle;\n    }\n\n    .dataframe tbody tr th {\n        vertical-align: top;\n    }\n\n    .dataframe thead tr th {\n        text-align: left;\n    }\n</style>\n<table border=\"1\" class=\"dataframe\">\n  <thead>\n    <tr>\n      <th></th>\n      <th>0</th>\n      <th>1</th>\n      <th>2</th>\n    </tr>\n  </thead>\n  <tbody>\n    <tr>\n      <th>0</th>\n      <td>State</td>\n      <td>NaN</td>\n      <td>NaN</td>\n    </tr>\n    <tr>\n      <th>1</th>\n      <td>NaN</td>\n      <td>2019 2/</td>\n      <td>2019 2/</td>\n    </tr>\n    <tr>\n      <th>2</th>\n      <td>NaN</td>\n      <td>NaN</td>\n      <td>NaN</td>\n    </tr>\n    <tr>\n      <th>3</th>\n      <td>NaN</td>\n      <td>(acres)</td>\n      <td>(acres)</td>\n    </tr>\n    <tr>\n      <th>4</th>\n      <td>Alabama 3/</td>\n      <td>(NA)</td>\n      <td>(NA)</td>\n    </tr>\n    <tr>\n      <th>5</th>\n      <td>Arizona</td>\n      <td>124300</td>\n      <td>123900</td>\n    </tr>\n    <tr>\n      <th>6</th>\n      <td>California 4/</td>\n      <td>985600</td>\n      <td>972400</td>\n    </tr>\n    <tr>\n      <th>7</th>\n      <td>Colorado</td>\n      <td>3200</td>\n      <td>2700</td>\n    </tr>\n    <tr>\n      <th>8</th>\n      <td>Delaware 3/</td>\n      <td>(NA)</td>\n      <td>(NA)</td>\n    </tr>\n    <tr>\n      <th>9</th>\n      <td>Florida 4/</td>\n      <td>175500</td>\n      <td>170700</td>\n    </tr>\n    <tr>\n      <th>10</th>\n      <td>Georgia</td>\n      <td>96600</td>\n      <td>92900</td>\n    </tr>\n    <tr>\n      <th>11</th>\n      <td>Idaho</td>\n      <td>11000</td>\n      <td>10900</td>\n    </tr>\n    <tr>\n      <th>12</th>\n      <td>Illinois</td>\n      <td>43100</td>\n      <td>38100</td>\n    </tr>\n    <tr>\n      <th>13</th>\n      <td>Indiana</td>\n      <td>11700</td>\n      <td>11100</td>\n    </tr>\n    <tr>\n      <th>14</th>\n      <td>NaN</td>\n      <td>NaN</td>\n      <td>NaN</td>\n    </tr>\n    <tr>\n      <th>15</th>\n      <td>Maryland 3/</td>\n      <td>(NA)</td>\n      <td>(NA)</td>\n    </tr>\n    <tr>\n      <th>16</th>\n      <td>Michigan</td>\n      <td>90100</td>\n      <td>87200</td>\n    </tr>\n    <tr>\n      <th>17</th>\n      <td>Minnesota</td>\n      <td>160500</td>\n      <td>154300</td>\n    </tr>\n    <tr>\n      <th>18</th>\n      <td>Mississippi 4/</td>\n      <td>28000</td>\n      <td>27500</td>\n    </tr>\n    <tr>\n      <th>19</th>\n      <td>Missouri 3/</td>\n      <td>(NA)</td>\n      <td>(NA)</td>\n    </tr>\n    <tr>\n      <th>20</th>\n      <td>New Jersey</td>\n      <td>11200</td>\n      <td>10600</td>\n    </tr>\n    <tr>\n      <th>21</th>\n      <td>New Mexico</td>\n      <td>15700</td>\n      <td>15300</td>\n    </tr>\n    <tr>\n      <th>22</th>\n      <td>New York</td>\n      <td>90100</td>\n      <td>86300</td>\n    </tr>\n    <tr>\n      <th>23</th>\n      <td>North Carolina 4/</td>\n      <td>127700</td>\n      <td>126300</td>\n    </tr>\n    <tr>\n      <th>24</th>\n      <td>Ohio</td>\n      <td>3700</td>\n      <td>3500</td>\n    </tr>\n    <tr>\n      <th>25</th>\n      <td>NaN</td>\n      <td>NaN</td>\n      <td>NaN</td>\n    </tr>\n    <tr>\n      <th>26</th>\n      <td>Oregon</td>\n      <td>80700</td>\n      <td>79000</td>\n    </tr>\n    <tr>\n      <th>27</th>\n      <td>Pennsylvania</td>\n      <td>14700</td>\n      <td>13500</td>\n    </tr>\n    <tr>\n      <th>28</th>\n      <td>South Carolina</td>\n      <td>5000</td>\n      <td>4500</td>\n    </tr>\n    <tr>\n      <th>29</th>\n      <td>Tennessee 3/</td>\n      <td>(NA)</td>\n      <td>(NA)</td>\n    </tr>\n    <tr>\n      <th>30</th>\n      <td>Texas</td>\n      <td>54000</td>\n      <td>50100</td>\n    </tr>\n    <tr>\n      <th>31</th>\n      <td>Virginia</td>\n      <td>5700</td>\n      <td>5600</td>\n    </tr>\n    <tr>\n      <th>32</th>\n      <td>Washington</td>\n      <td>144900</td>\n      <td>140300</td>\n    </tr>\n    <tr>\n      <th>33</th>\n      <td>Wisconsin</td>\n      <td>164300</td>\n      <td>155900</td>\n    </tr>\n    <tr>\n      <th>34</th>\n      <td>NaN</td>\n      <td>NaN</td>\n      <td>NaN</td>\n    </tr>\n    <tr>\n      <th>35</th>\n      <td>Other States 5/</td>\n      <td>-</td>\n      <td>-</td>\n    </tr>\n    <tr>\n      <th>36</th>\n      <td>NaN</td>\n      <td>NaN</td>\n      <td>NaN</td>\n    </tr>\n    <tr>\n      <th>37</th>\n      <td>United States</td>\n      <td>2447300</td>\n      <td>2382600</td>\n    </tr>\n    <tr>\n      <th>38</th>\n      <td>NaN</td>\n      <td>NaN</td>\n      <td>NaN</td>\n    </tr>\n    <tr>\n      <th>39</th>\n      <td>See footnote(s) at end of table.</td>\n      <td>NaN</td>\n      <td>NaN</td>\n    </tr>\n  </tbody>\n</table>\n</div>"
     },
     "metadata": {},
     "execution_count": 33
    }
   ],
   "source": [
    "veg_p_and_h.columns = [np.arange(0,veg_p_and_h.shape[1])]\n",
    "\n",
    "veg_p_and_h.head()"
   ]
  },
  {
   "cell_type": "code",
   "execution_count": 34,
   "metadata": {},
   "outputs": [
    {
     "output_type": "error",
     "ename": "IndexError",
     "evalue": "only integers, slices (`:`), ellipsis (`...`), numpy.newaxis (`None`) and integer or boolean arrays are valid indices",
     "traceback": [
      "\u001b[1;31m---------------------------------------------------------------------------\u001b[0m",
      "\u001b[1;31mIndexError\u001b[0m                                Traceback (most recent call last)",
      "\u001b[1;32m<ipython-input-34-e7de911851f8>\u001b[0m in \u001b[0;36m<module>\u001b[1;34m\u001b[0m\n\u001b[0;32m     10\u001b[0m \u001b[1;33m\u001b[0m\u001b[0m\n\u001b[0;32m     11\u001b[0m \u001b[1;33m\u001b[0m\u001b[0m\n\u001b[1;32m---> 12\u001b[1;33m \u001b[0mveg_p_and_h\u001b[0m\u001b[1;33m.\u001b[0m\u001b[0mcolumns\u001b[0m\u001b[1;33m[\u001b[0m\u001b[1;34m\"state\"\u001b[0m\u001b[1;33m,\u001b[0m \u001b[1;34m\"area_planted(acres)\"\u001b[0m\u001b[1;33m,\u001b[0m \u001b[1;34m\"area_harvested(acres)\"\u001b[0m\u001b[1;33m]\u001b[0m\u001b[1;33m\u001b[0m\u001b[1;33m\u001b[0m\u001b[0m\n\u001b[0m\u001b[0;32m     13\u001b[0m \u001b[1;33m\u001b[0m\u001b[0m\n\u001b[0;32m     14\u001b[0m \u001b[0mveg_p_and_h\u001b[0m\u001b[1;33m.\u001b[0m\u001b[0mhead\u001b[0m\u001b[1;33m(\u001b[0m\u001b[1;33m)\u001b[0m\u001b[1;33m\u001b[0m\u001b[1;33m\u001b[0m\u001b[0m\n",
      "\u001b[1;32m~\\anaconda3\\lib\\site-packages\\pandas\\core\\indexes\\multi.py\u001b[0m in \u001b[0;36m__getitem__\u001b[1;34m(self, key)\u001b[0m\n\u001b[0;32m   1917\u001b[0m                     \u001b[0mkey\u001b[0m \u001b[1;33m=\u001b[0m \u001b[0mnp\u001b[0m\u001b[1;33m.\u001b[0m\u001b[0masarray\u001b[0m\u001b[1;33m(\u001b[0m\u001b[0mkey\u001b[0m\u001b[1;33m)\u001b[0m\u001b[1;33m\u001b[0m\u001b[1;33m\u001b[0m\u001b[0m\n\u001b[0;32m   1918\u001b[0m \u001b[1;33m\u001b[0m\u001b[0m\n\u001b[1;32m-> 1919\u001b[1;33m             \u001b[0mnew_codes\u001b[0m \u001b[1;33m=\u001b[0m \u001b[1;33m[\u001b[0m\u001b[0mlevel_codes\u001b[0m\u001b[1;33m[\u001b[0m\u001b[0mkey\u001b[0m\u001b[1;33m]\u001b[0m \u001b[1;32mfor\u001b[0m \u001b[0mlevel_codes\u001b[0m \u001b[1;32min\u001b[0m \u001b[0mself\u001b[0m\u001b[1;33m.\u001b[0m\u001b[0mcodes\u001b[0m\u001b[1;33m]\u001b[0m\u001b[1;33m\u001b[0m\u001b[1;33m\u001b[0m\u001b[0m\n\u001b[0m\u001b[0;32m   1920\u001b[0m \u001b[1;33m\u001b[0m\u001b[0m\n\u001b[0;32m   1921\u001b[0m             return MultiIndex(\n",
      "\u001b[1;32m~\\anaconda3\\lib\\site-packages\\pandas\\core\\indexes\\multi.py\u001b[0m in \u001b[0;36m<listcomp>\u001b[1;34m(.0)\u001b[0m\n\u001b[0;32m   1917\u001b[0m                     \u001b[0mkey\u001b[0m \u001b[1;33m=\u001b[0m \u001b[0mnp\u001b[0m\u001b[1;33m.\u001b[0m\u001b[0masarray\u001b[0m\u001b[1;33m(\u001b[0m\u001b[0mkey\u001b[0m\u001b[1;33m)\u001b[0m\u001b[1;33m\u001b[0m\u001b[1;33m\u001b[0m\u001b[0m\n\u001b[0;32m   1918\u001b[0m \u001b[1;33m\u001b[0m\u001b[0m\n\u001b[1;32m-> 1919\u001b[1;33m             \u001b[0mnew_codes\u001b[0m \u001b[1;33m=\u001b[0m \u001b[1;33m[\u001b[0m\u001b[0mlevel_codes\u001b[0m\u001b[1;33m[\u001b[0m\u001b[0mkey\u001b[0m\u001b[1;33m]\u001b[0m \u001b[1;32mfor\u001b[0m \u001b[0mlevel_codes\u001b[0m \u001b[1;32min\u001b[0m \u001b[0mself\u001b[0m\u001b[1;33m.\u001b[0m\u001b[0mcodes\u001b[0m\u001b[1;33m]\u001b[0m\u001b[1;33m\u001b[0m\u001b[1;33m\u001b[0m\u001b[0m\n\u001b[0m\u001b[0;32m   1920\u001b[0m \u001b[1;33m\u001b[0m\u001b[0m\n\u001b[0;32m   1921\u001b[0m             return MultiIndex(\n",
      "\u001b[1;31mIndexError\u001b[0m: only integers, slices (`:`), ellipsis (`...`), numpy.newaxis (`None`) and integer or boolean arrays are valid indices"
     ]
    }
   ],
   "source": [
    "#veg_p_and_h = pd.DataFrame(veg_p_and_h)\n",
    "\n",
    "## Rename columns\n",
    "# veg_p_and_h = veg_p_and_h.columns.rename(columns={\n",
    "#     \"Unnamed: 2\": \"state\",\n",
    "#     \"Area planted.2\": \"area_planted(acres)\",\n",
    "#     \"Area harvested.2\": \"area_harvested(acres)\"\n",
    "# })\n",
    "\n",
    "\n",
    "\n",
    "veg_p_and_h.columns[\"state\", \"area_planted(acres)\", \"area_harvested(acres)\"]\n",
    "\n",
    "veg_p_and_h.head()"
   ]
  },
  {
   "cell_type": "code",
   "execution_count": 10,
   "metadata": {},
   "outputs": [
    {
     "output_type": "execute_result",
     "data": {
      "text/plain": [
       "                  state max_h_prod_cny yield/cny prod(1000_lbs)  \\\n",
       "44        West Virginia              6        37            222   \n",
       "45            Wisconsin             46        47           2162   \n",
       "46              Wyoming             39        56           2184   \n",
       "48   Other States 5/ 6/             30        47           1418   \n",
       "50  United States 6/ 7/           2812      55.8         156922   \n",
       "\n",
       "   prod_held_stocks avg_price/lb(1_dollar) value_prod(1000_dollars)  \n",
       "44               47                   4.26                      946  \n",
       "45              692                      3                     6486  \n",
       "46              306                   1.43                     3123  \n",
       "48              351                   4.65                     6594  \n",
       "50            40861                   1.99                   312275  "
      ],
      "text/html": "<div>\n<style scoped>\n    .dataframe tbody tr th:only-of-type {\n        vertical-align: middle;\n    }\n\n    .dataframe tbody tr th {\n        vertical-align: top;\n    }\n\n    .dataframe thead th {\n        text-align: right;\n    }\n</style>\n<table border=\"1\" class=\"dataframe\">\n  <thead>\n    <tr style=\"text-align: right;\">\n      <th></th>\n      <th>state</th>\n      <th>max_h_prod_cny</th>\n      <th>yield/cny</th>\n      <th>prod(1000_lbs)</th>\n      <th>prod_held_stocks</th>\n      <th>avg_price/lb(1_dollar)</th>\n      <th>value_prod(1000_dollars)</th>\n    </tr>\n  </thead>\n  <tbody>\n    <tr>\n      <th>44</th>\n      <td>West Virginia</td>\n      <td>6</td>\n      <td>37</td>\n      <td>222</td>\n      <td>47</td>\n      <td>4.26</td>\n      <td>946</td>\n    </tr>\n    <tr>\n      <th>45</th>\n      <td>Wisconsin</td>\n      <td>46</td>\n      <td>47</td>\n      <td>2162</td>\n      <td>692</td>\n      <td>3</td>\n      <td>6486</td>\n    </tr>\n    <tr>\n      <th>46</th>\n      <td>Wyoming</td>\n      <td>39</td>\n      <td>56</td>\n      <td>2184</td>\n      <td>306</td>\n      <td>1.43</td>\n      <td>3123</td>\n    </tr>\n    <tr>\n      <th>48</th>\n      <td>Other States 5/ 6/</td>\n      <td>30</td>\n      <td>47</td>\n      <td>1418</td>\n      <td>351</td>\n      <td>4.65</td>\n      <td>6594</td>\n    </tr>\n    <tr>\n      <th>50</th>\n      <td>United States 6/ 7/</td>\n      <td>2812</td>\n      <td>55.8</td>\n      <td>156922</td>\n      <td>40861</td>\n      <td>1.99</td>\n      <td>312275</td>\n    </tr>\n  </tbody>\n</table>\n</div>"
     },
     "metadata": {},
     "execution_count": 10
    }
   ],
   "source": [
    "## Drop blank rows\n",
    "veg_p_and_h = veg_p_and_h.dropna()\n",
    "veg_p_and_h.tail()"
   ]
  },
  {
   "cell_type": "code",
   "execution_count": 11,
   "metadata": {},
   "outputs": [
    {
     "output_type": "stream",
     "name": "stderr",
     "text": [
      "C:\\Users\\Daniel Ramirez\\anaconda3\\lib\\site-packages\\pandas\\core\\indexing.py:670: SettingWithCopyWarning: \nA value is trying to be set on a copy of a slice from a DataFrame\n\nSee the caveats in the documentation: https://pandas.pydata.org/pandas-docs/stable/user_guide/indexing.html#returning-a-view-versus-a-copy\n  iloc._setitem_with_indexer(indexer, value)\n<ipython-input-11-e6213e75a86b>:2: SettingWithCopyWarning: \nA value is trying to be set on a copy of a slice from a DataFrame\n\nSee the caveats in the documentation: https://pandas.pydata.org/pandas-docs/stable/user_guide/indexing.html#returning-a-view-versus-a-copy\n  veg_p_and_h.loc[48, \"state\"] = \"Other States\"\n<ipython-input-11-e6213e75a86b>:3: SettingWithCopyWarning: \nA value is trying to be set on a copy of a slice from a DataFrame\n\nSee the caveats in the documentation: https://pandas.pydata.org/pandas-docs/stable/user_guide/indexing.html#returning-a-view-versus-a-copy\n  veg_p_and_h.loc[50, \"state\"] = \"United States\"\n"
     ]
    },
    {
     "output_type": "execute_result",
     "data": {
      "text/plain": [
       "            state max_h_prod_cny yield/cny prod(1000_lbs) prod_held_stocks  \\\n",
       "44  West Virginia              6        37            222               47   \n",
       "45      Wisconsin             46        47           2162              692   \n",
       "46        Wyoming             39        56           2184              306   \n",
       "48   Other States             30        47           1418              351   \n",
       "50  United States           2812      55.8         156922            40861   \n",
       "\n",
       "   avg_price/lb(1_dollar) value_prod(1000_dollars)  \n",
       "44                   4.26                      946  \n",
       "45                      3                     6486  \n",
       "46                   1.43                     3123  \n",
       "48                   4.65                     6594  \n",
       "50                   1.99                   312275  "
      ],
      "text/html": "<div>\n<style scoped>\n    .dataframe tbody tr th:only-of-type {\n        vertical-align: middle;\n    }\n\n    .dataframe tbody tr th {\n        vertical-align: top;\n    }\n\n    .dataframe thead th {\n        text-align: right;\n    }\n</style>\n<table border=\"1\" class=\"dataframe\">\n  <thead>\n    <tr style=\"text-align: right;\">\n      <th></th>\n      <th>state</th>\n      <th>max_h_prod_cny</th>\n      <th>yield/cny</th>\n      <th>prod(1000_lbs)</th>\n      <th>prod_held_stocks</th>\n      <th>avg_price/lb(1_dollar)</th>\n      <th>value_prod(1000_dollars)</th>\n    </tr>\n  </thead>\n  <tbody>\n    <tr>\n      <th>44</th>\n      <td>West Virginia</td>\n      <td>6</td>\n      <td>37</td>\n      <td>222</td>\n      <td>47</td>\n      <td>4.26</td>\n      <td>946</td>\n    </tr>\n    <tr>\n      <th>45</th>\n      <td>Wisconsin</td>\n      <td>46</td>\n      <td>47</td>\n      <td>2162</td>\n      <td>692</td>\n      <td>3</td>\n      <td>6486</td>\n    </tr>\n    <tr>\n      <th>46</th>\n      <td>Wyoming</td>\n      <td>39</td>\n      <td>56</td>\n      <td>2184</td>\n      <td>306</td>\n      <td>1.43</td>\n      <td>3123</td>\n    </tr>\n    <tr>\n      <th>48</th>\n      <td>Other States</td>\n      <td>30</td>\n      <td>47</td>\n      <td>1418</td>\n      <td>351</td>\n      <td>4.65</td>\n      <td>6594</td>\n    </tr>\n    <tr>\n      <th>50</th>\n      <td>United States</td>\n      <td>2812</td>\n      <td>55.8</td>\n      <td>156922</td>\n      <td>40861</td>\n      <td>1.99</td>\n      <td>312275</td>\n    </tr>\n  </tbody>\n</table>\n</div>"
     },
     "metadata": {},
     "execution_count": 11
    }
   ],
   "source": [
    "## Rename cells\n",
    "veg_p_and_h.loc[48, \"state\"] = \"Other States\"\n",
    "veg_p_and_h.loc[50, \"state\"] = \"United States\"\n",
    "veg_p_and_h.tail()"
   ]
  },
  {
   "cell_type": "code",
   "execution_count": 12,
   "metadata": {},
   "outputs": [
    {
     "output_type": "execute_result",
     "data": {
      "text/plain": [
       "             state max_h_prod_cny yield/cny prod(1000_lbs) prod_held_stocks  \\\n",
       "0          Alabama              7        42            294               44   \n",
       "1          Arizona             23        46           1058              201   \n",
       "2         Arkansas             20        55           1100              176   \n",
       "3       California            335        48          16080             3216   \n",
       "4         Colorado             32        46           1472              500   \n",
       "5          Florida            205        45           9225              830   \n",
       "6          Georgia            102        33           3366              370   \n",
       "7           Hawaii             16        80           1280               51   \n",
       "8            Idaho             92        32           2944              677   \n",
       "9         Illinois             11        39            429              116   \n",
       "10         Indiana              9        55            495              188   \n",
       "11            Iowa             38        55           2090             1170   \n",
       "12          Kansas              7        79            553              171   \n",
       "13        Kentucky              6        41            246               44   \n",
       "14       Louisiana             54        72           3888              428   \n",
       "15           Maine             15        35            525              110   \n",
       "16        Michigan             94        50           4700             1363   \n",
       "17       Minnesota            118        59           6962             3063   \n",
       "18     Mississippi             22        80           1760              141   \n",
       "19        Missouri             10        43            430               73   \n",
       "20         Montana            173        86          14878             5802   \n",
       "21        Nebraska             39        52           2028              223   \n",
       "22      New Jersey             15        28            420              155   \n",
       "23        New York             59        58           3422             1027   \n",
       "24  North Carolina             14        42            588              118   \n",
       "25    North Dakota            520        65          33800             6422   \n",
       "26            Ohio             15        67           1005              442   \n",
       "27          Oregon             87        32           2784             1141   \n",
       "28    Pennsylvania             19        50            950              409   \n",
       "29  South Carolina             16        47            752               45   \n",
       "30    South Dakota            270        72          19440             7582   \n",
       "31       Tennessee              8        57            456               91   \n",
       "32           Texas            126        60           7560             1663   \n",
       "33            Utah             22        29            638               89   \n",
       "34         Vermont              6        48            288               84   \n",
       "35        Virginia              5        39            195               49   \n",
       "36      Washington             81        35           2835             1191   \n",
       "37   West Virginia              6        37            222               47   \n",
       "38       Wisconsin             46        47           2162              692   \n",
       "39         Wyoming             39        56           2184              306   \n",
       "40    Other States             30        47           1418              351   \n",
       "41   United States           2812      55.8         156922            40861   \n",
       "\n",
       "   avg_price/lb(1_dollar) value_prod(1000_dollars)  \n",
       "0                    3.38                      994  \n",
       "1                    2.04                     2158  \n",
       "2                    1.65                     1815  \n",
       "3                     1.6                    25728  \n",
       "4                    2.34                     3444  \n",
       "5                    2.46                    22694  \n",
       "6                    2.67                     8987  \n",
       "7                     1.3                     1664  \n",
       "8                    1.62                     4769  \n",
       "9                    4.12                     1767  \n",
       "10                   3.78                     1871  \n",
       "11                   2.35                     4912  \n",
       "12                   2.35                     1300  \n",
       "13                   4.66                     1146  \n",
       "14                   2.15                     8359  \n",
       "15                   3.28                     1722  \n",
       "16                   2.56                    12032  \n",
       "17                   1.83                    12740  \n",
       "18                   1.87                     3291  \n",
       "19                   3.35                     1441  \n",
       "20                   1.49                    22168  \n",
       "21                   1.44                     2920  \n",
       "22                   4.68                     1966  \n",
       "23                      4                    13688  \n",
       "24                   4.11                     2417  \n",
       "25                   1.43                    48334  \n",
       "26                   3.46                     3477  \n",
       "27                    2.5                     6960  \n",
       "28                   4.41                     4190  \n",
       "29                   5.03                     3783  \n",
       "30                   1.56                    30326  \n",
       "31                   4.72                     2152  \n",
       "32                   2.32                    17539  \n",
       "33                   1.97                     1257  \n",
       "34                   4.48                     1290  \n",
       "35                   7.19                     1402  \n",
       "36                   2.18                     6180  \n",
       "37                   4.26                      946  \n",
       "38                      3                     6486  \n",
       "39                   1.43                     3123  \n",
       "40                   4.65                     6594  \n",
       "41                   1.99                   312275  "
      ],
      "text/html": "<div>\n<style scoped>\n    .dataframe tbody tr th:only-of-type {\n        vertical-align: middle;\n    }\n\n    .dataframe tbody tr th {\n        vertical-align: top;\n    }\n\n    .dataframe thead th {\n        text-align: right;\n    }\n</style>\n<table border=\"1\" class=\"dataframe\">\n  <thead>\n    <tr style=\"text-align: right;\">\n      <th></th>\n      <th>state</th>\n      <th>max_h_prod_cny</th>\n      <th>yield/cny</th>\n      <th>prod(1000_lbs)</th>\n      <th>prod_held_stocks</th>\n      <th>avg_price/lb(1_dollar)</th>\n      <th>value_prod(1000_dollars)</th>\n    </tr>\n  </thead>\n  <tbody>\n    <tr>\n      <th>0</th>\n      <td>Alabama</td>\n      <td>7</td>\n      <td>42</td>\n      <td>294</td>\n      <td>44</td>\n      <td>3.38</td>\n      <td>994</td>\n    </tr>\n    <tr>\n      <th>1</th>\n      <td>Arizona</td>\n      <td>23</td>\n      <td>46</td>\n      <td>1058</td>\n      <td>201</td>\n      <td>2.04</td>\n      <td>2158</td>\n    </tr>\n    <tr>\n      <th>2</th>\n      <td>Arkansas</td>\n      <td>20</td>\n      <td>55</td>\n      <td>1100</td>\n      <td>176</td>\n      <td>1.65</td>\n      <td>1815</td>\n    </tr>\n    <tr>\n      <th>3</th>\n      <td>California</td>\n      <td>335</td>\n      <td>48</td>\n      <td>16080</td>\n      <td>3216</td>\n      <td>1.6</td>\n      <td>25728</td>\n    </tr>\n    <tr>\n      <th>4</th>\n      <td>Colorado</td>\n      <td>32</td>\n      <td>46</td>\n      <td>1472</td>\n      <td>500</td>\n      <td>2.34</td>\n      <td>3444</td>\n    </tr>\n    <tr>\n      <th>5</th>\n      <td>Florida</td>\n      <td>205</td>\n      <td>45</td>\n      <td>9225</td>\n      <td>830</td>\n      <td>2.46</td>\n      <td>22694</td>\n    </tr>\n    <tr>\n      <th>6</th>\n      <td>Georgia</td>\n      <td>102</td>\n      <td>33</td>\n      <td>3366</td>\n      <td>370</td>\n      <td>2.67</td>\n      <td>8987</td>\n    </tr>\n    <tr>\n      <th>7</th>\n      <td>Hawaii</td>\n      <td>16</td>\n      <td>80</td>\n      <td>1280</td>\n      <td>51</td>\n      <td>1.3</td>\n      <td>1664</td>\n    </tr>\n    <tr>\n      <th>8</th>\n      <td>Idaho</td>\n      <td>92</td>\n      <td>32</td>\n      <td>2944</td>\n      <td>677</td>\n      <td>1.62</td>\n      <td>4769</td>\n    </tr>\n    <tr>\n      <th>9</th>\n      <td>Illinois</td>\n      <td>11</td>\n      <td>39</td>\n      <td>429</td>\n      <td>116</td>\n      <td>4.12</td>\n      <td>1767</td>\n    </tr>\n    <tr>\n      <th>10</th>\n      <td>Indiana</td>\n      <td>9</td>\n      <td>55</td>\n      <td>495</td>\n      <td>188</td>\n      <td>3.78</td>\n      <td>1871</td>\n    </tr>\n    <tr>\n      <th>11</th>\n      <td>Iowa</td>\n      <td>38</td>\n      <td>55</td>\n      <td>2090</td>\n      <td>1170</td>\n      <td>2.35</td>\n      <td>4912</td>\n    </tr>\n    <tr>\n      <th>12</th>\n      <td>Kansas</td>\n      <td>7</td>\n      <td>79</td>\n      <td>553</td>\n      <td>171</td>\n      <td>2.35</td>\n      <td>1300</td>\n    </tr>\n    <tr>\n      <th>13</th>\n      <td>Kentucky</td>\n      <td>6</td>\n      <td>41</td>\n      <td>246</td>\n      <td>44</td>\n      <td>4.66</td>\n      <td>1146</td>\n    </tr>\n    <tr>\n      <th>14</th>\n      <td>Louisiana</td>\n      <td>54</td>\n      <td>72</td>\n      <td>3888</td>\n      <td>428</td>\n      <td>2.15</td>\n      <td>8359</td>\n    </tr>\n    <tr>\n      <th>15</th>\n      <td>Maine</td>\n      <td>15</td>\n      <td>35</td>\n      <td>525</td>\n      <td>110</td>\n      <td>3.28</td>\n      <td>1722</td>\n    </tr>\n    <tr>\n      <th>16</th>\n      <td>Michigan</td>\n      <td>94</td>\n      <td>50</td>\n      <td>4700</td>\n      <td>1363</td>\n      <td>2.56</td>\n      <td>12032</td>\n    </tr>\n    <tr>\n      <th>17</th>\n      <td>Minnesota</td>\n      <td>118</td>\n      <td>59</td>\n      <td>6962</td>\n      <td>3063</td>\n      <td>1.83</td>\n      <td>12740</td>\n    </tr>\n    <tr>\n      <th>18</th>\n      <td>Mississippi</td>\n      <td>22</td>\n      <td>80</td>\n      <td>1760</td>\n      <td>141</td>\n      <td>1.87</td>\n      <td>3291</td>\n    </tr>\n    <tr>\n      <th>19</th>\n      <td>Missouri</td>\n      <td>10</td>\n      <td>43</td>\n      <td>430</td>\n      <td>73</td>\n      <td>3.35</td>\n      <td>1441</td>\n    </tr>\n    <tr>\n      <th>20</th>\n      <td>Montana</td>\n      <td>173</td>\n      <td>86</td>\n      <td>14878</td>\n      <td>5802</td>\n      <td>1.49</td>\n      <td>22168</td>\n    </tr>\n    <tr>\n      <th>21</th>\n      <td>Nebraska</td>\n      <td>39</td>\n      <td>52</td>\n      <td>2028</td>\n      <td>223</td>\n      <td>1.44</td>\n      <td>2920</td>\n    </tr>\n    <tr>\n      <th>22</th>\n      <td>New Jersey</td>\n      <td>15</td>\n      <td>28</td>\n      <td>420</td>\n      <td>155</td>\n      <td>4.68</td>\n      <td>1966</td>\n    </tr>\n    <tr>\n      <th>23</th>\n      <td>New York</td>\n      <td>59</td>\n      <td>58</td>\n      <td>3422</td>\n      <td>1027</td>\n      <td>4</td>\n      <td>13688</td>\n    </tr>\n    <tr>\n      <th>24</th>\n      <td>North Carolina</td>\n      <td>14</td>\n      <td>42</td>\n      <td>588</td>\n      <td>118</td>\n      <td>4.11</td>\n      <td>2417</td>\n    </tr>\n    <tr>\n      <th>25</th>\n      <td>North Dakota</td>\n      <td>520</td>\n      <td>65</td>\n      <td>33800</td>\n      <td>6422</td>\n      <td>1.43</td>\n      <td>48334</td>\n    </tr>\n    <tr>\n      <th>26</th>\n      <td>Ohio</td>\n      <td>15</td>\n      <td>67</td>\n      <td>1005</td>\n      <td>442</td>\n      <td>3.46</td>\n      <td>3477</td>\n    </tr>\n    <tr>\n      <th>27</th>\n      <td>Oregon</td>\n      <td>87</td>\n      <td>32</td>\n      <td>2784</td>\n      <td>1141</td>\n      <td>2.5</td>\n      <td>6960</td>\n    </tr>\n    <tr>\n      <th>28</th>\n      <td>Pennsylvania</td>\n      <td>19</td>\n      <td>50</td>\n      <td>950</td>\n      <td>409</td>\n      <td>4.41</td>\n      <td>4190</td>\n    </tr>\n    <tr>\n      <th>29</th>\n      <td>South Carolina</td>\n      <td>16</td>\n      <td>47</td>\n      <td>752</td>\n      <td>45</td>\n      <td>5.03</td>\n      <td>3783</td>\n    </tr>\n    <tr>\n      <th>30</th>\n      <td>South Dakota</td>\n      <td>270</td>\n      <td>72</td>\n      <td>19440</td>\n      <td>7582</td>\n      <td>1.56</td>\n      <td>30326</td>\n    </tr>\n    <tr>\n      <th>31</th>\n      <td>Tennessee</td>\n      <td>8</td>\n      <td>57</td>\n      <td>456</td>\n      <td>91</td>\n      <td>4.72</td>\n      <td>2152</td>\n    </tr>\n    <tr>\n      <th>32</th>\n      <td>Texas</td>\n      <td>126</td>\n      <td>60</td>\n      <td>7560</td>\n      <td>1663</td>\n      <td>2.32</td>\n      <td>17539</td>\n    </tr>\n    <tr>\n      <th>33</th>\n      <td>Utah</td>\n      <td>22</td>\n      <td>29</td>\n      <td>638</td>\n      <td>89</td>\n      <td>1.97</td>\n      <td>1257</td>\n    </tr>\n    <tr>\n      <th>34</th>\n      <td>Vermont</td>\n      <td>6</td>\n      <td>48</td>\n      <td>288</td>\n      <td>84</td>\n      <td>4.48</td>\n      <td>1290</td>\n    </tr>\n    <tr>\n      <th>35</th>\n      <td>Virginia</td>\n      <td>5</td>\n      <td>39</td>\n      <td>195</td>\n      <td>49</td>\n      <td>7.19</td>\n      <td>1402</td>\n    </tr>\n    <tr>\n      <th>36</th>\n      <td>Washington</td>\n      <td>81</td>\n      <td>35</td>\n      <td>2835</td>\n      <td>1191</td>\n      <td>2.18</td>\n      <td>6180</td>\n    </tr>\n    <tr>\n      <th>37</th>\n      <td>West Virginia</td>\n      <td>6</td>\n      <td>37</td>\n      <td>222</td>\n      <td>47</td>\n      <td>4.26</td>\n      <td>946</td>\n    </tr>\n    <tr>\n      <th>38</th>\n      <td>Wisconsin</td>\n      <td>46</td>\n      <td>47</td>\n      <td>2162</td>\n      <td>692</td>\n      <td>3</td>\n      <td>6486</td>\n    </tr>\n    <tr>\n      <th>39</th>\n      <td>Wyoming</td>\n      <td>39</td>\n      <td>56</td>\n      <td>2184</td>\n      <td>306</td>\n      <td>1.43</td>\n      <td>3123</td>\n    </tr>\n    <tr>\n      <th>40</th>\n      <td>Other States</td>\n      <td>30</td>\n      <td>47</td>\n      <td>1418</td>\n      <td>351</td>\n      <td>4.65</td>\n      <td>6594</td>\n    </tr>\n    <tr>\n      <th>41</th>\n      <td>United States</td>\n      <td>2812</td>\n      <td>55.8</td>\n      <td>156922</td>\n      <td>40861</td>\n      <td>1.99</td>\n      <td>312275</td>\n    </tr>\n  </tbody>\n</table>\n</div>"
     },
     "metadata": {},
     "execution_count": 12
    }
   ],
   "source": [
    "## Reset the index\n",
    "veg_p_and_h = veg_p_and_h.reset_index(drop = True)\n",
    "veg_p_and_h"
   ]
  },
  {
   "cell_type": "code",
   "execution_count": 13,
   "metadata": {},
   "outputs": [],
   "source": [
    "veg_p_and_h.to_csv(\"../veg_plant_and_harvest_19.csv\", index=False)"
   ]
  }
 ]
}