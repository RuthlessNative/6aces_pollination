{
 "metadata": {
  "language_info": {
   "codemirror_mode": {
    "name": "ipython",
    "version": 3
   },
   "file_extension": ".py",
   "mimetype": "text/x-python",
   "name": "python",
   "nbconvert_exporter": "python",
   "pygments_lexer": "ipython3",
   "version": "3.8.5"
  },
  "orig_nbformat": 2,
  "kernelspec": {
   "name": "python385jvsc74a57bd06e67b620515b60b5e0a41f61aaaaaa0b5713da87d04dedede882ceace4acc361",
   "display_name": "Python 3.8.5 64-bit ('base': conda)"
  }
 },
 "nbformat": 4,
 "nbformat_minor": 2,
 "cells": [
  {
   "cell_type": "code",
   "execution_count": 21,
   "metadata": {},
   "outputs": [],
   "source": [
    "## Dependencies and setup\n",
    "import pandas as pd"
   ]
  },
  {
   "cell_type": "code",
   "execution_count": 22,
   "metadata": {},
   "outputs": [],
   "source": [
    "## Load data files\n",
    "q1 = \"hbcny_stress_19q1.csv\"\n",
    "q2 = \"hbcny_stress_19q2.csv\"\n",
    "q3 = \"hbcny_stress_19q3.csv\"\n",
    "q4 = \"hbcny_stress_19q4.csv\""
   ]
  },
  {
   "cell_type": "code",
   "execution_count": 23,
   "metadata": {},
   "outputs": [
    {
     "output_type": "execute_result",
     "data": {
      "text/plain": [
       "        state  v_mites  other_pest_para  diseases  pesticides  other  unknown\n",
       "0     Alabama     46.7             26.7       0.6         4.9    9.0     11.3\n",
       "1     Arizona     53.9              1.5       0.4        23.3    4.0      2.9\n",
       "2    Arkansas     47.7             39.7       1.4         7.8   12.5     32.8\n",
       "3  California     40.5             10.9       5.2        11.3    8.0      5.0\n",
       "4    Colorado     67.7              1.5       NaN        15.3    2.6      0.8"
      ],
      "text/html": "<div>\n<style scoped>\n    .dataframe tbody tr th:only-of-type {\n        vertical-align: middle;\n    }\n\n    .dataframe tbody tr th {\n        vertical-align: top;\n    }\n\n    .dataframe thead th {\n        text-align: right;\n    }\n</style>\n<table border=\"1\" class=\"dataframe\">\n  <thead>\n    <tr style=\"text-align: right;\">\n      <th></th>\n      <th>state</th>\n      <th>v_mites</th>\n      <th>other_pest_para</th>\n      <th>diseases</th>\n      <th>pesticides</th>\n      <th>other</th>\n      <th>unknown</th>\n    </tr>\n  </thead>\n  <tbody>\n    <tr>\n      <th>0</th>\n      <td>Alabama</td>\n      <td>46.7</td>\n      <td>26.7</td>\n      <td>0.6</td>\n      <td>4.9</td>\n      <td>9.0</td>\n      <td>11.3</td>\n    </tr>\n    <tr>\n      <th>1</th>\n      <td>Arizona</td>\n      <td>53.9</td>\n      <td>1.5</td>\n      <td>0.4</td>\n      <td>23.3</td>\n      <td>4.0</td>\n      <td>2.9</td>\n    </tr>\n    <tr>\n      <th>2</th>\n      <td>Arkansas</td>\n      <td>47.7</td>\n      <td>39.7</td>\n      <td>1.4</td>\n      <td>7.8</td>\n      <td>12.5</td>\n      <td>32.8</td>\n    </tr>\n    <tr>\n      <th>3</th>\n      <td>California</td>\n      <td>40.5</td>\n      <td>10.9</td>\n      <td>5.2</td>\n      <td>11.3</td>\n      <td>8.0</td>\n      <td>5.0</td>\n    </tr>\n    <tr>\n      <th>4</th>\n      <td>Colorado</td>\n      <td>67.7</td>\n      <td>1.5</td>\n      <td>NaN</td>\n      <td>15.3</td>\n      <td>2.6</td>\n      <td>0.8</td>\n    </tr>\n  </tbody>\n</table>\n</div>"
     },
     "metadata": {},
     "execution_count": 23
    }
   ],
   "source": [
    "## Read data and store into df\n",
    "## Drop the first 4 rows which hold info text\n",
    "s_q1 = pd.read_csv(q1) \n",
    "s_q2 = pd.read_csv(q2)\n",
    "s_q3 = pd.read_csv(q3)\n",
    "s_q4 = pd.read_csv(q4)\n",
    "\n",
    "s_q4.head()"
   ]
  },
  {
   "cell_type": "code",
   "execution_count": 24,
   "metadata": {},
   "outputs": [
    {
     "output_type": "execute_result",
     "data": {
      "text/plain": [
       "            state  v_mites  other_pest_para  diseases  pesticides  other  \\\n",
       "0         Alabama     27.2             22.7       1.8         0.3    3.1   \n",
       "1         Arizona     25.8              7.9       6.5        16.2    8.4   \n",
       "2        Arkansas     19.5              1.5       3.3        55.3    0.7   \n",
       "3      California     43.5             13.4       6.4        12.3    8.7   \n",
       "4        Colorado     11.2              0.3       NaN         NaN    2.5   \n",
       "..            ...      ...              ...       ...         ...    ...   \n",
       "42  West Virginia     65.8             10.7       1.1         0.4    6.1   \n",
       "43      Wisconsin     40.0             22.1      14.8        14.1   22.0   \n",
       "44        Wyoming     27.6             12.3       3.2         NaN    4.3   \n",
       "45   Other States     13.6              2.3       0.3         0.3   32.4   \n",
       "46  United States     45.7             15.0       5.4        10.9    8.6   \n",
       "\n",
       "    unknown  \n",
       "0       9.0  \n",
       "1       0.2  \n",
       "2       2.9  \n",
       "3       5.6  \n",
       "4       0.6  \n",
       "..      ...  \n",
       "42      2.2  \n",
       "43      7.3  \n",
       "44     13.2  \n",
       "45      0.9  \n",
       "46      5.3  \n",
       "\n",
       "[141 rows x 7 columns]"
      ],
      "text/html": "<div>\n<style scoped>\n    .dataframe tbody tr th:only-of-type {\n        vertical-align: middle;\n    }\n\n    .dataframe tbody tr th {\n        vertical-align: top;\n    }\n\n    .dataframe thead th {\n        text-align: right;\n    }\n</style>\n<table border=\"1\" class=\"dataframe\">\n  <thead>\n    <tr style=\"text-align: right;\">\n      <th></th>\n      <th>state</th>\n      <th>v_mites</th>\n      <th>other_pest_para</th>\n      <th>diseases</th>\n      <th>pesticides</th>\n      <th>other</th>\n      <th>unknown</th>\n    </tr>\n  </thead>\n  <tbody>\n    <tr>\n      <th>0</th>\n      <td>Alabama</td>\n      <td>27.2</td>\n      <td>22.7</td>\n      <td>1.8</td>\n      <td>0.3</td>\n      <td>3.1</td>\n      <td>9.0</td>\n    </tr>\n    <tr>\n      <th>1</th>\n      <td>Arizona</td>\n      <td>25.8</td>\n      <td>7.9</td>\n      <td>6.5</td>\n      <td>16.2</td>\n      <td>8.4</td>\n      <td>0.2</td>\n    </tr>\n    <tr>\n      <th>2</th>\n      <td>Arkansas</td>\n      <td>19.5</td>\n      <td>1.5</td>\n      <td>3.3</td>\n      <td>55.3</td>\n      <td>0.7</td>\n      <td>2.9</td>\n    </tr>\n    <tr>\n      <th>3</th>\n      <td>California</td>\n      <td>43.5</td>\n      <td>13.4</td>\n      <td>6.4</td>\n      <td>12.3</td>\n      <td>8.7</td>\n      <td>5.6</td>\n    </tr>\n    <tr>\n      <th>4</th>\n      <td>Colorado</td>\n      <td>11.2</td>\n      <td>0.3</td>\n      <td>NaN</td>\n      <td>NaN</td>\n      <td>2.5</td>\n      <td>0.6</td>\n    </tr>\n    <tr>\n      <th>...</th>\n      <td>...</td>\n      <td>...</td>\n      <td>...</td>\n      <td>...</td>\n      <td>...</td>\n      <td>...</td>\n      <td>...</td>\n    </tr>\n    <tr>\n      <th>42</th>\n      <td>West Virginia</td>\n      <td>65.8</td>\n      <td>10.7</td>\n      <td>1.1</td>\n      <td>0.4</td>\n      <td>6.1</td>\n      <td>2.2</td>\n    </tr>\n    <tr>\n      <th>43</th>\n      <td>Wisconsin</td>\n      <td>40.0</td>\n      <td>22.1</td>\n      <td>14.8</td>\n      <td>14.1</td>\n      <td>22.0</td>\n      <td>7.3</td>\n    </tr>\n    <tr>\n      <th>44</th>\n      <td>Wyoming</td>\n      <td>27.6</td>\n      <td>12.3</td>\n      <td>3.2</td>\n      <td>NaN</td>\n      <td>4.3</td>\n      <td>13.2</td>\n    </tr>\n    <tr>\n      <th>45</th>\n      <td>Other States</td>\n      <td>13.6</td>\n      <td>2.3</td>\n      <td>0.3</td>\n      <td>0.3</td>\n      <td>32.4</td>\n      <td>0.9</td>\n    </tr>\n    <tr>\n      <th>46</th>\n      <td>United States</td>\n      <td>45.7</td>\n      <td>15.0</td>\n      <td>5.4</td>\n      <td>10.9</td>\n      <td>8.6</td>\n      <td>5.3</td>\n    </tr>\n  </tbody>\n</table>\n<p>141 rows × 7 columns</p>\n</div>"
     },
     "metadata": {},
     "execution_count": 24
    }
   ],
   "source": [
    "## Concatenate all quarters except q2 with no data\n",
    "s_19 = pd.concat([s_q1, s_q3, s_q4])\n",
    "s_19"
   ]
  },
  {
   "cell_type": "code",
   "execution_count": 25,
   "metadata": {},
   "outputs": [
    {
     "output_type": "execute_result",
     "data": {
      "text/plain": [
       "             state  v_mites  other_pest_para  diseases  pesticides  other  \\\n",
       "0          Alabama    34.83            24.67      1.77        1.80   7.27   \n",
       "1          Arizona    36.23             6.43      3.20       16.97   8.53   \n",
       "2         Arkansas    40.13            20.30      3.83       37.87   6.70   \n",
       "3       California    44.33            11.93      6.77       13.20   9.27   \n",
       "4         Colorado    52.90             4.77      4.80       12.75   4.83   \n",
       "5      Connecticut    18.87             6.43      2.40         NaN   3.07   \n",
       "6          Florida    45.10            23.70      6.53       17.60   8.97   \n",
       "7          Georgia    52.13            18.20      4.87       14.83  10.10   \n",
       "8           Hawaii    51.10            55.23      0.20        0.85   1.43   \n",
       "9            Idaho    34.90             9.23     11.70        9.87  12.33   \n",
       "10        Illinois    32.70            16.77      1.63        2.20   9.97   \n",
       "11         Indiana    30.67            13.00      2.73       11.77   9.30   \n",
       "12            Iowa    45.07             8.87      4.00       17.27  18.40   \n",
       "13          Kansas    73.40            18.87     12.07       26.50   7.73   \n",
       "14        Kentucky    27.93            16.87      0.23        5.27  10.20   \n",
       "15       Louisiana    52.63            28.87      1.33       19.33   3.20   \n",
       "16           Maine    10.97             0.40      0.10        2.50   0.63   \n",
       "17        Maryland    17.30             4.10      1.00        0.15   5.17   \n",
       "18   Massachusetts    10.30             1.55      0.50        2.15   2.70   \n",
       "19        Michigan    32.63            10.63      6.47        5.27   5.13   \n",
       "20       Minnesota    31.17             5.40      2.37        9.75   3.47   \n",
       "21     Mississippi    38.23            51.53     23.77       29.23   5.47   \n",
       "22        Missouri    14.33             5.10      0.83        0.47   3.00   \n",
       "23         Montana    19.60             3.93      5.30        2.57   2.57   \n",
       "24        Nebraska    22.43             1.67     16.90        2.37   4.07   \n",
       "25      New Jersey    14.63             2.53      0.30        0.20   1.77   \n",
       "26      New Mexico    16.07            10.17      0.63         NaN   1.60   \n",
       "27        New York    24.87            12.93      1.97        6.20   4.47   \n",
       "28  North Carolina    29.27            11.43      8.13        2.37   9.20   \n",
       "29    North Dakota    32.77             8.65      8.25        6.40   8.70   \n",
       "30            Ohio    41.03            12.83      5.23        1.17   5.30   \n",
       "31        Oklahoma    12.57             0.70      0.10        0.25   1.50   \n",
       "32          Oregon    29.73             5.00      8.23        5.70  11.97   \n",
       "33    Other States    10.60             2.87      1.60        4.00  11.97   \n",
       "34    Pennsylvania    23.97             6.00      2.17        4.07   3.77   \n",
       "35  South Carolina    40.03            14.83      0.77        7.13  15.03   \n",
       "36    South Dakota     7.80             3.20      1.75        7.37   5.33   \n",
       "37       Tennessee    60.27            33.47      2.65       14.53   8.93   \n",
       "38           Texas    23.70            12.93      4.77        8.23   6.63   \n",
       "39   United States    45.13            14.40      7.00       12.70   9.83   \n",
       "40            Utah    24.80             3.45      2.53        5.25   0.37   \n",
       "41         Vermont    16.47             1.90      1.23        0.80   0.43   \n",
       "42        Virginia    30.73            16.57      0.70        0.80   3.97   \n",
       "43      Washington    36.63             1.33      1.23        8.17   4.37   \n",
       "44   West Virginia    36.60             8.20      0.97        1.10   6.00   \n",
       "45       Wisconsin    34.10            15.27      9.80       11.10  14.10   \n",
       "46         Wyoming    24.67             6.35      2.20        2.20   3.70   \n",
       "\n",
       "    unknown  \n",
       "0      8.90  \n",
       "1      1.23  \n",
       "2     25.00  \n",
       "3      4.60  \n",
       "4      0.80  \n",
       "5      1.27  \n",
       "6      7.03  \n",
       "7      4.63  \n",
       "8      0.20  \n",
       "9      0.63  \n",
       "10    10.17  \n",
       "11     1.23  \n",
       "12     3.77  \n",
       "13     6.30  \n",
       "14     7.70  \n",
       "15     1.43  \n",
       "16     0.37  \n",
       "17     2.93  \n",
       "18     6.30  \n",
       "19     2.00  \n",
       "20     2.30  \n",
       "21     5.27  \n",
       "22     1.40  \n",
       "23     0.80  \n",
       "24     2.80  \n",
       "25     0.40  \n",
       "26     0.30  \n",
       "27     5.60  \n",
       "28     6.93  \n",
       "29     4.10  \n",
       "30     4.87  \n",
       "31     1.50  \n",
       "32     5.63  \n",
       "33     0.87  \n",
       "34     6.00  \n",
       "35     3.67  \n",
       "36     1.73  \n",
       "37     5.90  \n",
       "38     2.17  \n",
       "39     5.00  \n",
       "40     4.57  \n",
       "41     0.73  \n",
       "42     6.13  \n",
       "43     1.23  \n",
       "44     1.27  \n",
       "45     5.40  \n",
       "46     6.00  "
      ],
      "text/html": "<div>\n<style scoped>\n    .dataframe tbody tr th:only-of-type {\n        vertical-align: middle;\n    }\n\n    .dataframe tbody tr th {\n        vertical-align: top;\n    }\n\n    .dataframe thead th {\n        text-align: right;\n    }\n</style>\n<table border=\"1\" class=\"dataframe\">\n  <thead>\n    <tr style=\"text-align: right;\">\n      <th></th>\n      <th>state</th>\n      <th>v_mites</th>\n      <th>other_pest_para</th>\n      <th>diseases</th>\n      <th>pesticides</th>\n      <th>other</th>\n      <th>unknown</th>\n    </tr>\n  </thead>\n  <tbody>\n    <tr>\n      <th>0</th>\n      <td>Alabama</td>\n      <td>34.83</td>\n      <td>24.67</td>\n      <td>1.77</td>\n      <td>1.80</td>\n      <td>7.27</td>\n      <td>8.90</td>\n    </tr>\n    <tr>\n      <th>1</th>\n      <td>Arizona</td>\n      <td>36.23</td>\n      <td>6.43</td>\n      <td>3.20</td>\n      <td>16.97</td>\n      <td>8.53</td>\n      <td>1.23</td>\n    </tr>\n    <tr>\n      <th>2</th>\n      <td>Arkansas</td>\n      <td>40.13</td>\n      <td>20.30</td>\n      <td>3.83</td>\n      <td>37.87</td>\n      <td>6.70</td>\n      <td>25.00</td>\n    </tr>\n    <tr>\n      <th>3</th>\n      <td>California</td>\n      <td>44.33</td>\n      <td>11.93</td>\n      <td>6.77</td>\n      <td>13.20</td>\n      <td>9.27</td>\n      <td>4.60</td>\n    </tr>\n    <tr>\n      <th>4</th>\n      <td>Colorado</td>\n      <td>52.90</td>\n      <td>4.77</td>\n      <td>4.80</td>\n      <td>12.75</td>\n      <td>4.83</td>\n      <td>0.80</td>\n    </tr>\n    <tr>\n      <th>5</th>\n      <td>Connecticut</td>\n      <td>18.87</td>\n      <td>6.43</td>\n      <td>2.40</td>\n      <td>NaN</td>\n      <td>3.07</td>\n      <td>1.27</td>\n    </tr>\n    <tr>\n      <th>6</th>\n      <td>Florida</td>\n      <td>45.10</td>\n      <td>23.70</td>\n      <td>6.53</td>\n      <td>17.60</td>\n      <td>8.97</td>\n      <td>7.03</td>\n    </tr>\n    <tr>\n      <th>7</th>\n      <td>Georgia</td>\n      <td>52.13</td>\n      <td>18.20</td>\n      <td>4.87</td>\n      <td>14.83</td>\n      <td>10.10</td>\n      <td>4.63</td>\n    </tr>\n    <tr>\n      <th>8</th>\n      <td>Hawaii</td>\n      <td>51.10</td>\n      <td>55.23</td>\n      <td>0.20</td>\n      <td>0.85</td>\n      <td>1.43</td>\n      <td>0.20</td>\n    </tr>\n    <tr>\n      <th>9</th>\n      <td>Idaho</td>\n      <td>34.90</td>\n      <td>9.23</td>\n      <td>11.70</td>\n      <td>9.87</td>\n      <td>12.33</td>\n      <td>0.63</td>\n    </tr>\n    <tr>\n      <th>10</th>\n      <td>Illinois</td>\n      <td>32.70</td>\n      <td>16.77</td>\n      <td>1.63</td>\n      <td>2.20</td>\n      <td>9.97</td>\n      <td>10.17</td>\n    </tr>\n    <tr>\n      <th>11</th>\n      <td>Indiana</td>\n      <td>30.67</td>\n      <td>13.00</td>\n      <td>2.73</td>\n      <td>11.77</td>\n      <td>9.30</td>\n      <td>1.23</td>\n    </tr>\n    <tr>\n      <th>12</th>\n      <td>Iowa</td>\n      <td>45.07</td>\n      <td>8.87</td>\n      <td>4.00</td>\n      <td>17.27</td>\n      <td>18.40</td>\n      <td>3.77</td>\n    </tr>\n    <tr>\n      <th>13</th>\n      <td>Kansas</td>\n      <td>73.40</td>\n      <td>18.87</td>\n      <td>12.07</td>\n      <td>26.50</td>\n      <td>7.73</td>\n      <td>6.30</td>\n    </tr>\n    <tr>\n      <th>14</th>\n      <td>Kentucky</td>\n      <td>27.93</td>\n      <td>16.87</td>\n      <td>0.23</td>\n      <td>5.27</td>\n      <td>10.20</td>\n      <td>7.70</td>\n    </tr>\n    <tr>\n      <th>15</th>\n      <td>Louisiana</td>\n      <td>52.63</td>\n      <td>28.87</td>\n      <td>1.33</td>\n      <td>19.33</td>\n      <td>3.20</td>\n      <td>1.43</td>\n    </tr>\n    <tr>\n      <th>16</th>\n      <td>Maine</td>\n      <td>10.97</td>\n      <td>0.40</td>\n      <td>0.10</td>\n      <td>2.50</td>\n      <td>0.63</td>\n      <td>0.37</td>\n    </tr>\n    <tr>\n      <th>17</th>\n      <td>Maryland</td>\n      <td>17.30</td>\n      <td>4.10</td>\n      <td>1.00</td>\n      <td>0.15</td>\n      <td>5.17</td>\n      <td>2.93</td>\n    </tr>\n    <tr>\n      <th>18</th>\n      <td>Massachusetts</td>\n      <td>10.30</td>\n      <td>1.55</td>\n      <td>0.50</td>\n      <td>2.15</td>\n      <td>2.70</td>\n      <td>6.30</td>\n    </tr>\n    <tr>\n      <th>19</th>\n      <td>Michigan</td>\n      <td>32.63</td>\n      <td>10.63</td>\n      <td>6.47</td>\n      <td>5.27</td>\n      <td>5.13</td>\n      <td>2.00</td>\n    </tr>\n    <tr>\n      <th>20</th>\n      <td>Minnesota</td>\n      <td>31.17</td>\n      <td>5.40</td>\n      <td>2.37</td>\n      <td>9.75</td>\n      <td>3.47</td>\n      <td>2.30</td>\n    </tr>\n    <tr>\n      <th>21</th>\n      <td>Mississippi</td>\n      <td>38.23</td>\n      <td>51.53</td>\n      <td>23.77</td>\n      <td>29.23</td>\n      <td>5.47</td>\n      <td>5.27</td>\n    </tr>\n    <tr>\n      <th>22</th>\n      <td>Missouri</td>\n      <td>14.33</td>\n      <td>5.10</td>\n      <td>0.83</td>\n      <td>0.47</td>\n      <td>3.00</td>\n      <td>1.40</td>\n    </tr>\n    <tr>\n      <th>23</th>\n      <td>Montana</td>\n      <td>19.60</td>\n      <td>3.93</td>\n      <td>5.30</td>\n      <td>2.57</td>\n      <td>2.57</td>\n      <td>0.80</td>\n    </tr>\n    <tr>\n      <th>24</th>\n      <td>Nebraska</td>\n      <td>22.43</td>\n      <td>1.67</td>\n      <td>16.90</td>\n      <td>2.37</td>\n      <td>4.07</td>\n      <td>2.80</td>\n    </tr>\n    <tr>\n      <th>25</th>\n      <td>New Jersey</td>\n      <td>14.63</td>\n      <td>2.53</td>\n      <td>0.30</td>\n      <td>0.20</td>\n      <td>1.77</td>\n      <td>0.40</td>\n    </tr>\n    <tr>\n      <th>26</th>\n      <td>New Mexico</td>\n      <td>16.07</td>\n      <td>10.17</td>\n      <td>0.63</td>\n      <td>NaN</td>\n      <td>1.60</td>\n      <td>0.30</td>\n    </tr>\n    <tr>\n      <th>27</th>\n      <td>New York</td>\n      <td>24.87</td>\n      <td>12.93</td>\n      <td>1.97</td>\n      <td>6.20</td>\n      <td>4.47</td>\n      <td>5.60</td>\n    </tr>\n    <tr>\n      <th>28</th>\n      <td>North Carolina</td>\n      <td>29.27</td>\n      <td>11.43</td>\n      <td>8.13</td>\n      <td>2.37</td>\n      <td>9.20</td>\n      <td>6.93</td>\n    </tr>\n    <tr>\n      <th>29</th>\n      <td>North Dakota</td>\n      <td>32.77</td>\n      <td>8.65</td>\n      <td>8.25</td>\n      <td>6.40</td>\n      <td>8.70</td>\n      <td>4.10</td>\n    </tr>\n    <tr>\n      <th>30</th>\n      <td>Ohio</td>\n      <td>41.03</td>\n      <td>12.83</td>\n      <td>5.23</td>\n      <td>1.17</td>\n      <td>5.30</td>\n      <td>4.87</td>\n    </tr>\n    <tr>\n      <th>31</th>\n      <td>Oklahoma</td>\n      <td>12.57</td>\n      <td>0.70</td>\n      <td>0.10</td>\n      <td>0.25</td>\n      <td>1.50</td>\n      <td>1.50</td>\n    </tr>\n    <tr>\n      <th>32</th>\n      <td>Oregon</td>\n      <td>29.73</td>\n      <td>5.00</td>\n      <td>8.23</td>\n      <td>5.70</td>\n      <td>11.97</td>\n      <td>5.63</td>\n    </tr>\n    <tr>\n      <th>33</th>\n      <td>Other States</td>\n      <td>10.60</td>\n      <td>2.87</td>\n      <td>1.60</td>\n      <td>4.00</td>\n      <td>11.97</td>\n      <td>0.87</td>\n    </tr>\n    <tr>\n      <th>34</th>\n      <td>Pennsylvania</td>\n      <td>23.97</td>\n      <td>6.00</td>\n      <td>2.17</td>\n      <td>4.07</td>\n      <td>3.77</td>\n      <td>6.00</td>\n    </tr>\n    <tr>\n      <th>35</th>\n      <td>South Carolina</td>\n      <td>40.03</td>\n      <td>14.83</td>\n      <td>0.77</td>\n      <td>7.13</td>\n      <td>15.03</td>\n      <td>3.67</td>\n    </tr>\n    <tr>\n      <th>36</th>\n      <td>South Dakota</td>\n      <td>7.80</td>\n      <td>3.20</td>\n      <td>1.75</td>\n      <td>7.37</td>\n      <td>5.33</td>\n      <td>1.73</td>\n    </tr>\n    <tr>\n      <th>37</th>\n      <td>Tennessee</td>\n      <td>60.27</td>\n      <td>33.47</td>\n      <td>2.65</td>\n      <td>14.53</td>\n      <td>8.93</td>\n      <td>5.90</td>\n    </tr>\n    <tr>\n      <th>38</th>\n      <td>Texas</td>\n      <td>23.70</td>\n      <td>12.93</td>\n      <td>4.77</td>\n      <td>8.23</td>\n      <td>6.63</td>\n      <td>2.17</td>\n    </tr>\n    <tr>\n      <th>39</th>\n      <td>United States</td>\n      <td>45.13</td>\n      <td>14.40</td>\n      <td>7.00</td>\n      <td>12.70</td>\n      <td>9.83</td>\n      <td>5.00</td>\n    </tr>\n    <tr>\n      <th>40</th>\n      <td>Utah</td>\n      <td>24.80</td>\n      <td>3.45</td>\n      <td>2.53</td>\n      <td>5.25</td>\n      <td>0.37</td>\n      <td>4.57</td>\n    </tr>\n    <tr>\n      <th>41</th>\n      <td>Vermont</td>\n      <td>16.47</td>\n      <td>1.90</td>\n      <td>1.23</td>\n      <td>0.80</td>\n      <td>0.43</td>\n      <td>0.73</td>\n    </tr>\n    <tr>\n      <th>42</th>\n      <td>Virginia</td>\n      <td>30.73</td>\n      <td>16.57</td>\n      <td>0.70</td>\n      <td>0.80</td>\n      <td>3.97</td>\n      <td>6.13</td>\n    </tr>\n    <tr>\n      <th>43</th>\n      <td>Washington</td>\n      <td>36.63</td>\n      <td>1.33</td>\n      <td>1.23</td>\n      <td>8.17</td>\n      <td>4.37</td>\n      <td>1.23</td>\n    </tr>\n    <tr>\n      <th>44</th>\n      <td>West Virginia</td>\n      <td>36.60</td>\n      <td>8.20</td>\n      <td>0.97</td>\n      <td>1.10</td>\n      <td>6.00</td>\n      <td>1.27</td>\n    </tr>\n    <tr>\n      <th>45</th>\n      <td>Wisconsin</td>\n      <td>34.10</td>\n      <td>15.27</td>\n      <td>9.80</td>\n      <td>11.10</td>\n      <td>14.10</td>\n      <td>5.40</td>\n    </tr>\n    <tr>\n      <th>46</th>\n      <td>Wyoming</td>\n      <td>24.67</td>\n      <td>6.35</td>\n      <td>2.20</td>\n      <td>2.20</td>\n      <td>3.70</td>\n      <td>6.00</td>\n    </tr>\n  </tbody>\n</table>\n</div>"
     },
     "metadata": {},
     "execution_count": 25
    }
   ],
   "source": [
    "s_19 = round(s_19.groupby([\"state\"]).mean(), 2)\n",
    "s_19 = s_19.reset_index(drop = False)\n",
    "s_19"
   ]
  },
  {
   "cell_type": "code",
   "execution_count": 26,
   "metadata": {},
   "outputs": [],
   "source": [
    "s_19.to_csv(\"../hbcny_stress_19.csv\", index=False)"
   ]
  }
 ]
}