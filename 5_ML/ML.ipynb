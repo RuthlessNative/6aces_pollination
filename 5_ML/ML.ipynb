{
 "metadata": {
  "language_info": {
   "codemirror_mode": {
    "name": "ipython",
    "version": 3
   },
   "file_extension": ".py",
   "mimetype": "text/x-python",
   "name": "python",
   "nbconvert_exporter": "python",
   "pygments_lexer": "ipython3",
   "version": "3.8.5"
  },
  "orig_nbformat": 2,
  "kernelspec": {
   "name": "python385jvsc74a57bd0fd67e6b1169f95e39aec8da660fd745774152eeffd80e8c856f0fbbda051db73",
   "display_name": "Python 3.8.5 64-bit ('base': conda)"
  }
 },
 "nbformat": 4,
 "nbformat_minor": 2,
 "cells": [
  {
   "cell_type": "code",
   "execution_count": 1,
   "metadata": {},
   "outputs": [],
   "source": [
    "import pandas as pd"
   ]
  },
  {
   "cell_type": "code",
   "execution_count": 8,
   "metadata": {},
   "outputs": [
    {
     "output_type": "execute_result",
     "data": {
      "text/plain": [
       "        state  num_cny_on_day1_qtr  ... renovated_cny  pct_renovated\n",
       "0     Alabama                 5500  ...         200.0            4.0\n",
       "1     Arizona                22000  ...          90.0            0.0\n",
       "2    Arkansas                28000  ...          20.0            0.0\n",
       "3  California              1140000  ...       86000.0            5.0\n",
       "4    Colorado                 5000  ...           NaN            NaN\n",
       "\n",
       "[5 rows x 8 columns]"
      ],
      "text/html": "<div>\n<style scoped>\n    .dataframe tbody tr th:only-of-type {\n        vertical-align: middle;\n    }\n\n    .dataframe tbody tr th {\n        vertical-align: top;\n    }\n\n    .dataframe thead th {\n        text-align: right;\n    }\n</style>\n<table border=\"1\" class=\"dataframe\">\n  <thead>\n    <tr style=\"text-align: right;\">\n      <th></th>\n      <th>state</th>\n      <th>num_cny_on_day1_qtr</th>\n      <th>max_cny</th>\n      <th>lost_cny</th>\n      <th>pct_lost</th>\n      <th>added_cny</th>\n      <th>renovated_cny</th>\n      <th>pct_renovated</th>\n    </tr>\n  </thead>\n  <tbody>\n    <tr>\n      <th>0</th>\n      <td>Alabama</td>\n      <td>5500</td>\n      <td>5500</td>\n      <td>650</td>\n      <td>12</td>\n      <td>800.0</td>\n      <td>200.0</td>\n      <td>4.0</td>\n    </tr>\n    <tr>\n      <th>1</th>\n      <td>Arizona</td>\n      <td>22000</td>\n      <td>22000</td>\n      <td>2500</td>\n      <td>11</td>\n      <td>430.0</td>\n      <td>90.0</td>\n      <td>0.0</td>\n    </tr>\n    <tr>\n      <th>2</th>\n      <td>Arkansas</td>\n      <td>28000</td>\n      <td>28000</td>\n      <td>6500</td>\n      <td>23</td>\n      <td>20.0</td>\n      <td>20.0</td>\n      <td>0.0</td>\n    </tr>\n    <tr>\n      <th>3</th>\n      <td>California</td>\n      <td>1140000</td>\n      <td>1580000</td>\n      <td>235000</td>\n      <td>15</td>\n      <td>83000.0</td>\n      <td>86000.0</td>\n      <td>5.0</td>\n    </tr>\n    <tr>\n      <th>4</th>\n      <td>Colorado</td>\n      <td>5000</td>\n      <td>7500</td>\n      <td>320</td>\n      <td>4</td>\n      <td>NaN</td>\n      <td>NaN</td>\n      <td>NaN</td>\n    </tr>\n  </tbody>\n</table>\n</div>"
     },
     "metadata": {},
     "execution_count": 8
    }
   ],
   "source": [
    "ggacpc = \"../2_Transform/USDA-HB_Colony_Health_2019/hbcny_+-_2019_q1.csv\"\n",
    "df1 = pd.read_csv(ggacpc)\n",
    "df1.head()"
   ]
  },
  {
   "cell_type": "code",
   "execution_count": 11,
   "metadata": {},
   "outputs": [
    {
     "output_type": "execute_result",
     "data": {
      "text/plain": [
       "        state  num_cny_on_day1_qtr  max_cny  lost_cny  pct_lost\n",
       "0     Alabama                 5500     5500       650        12\n",
       "1     Arizona                22000    22000      2500        11\n",
       "2    Arkansas                28000    28000      6500        23\n",
       "3  California              1140000  1580000    235000        15\n",
       "4    Colorado                 5000     7500       320         4"
      ],
      "text/html": "<div>\n<style scoped>\n    .dataframe tbody tr th:only-of-type {\n        vertical-align: middle;\n    }\n\n    .dataframe tbody tr th {\n        vertical-align: top;\n    }\n\n    .dataframe thead th {\n        text-align: right;\n    }\n</style>\n<table border=\"1\" class=\"dataframe\">\n  <thead>\n    <tr style=\"text-align: right;\">\n      <th></th>\n      <th>state</th>\n      <th>num_cny_on_day1_qtr</th>\n      <th>max_cny</th>\n      <th>lost_cny</th>\n      <th>pct_lost</th>\n    </tr>\n  </thead>\n  <tbody>\n    <tr>\n      <th>0</th>\n      <td>Alabama</td>\n      <td>5500</td>\n      <td>5500</td>\n      <td>650</td>\n      <td>12</td>\n    </tr>\n    <tr>\n      <th>1</th>\n      <td>Arizona</td>\n      <td>22000</td>\n      <td>22000</td>\n      <td>2500</td>\n      <td>11</td>\n    </tr>\n    <tr>\n      <th>2</th>\n      <td>Arkansas</td>\n      <td>28000</td>\n      <td>28000</td>\n      <td>6500</td>\n      <td>23</td>\n    </tr>\n    <tr>\n      <th>3</th>\n      <td>California</td>\n      <td>1140000</td>\n      <td>1580000</td>\n      <td>235000</td>\n      <td>15</td>\n    </tr>\n    <tr>\n      <th>4</th>\n      <td>Colorado</td>\n      <td>5000</td>\n      <td>7500</td>\n      <td>320</td>\n      <td>4</td>\n    </tr>\n  </tbody>\n</table>\n</div>"
     },
     "metadata": {},
     "execution_count": 11
    }
   ],
   "source": [
    "df1 = df1[['state', 'num_cny_on_day1_qtr', 'max_cny', 'lost_cny', 'pct_lost']]\n",
    "df1.head()"
   ]
  },
  {
   "cell_type": "code",
   "execution_count": 12,
   "metadata": {},
   "outputs": [],
   "source": [
    "X = df1[['state', 'max_cny', 'lost_cny', 'pct_lost']]\n",
    "y = df1['num_cny_on_day1_qtr']"
   ]
  },
  {
   "cell_type": "code",
   "execution_count": 14,
   "metadata": {},
   "outputs": [],
   "source": [
    "from sklearn.model_selection import train_test_split\n",
    "X_train, X_test, y_train, y_test = train_test_split(X, y, random_state=42)"
   ]
  },
  {
   "cell_type": "code",
   "execution_count": null,
   "metadata": {},
   "outputs": [],
   "source": []
  }
 ]
}