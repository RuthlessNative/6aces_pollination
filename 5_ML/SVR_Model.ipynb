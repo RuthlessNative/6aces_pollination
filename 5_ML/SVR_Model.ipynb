{
 "metadata": {
  "language_info": {
   "codemirror_mode": {
    "name": "ipython",
    "version": 3
   },
   "file_extension": ".py",
   "mimetype": "text/x-python",
   "name": "python",
   "nbconvert_exporter": "python",
   "pygments_lexer": "ipython3",
   "version": "3.8.5"
  },
  "orig_nbformat": 2,
  "kernelspec": {
   "name": "python385jvsc74a57bd0fd67e6b1169f95e39aec8da660fd745774152eeffd80e8c856f0fbbda051db73",
   "display_name": "Python 3.8.5 64-bit ('base': conda)"
  }
 },
 "nbformat": 4,
 "nbformat_minor": 2,
 "cells": [
  {
   "cell_type": "code",
   "execution_count": 1,
   "metadata": {},
   "outputs": [],
   "source": [
    "import matplotlib.pyplot as plt\n",
    "import pandas as pd\n",
    "import os\n",
    "# from sklearn import preprocessing\n",
    "# from sklearn import utils\n",
    "from sklearn.model_selection import train_test_split\n",
    "# from sklearn.linear_model import LogisticRegression\n",
    "from sklearn.preprocessing import StandardScaler\n",
    "from sklearn import tree\n",
    "from sklearn.svm import LinearSVR\n",
    "from sklearn.pipeline import make_pipeline\n",
    "# from sklearn.datasets import make_regression"
   ]
  },
  {
   "cell_type": "code",
   "execution_count": 2,
   "metadata": {},
   "outputs": [
    {
     "output_type": "execute_result",
     "data": {
      "text/plain": [
       "        state  max_h_prod_cny  yield/cny  prod(1000_lbs)  prod_held_stocks  \\\n",
       "0     Alabama               7       42.0             294                44   \n",
       "1     Arizona              23       46.0            1058               201   \n",
       "2    Arkansas              20       55.0            1100               176   \n",
       "3  California             335       48.0           16080              3216   \n",
       "4    Colorado              32       46.0            1472               500   \n",
       "\n",
       "   avg_price/lb(1_dollar)  value_prod(1000_dollars)  \n",
       "0                    3.38                       994  \n",
       "1                    2.04                      2158  \n",
       "2                    1.65                      1815  \n",
       "3                    1.60                     25728  \n",
       "4                    2.34                      3444  "
      ],
      "text/html": "<div>\n<style scoped>\n    .dataframe tbody tr th:only-of-type {\n        vertical-align: middle;\n    }\n\n    .dataframe tbody tr th {\n        vertical-align: top;\n    }\n\n    .dataframe thead th {\n        text-align: right;\n    }\n</style>\n<table border=\"1\" class=\"dataframe\">\n  <thead>\n    <tr style=\"text-align: right;\">\n      <th></th>\n      <th>state</th>\n      <th>max_h_prod_cny</th>\n      <th>yield/cny</th>\n      <th>prod(1000_lbs)</th>\n      <th>prod_held_stocks</th>\n      <th>avg_price/lb(1_dollar)</th>\n      <th>value_prod(1000_dollars)</th>\n    </tr>\n  </thead>\n  <tbody>\n    <tr>\n      <th>0</th>\n      <td>Alabama</td>\n      <td>7</td>\n      <td>42.0</td>\n      <td>294</td>\n      <td>44</td>\n      <td>3.38</td>\n      <td>994</td>\n    </tr>\n    <tr>\n      <th>1</th>\n      <td>Arizona</td>\n      <td>23</td>\n      <td>46.0</td>\n      <td>1058</td>\n      <td>201</td>\n      <td>2.04</td>\n      <td>2158</td>\n    </tr>\n    <tr>\n      <th>2</th>\n      <td>Arkansas</td>\n      <td>20</td>\n      <td>55.0</td>\n      <td>1100</td>\n      <td>176</td>\n      <td>1.65</td>\n      <td>1815</td>\n    </tr>\n    <tr>\n      <th>3</th>\n      <td>California</td>\n      <td>335</td>\n      <td>48.0</td>\n      <td>16080</td>\n      <td>3216</td>\n      <td>1.60</td>\n      <td>25728</td>\n    </tr>\n    <tr>\n      <th>4</th>\n      <td>Colorado</td>\n      <td>32</td>\n      <td>46.0</td>\n      <td>1472</td>\n      <td>500</td>\n      <td>2.34</td>\n      <td>3444</td>\n    </tr>\n  </tbody>\n</table>\n</div>"
     },
     "metadata": {},
     "execution_count": 2
    }
   ],
   "source": [
    "honey = \"../2_Transform/hp_prod_19.csv\"\n",
    "df1 = pd.read_csv(honey)\n",
    "df1.head()"
   ]
  },
  {
   "cell_type": "code",
   "execution_count": 3,
   "metadata": {},
   "outputs": [
    {
     "output_type": "execute_result",
     "data": {
      "text/plain": [
       "<bound method NDFrame.head of              state  max_h_prod_cny  yield/cny  prod(1000_lbs)  \\\n",
       "0          Alabama               7       42.0             294   \n",
       "1          Arizona              23       46.0            1058   \n",
       "2         Arkansas              20       55.0            1100   \n",
       "3       California             335       48.0           16080   \n",
       "4         Colorado              32       46.0            1472   \n",
       "5          Florida             205       45.0            9225   \n",
       "6          Georgia             102       33.0            3366   \n",
       "7           Hawaii              16       80.0            1280   \n",
       "8            Idaho              92       32.0            2944   \n",
       "9         Illinois              11       39.0             429   \n",
       "10         Indiana               9       55.0             495   \n",
       "11            Iowa              38       55.0            2090   \n",
       "12          Kansas               7       79.0             553   \n",
       "13        Kentucky               6       41.0             246   \n",
       "14       Louisiana              54       72.0            3888   \n",
       "15           Maine              15       35.0             525   \n",
       "16        Michigan              94       50.0            4700   \n",
       "17       Minnesota             118       59.0            6962   \n",
       "18     Mississippi              22       80.0            1760   \n",
       "19        Missouri              10       43.0             430   \n",
       "20         Montana             173       86.0           14878   \n",
       "21        Nebraska              39       52.0            2028   \n",
       "22      New Jersey              15       28.0             420   \n",
       "23        New York              59       58.0            3422   \n",
       "24  North Carolina              14       42.0             588   \n",
       "25    North Dakota             520       65.0           33800   \n",
       "26            Ohio              15       67.0            1005   \n",
       "27          Oregon              87       32.0            2784   \n",
       "28    Pennsylvania              19       50.0             950   \n",
       "29  South Carolina              16       47.0             752   \n",
       "30    South Dakota             270       72.0           19440   \n",
       "31       Tennessee               8       57.0             456   \n",
       "32           Texas             126       60.0            7560   \n",
       "33            Utah              22       29.0             638   \n",
       "34         Vermont               6       48.0             288   \n",
       "35        Virginia               5       39.0             195   \n",
       "36      Washington              81       35.0            2835   \n",
       "37   West Virginia               6       37.0             222   \n",
       "38       Wisconsin              46       47.0            2162   \n",
       "39         Wyoming              39       56.0            2184   \n",
       "40    Other States              30       47.0            1418   \n",
       "\n",
       "    prod_held_stocks  avg_price/lb(1_dollar)  value_prod(1000_dollars)  \n",
       "0                 44                    3.38                       994  \n",
       "1                201                    2.04                      2158  \n",
       "2                176                    1.65                      1815  \n",
       "3               3216                    1.60                     25728  \n",
       "4                500                    2.34                      3444  \n",
       "5                830                    2.46                     22694  \n",
       "6                370                    2.67                      8987  \n",
       "7                 51                    1.30                      1664  \n",
       "8                677                    1.62                      4769  \n",
       "9                116                    4.12                      1767  \n",
       "10               188                    3.78                      1871  \n",
       "11              1170                    2.35                      4912  \n",
       "12               171                    2.35                      1300  \n",
       "13                44                    4.66                      1146  \n",
       "14               428                    2.15                      8359  \n",
       "15               110                    3.28                      1722  \n",
       "16              1363                    2.56                     12032  \n",
       "17              3063                    1.83                     12740  \n",
       "18               141                    1.87                      3291  \n",
       "19                73                    3.35                      1441  \n",
       "20              5802                    1.49                     22168  \n",
       "21               223                    1.44                      2920  \n",
       "22               155                    4.68                      1966  \n",
       "23              1027                    4.00                     13688  \n",
       "24               118                    4.11                      2417  \n",
       "25              6422                    1.43                     48334  \n",
       "26               442                    3.46                      3477  \n",
       "27              1141                    2.50                      6960  \n",
       "28               409                    4.41                      4190  \n",
       "29                45                    5.03                      3783  \n",
       "30              7582                    1.56                     30326  \n",
       "31                91                    4.72                      2152  \n",
       "32              1663                    2.32                     17539  \n",
       "33                89                    1.97                      1257  \n",
       "34                84                    4.48                      1290  \n",
       "35                49                    7.19                      1402  \n",
       "36              1191                    2.18                      6180  \n",
       "37                47                    4.26                       946  \n",
       "38               692                    3.00                      6486  \n",
       "39               306                    1.43                      3123  \n",
       "40               351                    4.65                      6594  >"
      ]
     },
     "metadata": {},
     "execution_count": 3
    }
   ],
   "source": [
    "df1 = df1[df1['state']!='United States']\n",
    "# df1 = df1[df1['state']!='Other States']\n",
    "df1.head"
   ]
  },
  {
   "cell_type": "code",
   "execution_count": 4,
   "metadata": {},
   "outputs": [
    {
     "output_type": "execute_result",
     "data": {
      "text/plain": [
       "<bound method NDFrame.head of              state  v_mites  other_pest_para  diseases  pesticides  other  \\\n",
       "0          Alabama    34.83            24.67      1.77        1.80   7.27   \n",
       "1          Arizona    36.23             6.43      3.20       16.97   8.53   \n",
       "2         Arkansas    40.13            20.30      3.83       37.87   6.70   \n",
       "3       California    44.33            11.93      6.77       13.20   9.27   \n",
       "4         Colorado    52.90             4.77      4.80       12.75   4.83   \n",
       "5      Connecticut    18.87             6.43      2.40         NaN   3.07   \n",
       "6          Florida    45.10            23.70      6.53       17.60   8.97   \n",
       "7          Georgia    52.13            18.20      4.87       14.83  10.10   \n",
       "8           Hawaii    51.10            55.23      0.20        0.85   1.43   \n",
       "9            Idaho    34.90             9.23     11.70        9.87  12.33   \n",
       "10        Illinois    32.70            16.77      1.63        2.20   9.97   \n",
       "11         Indiana    30.67            13.00      2.73       11.77   9.30   \n",
       "12            Iowa    45.07             8.87      4.00       17.27  18.40   \n",
       "13          Kansas    73.40            18.87     12.07       26.50   7.73   \n",
       "14        Kentucky    27.93            16.87      0.23        5.27  10.20   \n",
       "15       Louisiana    52.63            28.87      1.33       19.33   3.20   \n",
       "16           Maine    10.97             0.40      0.10        2.50   0.63   \n",
       "17        Maryland    17.30             4.10      1.00        0.15   5.17   \n",
       "18   Massachusetts    10.30             1.55      0.50        2.15   2.70   \n",
       "19        Michigan    32.63            10.63      6.47        5.27   5.13   \n",
       "20       Minnesota    31.17             5.40      2.37        9.75   3.47   \n",
       "21     Mississippi    38.23            51.53     23.77       29.23   5.47   \n",
       "22        Missouri    14.33             5.10      0.83        0.47   3.00   \n",
       "23         Montana    19.60             3.93      5.30        2.57   2.57   \n",
       "24        Nebraska    22.43             1.67     16.90        2.37   4.07   \n",
       "25      New Jersey    14.63             2.53      0.30        0.20   1.77   \n",
       "26      New Mexico    16.07            10.17      0.63         NaN   1.60   \n",
       "27        New York    24.87            12.93      1.97        6.20   4.47   \n",
       "28  North Carolina    29.27            11.43      8.13        2.37   9.20   \n",
       "29    North Dakota    32.77             8.65      8.25        6.40   8.70   \n",
       "30            Ohio    41.03            12.83      5.23        1.17   5.30   \n",
       "31        Oklahoma    12.57             0.70      0.10        0.25   1.50   \n",
       "32          Oregon    29.73             5.00      8.23        5.70  11.97   \n",
       "33    Other States    10.60             2.87      1.60        4.00  11.97   \n",
       "34    Pennsylvania    23.97             6.00      2.17        4.07   3.77   \n",
       "35  South Carolina    40.03            14.83      0.77        7.13  15.03   \n",
       "36    South Dakota     7.80             3.20      1.75        7.37   5.33   \n",
       "37       Tennessee    60.27            33.47      2.65       14.53   8.93   \n",
       "38           Texas    23.70            12.93      4.77        8.23   6.63   \n",
       "39   United States    45.13            14.40      7.00       12.70   9.83   \n",
       "40            Utah    24.80             3.45      2.53        5.25   0.37   \n",
       "41         Vermont    16.47             1.90      1.23        0.80   0.43   \n",
       "42        Virginia    30.73            16.57      0.70        0.80   3.97   \n",
       "43      Washington    36.63             1.33      1.23        8.17   4.37   \n",
       "44   West Virginia    36.60             8.20      0.97        1.10   6.00   \n",
       "45       Wisconsin    34.10            15.27      9.80       11.10  14.10   \n",
       "46         Wyoming    24.67             6.35      2.20        2.20   3.70   \n",
       "\n",
       "    unknown  \n",
       "0      8.90  \n",
       "1      1.23  \n",
       "2     25.00  \n",
       "3      4.60  \n",
       "4      0.80  \n",
       "5      1.27  \n",
       "6      7.03  \n",
       "7      4.63  \n",
       "8      0.20  \n",
       "9      0.63  \n",
       "10    10.17  \n",
       "11     1.23  \n",
       "12     3.77  \n",
       "13     6.30  \n",
       "14     7.70  \n",
       "15     1.43  \n",
       "16     0.37  \n",
       "17     2.93  \n",
       "18     6.30  \n",
       "19     2.00  \n",
       "20     2.30  \n",
       "21     5.27  \n",
       "22     1.40  \n",
       "23     0.80  \n",
       "24     2.80  \n",
       "25     0.40  \n",
       "26     0.30  \n",
       "27     5.60  \n",
       "28     6.93  \n",
       "29     4.10  \n",
       "30     4.87  \n",
       "31     1.50  \n",
       "32     5.63  \n",
       "33     0.87  \n",
       "34     6.00  \n",
       "35     3.67  \n",
       "36     1.73  \n",
       "37     5.90  \n",
       "38     2.17  \n",
       "39     5.00  \n",
       "40     4.57  \n",
       "41     0.73  \n",
       "42     6.13  \n",
       "43     1.23  \n",
       "44     1.27  \n",
       "45     5.40  \n",
       "46     6.00  >"
      ]
     },
     "metadata": {},
     "execution_count": 4
    }
   ],
   "source": [
    "stress = \"../2_Transform/hbcny_stress_19.csv\"\n",
    "df2 = pd.read_csv(stress)\n",
    "df2.head"
   ]
  },
  {
   "cell_type": "code",
   "execution_count": 5,
   "metadata": {},
   "outputs": [
    {
     "output_type": "execute_result",
     "data": {
      "text/plain": [
       "        state  v_mites  other_pest_para  diseases  pesticides  other  unknown\n",
       "0     Alabama    34.83            24.67      1.77        1.80   7.27     8.90\n",
       "1     Arizona    36.23             6.43      3.20       16.97   8.53     1.23\n",
       "2    Arkansas    40.13            20.30      3.83       37.87   6.70    25.00\n",
       "3  California    44.33            11.93      6.77       13.20   9.27     4.60\n",
       "4    Colorado    52.90             4.77      4.80       12.75   4.83     0.80"
      ],
      "text/html": "<div>\n<style scoped>\n    .dataframe tbody tr th:only-of-type {\n        vertical-align: middle;\n    }\n\n    .dataframe tbody tr th {\n        vertical-align: top;\n    }\n\n    .dataframe thead th {\n        text-align: right;\n    }\n</style>\n<table border=\"1\" class=\"dataframe\">\n  <thead>\n    <tr style=\"text-align: right;\">\n      <th></th>\n      <th>state</th>\n      <th>v_mites</th>\n      <th>other_pest_para</th>\n      <th>diseases</th>\n      <th>pesticides</th>\n      <th>other</th>\n      <th>unknown</th>\n    </tr>\n  </thead>\n  <tbody>\n    <tr>\n      <th>0</th>\n      <td>Alabama</td>\n      <td>34.83</td>\n      <td>24.67</td>\n      <td>1.77</td>\n      <td>1.80</td>\n      <td>7.27</td>\n      <td>8.90</td>\n    </tr>\n    <tr>\n      <th>1</th>\n      <td>Arizona</td>\n      <td>36.23</td>\n      <td>6.43</td>\n      <td>3.20</td>\n      <td>16.97</td>\n      <td>8.53</td>\n      <td>1.23</td>\n    </tr>\n    <tr>\n      <th>2</th>\n      <td>Arkansas</td>\n      <td>40.13</td>\n      <td>20.30</td>\n      <td>3.83</td>\n      <td>37.87</td>\n      <td>6.70</td>\n      <td>25.00</td>\n    </tr>\n    <tr>\n      <th>3</th>\n      <td>California</td>\n      <td>44.33</td>\n      <td>11.93</td>\n      <td>6.77</td>\n      <td>13.20</td>\n      <td>9.27</td>\n      <td>4.60</td>\n    </tr>\n    <tr>\n      <th>4</th>\n      <td>Colorado</td>\n      <td>52.90</td>\n      <td>4.77</td>\n      <td>4.80</td>\n      <td>12.75</td>\n      <td>4.83</td>\n      <td>0.80</td>\n    </tr>\n  </tbody>\n</table>\n</div>"
     },
     "metadata": {},
     "execution_count": 5
    }
   ],
   "source": [
    "df2 = df2[df2['state']!='Connecticut']\n",
    "df2 = df2[df2['state']!='Maryland']\n",
    "df2 = df2[df2['state']!='Massachusetts']\n",
    "df2 = df2[df2['state']!='Oklahoma']\n",
    "df2 = df2[df2['state']!='New Mexico']\n",
    "df2 = df2[df2['state']!='United States']\n",
    "df2.head()"
   ]
  },
  {
   "cell_type": "code",
   "execution_count": 6,
   "metadata": {},
   "outputs": [
    {
     "output_type": "execute_result",
     "data": {
      "text/plain": [
       "<bound method NDFrame.head of              state  max_h_prod_cny  yield/cny  prod(1000_lbs)  \\\n",
       "0          Alabama               7       42.0             294   \n",
       "1          Arizona              23       46.0            1058   \n",
       "2         Arkansas              20       55.0            1100   \n",
       "3       California             335       48.0           16080   \n",
       "4         Colorado              32       46.0            1472   \n",
       "5          Florida             205       45.0            9225   \n",
       "6          Georgia             102       33.0            3366   \n",
       "7           Hawaii              16       80.0            1280   \n",
       "8            Idaho              92       32.0            2944   \n",
       "9         Illinois              11       39.0             429   \n",
       "10         Indiana               9       55.0             495   \n",
       "11            Iowa              38       55.0            2090   \n",
       "12          Kansas               7       79.0             553   \n",
       "13        Kentucky               6       41.0             246   \n",
       "14       Louisiana              54       72.0            3888   \n",
       "15           Maine              15       35.0             525   \n",
       "16        Michigan              94       50.0            4700   \n",
       "17       Minnesota             118       59.0            6962   \n",
       "18     Mississippi              22       80.0            1760   \n",
       "19        Missouri              10       43.0             430   \n",
       "20         Montana             173       86.0           14878   \n",
       "21        Nebraska              39       52.0            2028   \n",
       "22      New Jersey              15       28.0             420   \n",
       "23        New York              59       58.0            3422   \n",
       "24  North Carolina              14       42.0             588   \n",
       "25    North Dakota             520       65.0           33800   \n",
       "26            Ohio              15       67.0            1005   \n",
       "27          Oregon              87       32.0            2784   \n",
       "28    Pennsylvania              19       50.0             950   \n",
       "29  South Carolina              16       47.0             752   \n",
       "30    South Dakota             270       72.0           19440   \n",
       "31       Tennessee               8       57.0             456   \n",
       "32           Texas             126       60.0            7560   \n",
       "33            Utah              22       29.0             638   \n",
       "34         Vermont               6       48.0             288   \n",
       "35        Virginia               5       39.0             195   \n",
       "36      Washington              81       35.0            2835   \n",
       "37   West Virginia               6       37.0             222   \n",
       "38       Wisconsin              46       47.0            2162   \n",
       "39         Wyoming              39       56.0            2184   \n",
       "40    Other States              30       47.0            1418   \n",
       "\n",
       "    prod_held_stocks  avg_price/lb(1_dollar)  value_prod(1000_dollars)  \\\n",
       "0                 44                    3.38                       994   \n",
       "1                201                    2.04                      2158   \n",
       "2                176                    1.65                      1815   \n",
       "3               3216                    1.60                     25728   \n",
       "4                500                    2.34                      3444   \n",
       "5                830                    2.46                     22694   \n",
       "6                370                    2.67                      8987   \n",
       "7                 51                    1.30                      1664   \n",
       "8                677                    1.62                      4769   \n",
       "9                116                    4.12                      1767   \n",
       "10               188                    3.78                      1871   \n",
       "11              1170                    2.35                      4912   \n",
       "12               171                    2.35                      1300   \n",
       "13                44                    4.66                      1146   \n",
       "14               428                    2.15                      8359   \n",
       "15               110                    3.28                      1722   \n",
       "16              1363                    2.56                     12032   \n",
       "17              3063                    1.83                     12740   \n",
       "18               141                    1.87                      3291   \n",
       "19                73                    3.35                      1441   \n",
       "20              5802                    1.49                     22168   \n",
       "21               223                    1.44                      2920   \n",
       "22               155                    4.68                      1966   \n",
       "23              1027                    4.00                     13688   \n",
       "24               118                    4.11                      2417   \n",
       "25              6422                    1.43                     48334   \n",
       "26               442                    3.46                      3477   \n",
       "27              1141                    2.50                      6960   \n",
       "28               409                    4.41                      4190   \n",
       "29                45                    5.03                      3783   \n",
       "30              7582                    1.56                     30326   \n",
       "31                91                    4.72                      2152   \n",
       "32              1663                    2.32                     17539   \n",
       "33                89                    1.97                      1257   \n",
       "34                84                    4.48                      1290   \n",
       "35                49                    7.19                      1402   \n",
       "36              1191                    2.18                      6180   \n",
       "37                47                    4.26                       946   \n",
       "38               692                    3.00                      6486   \n",
       "39               306                    1.43                      3123   \n",
       "40               351                    4.65                      6594   \n",
       "\n",
       "    v_mites  other_pest_para  diseases  pesticides  other  unknown  \n",
       "0     34.83            24.67      1.77        1.80   7.27     8.90  \n",
       "1     36.23             6.43      3.20       16.97   8.53     1.23  \n",
       "2     40.13            20.30      3.83       37.87   6.70    25.00  \n",
       "3     44.33            11.93      6.77       13.20   9.27     4.60  \n",
       "4     52.90             4.77      4.80       12.75   4.83     0.80  \n",
       "5     45.10            23.70      6.53       17.60   8.97     7.03  \n",
       "6     52.13            18.20      4.87       14.83  10.10     4.63  \n",
       "7     51.10            55.23      0.20        0.85   1.43     0.20  \n",
       "8     34.90             9.23     11.70        9.87  12.33     0.63  \n",
       "9     32.70            16.77      1.63        2.20   9.97    10.17  \n",
       "10    30.67            13.00      2.73       11.77   9.30     1.23  \n",
       "11    45.07             8.87      4.00       17.27  18.40     3.77  \n",
       "12    73.40            18.87     12.07       26.50   7.73     6.30  \n",
       "13    27.93            16.87      0.23        5.27  10.20     7.70  \n",
       "14    52.63            28.87      1.33       19.33   3.20     1.43  \n",
       "15    10.97             0.40      0.10        2.50   0.63     0.37  \n",
       "16    32.63            10.63      6.47        5.27   5.13     2.00  \n",
       "17    31.17             5.40      2.37        9.75   3.47     2.30  \n",
       "18    38.23            51.53     23.77       29.23   5.47     5.27  \n",
       "19    14.33             5.10      0.83        0.47   3.00     1.40  \n",
       "20    19.60             3.93      5.30        2.57   2.57     0.80  \n",
       "21    22.43             1.67     16.90        2.37   4.07     2.80  \n",
       "22    14.63             2.53      0.30        0.20   1.77     0.40  \n",
       "23    24.87            12.93      1.97        6.20   4.47     5.60  \n",
       "24    29.27            11.43      8.13        2.37   9.20     6.93  \n",
       "25    32.77             8.65      8.25        6.40   8.70     4.10  \n",
       "26    41.03            12.83      5.23        1.17   5.30     4.87  \n",
       "27    29.73             5.00      8.23        5.70  11.97     5.63  \n",
       "28    23.97             6.00      2.17        4.07   3.77     6.00  \n",
       "29    40.03            14.83      0.77        7.13  15.03     3.67  \n",
       "30     7.80             3.20      1.75        7.37   5.33     1.73  \n",
       "31    60.27            33.47      2.65       14.53   8.93     5.90  \n",
       "32    23.70            12.93      4.77        8.23   6.63     2.17  \n",
       "33    24.80             3.45      2.53        5.25   0.37     4.57  \n",
       "34    16.47             1.90      1.23        0.80   0.43     0.73  \n",
       "35    30.73            16.57      0.70        0.80   3.97     6.13  \n",
       "36    36.63             1.33      1.23        8.17   4.37     1.23  \n",
       "37    36.60             8.20      0.97        1.10   6.00     1.27  \n",
       "38    34.10            15.27      9.80       11.10  14.10     5.40  \n",
       "39    24.67             6.35      2.20        2.20   3.70     6.00  \n",
       "40    10.60             2.87      1.60        4.00  11.97     0.87  >"
      ]
     },
     "metadata": {},
     "execution_count": 6
    }
   ],
   "source": [
    "df1 = df1.merge(df2, left_on='state', right_on='state', suffixes=('_hb', '_stress'))\n",
    "df1.head"
   ]
  },
  {
   "cell_type": "code",
   "execution_count": 7,
   "metadata": {},
   "outputs": [
    {
     "output_type": "stream",
     "name": "stdout",
     "text": [
      "(41, 2) (41,)\n"
     ]
    }
   ],
   "source": [
    "X = df1[['max_h_prod_cny','prod_held_stocks']]\n",
    "y = df1['yield/cny'].astype(int)\n",
    "feature_names = X\n",
    "print(X.shape, y.shape)"
   ]
  },
  {
   "cell_type": "code",
   "execution_count": 8,
   "metadata": {},
   "outputs": [],
   "source": [
    "X_train, X_test, y_train, y_test = train_test_split(X, y, random_state=42)"
   ]
  },
  {
   "cell_type": "code",
   "execution_count": 9,
   "metadata": {},
   "outputs": [
    {
     "output_type": "execute_result",
     "data": {
      "text/plain": [
       "Pipeline(steps=[('standardscaler', StandardScaler()),\n",
       "                ('linearsvr', LinearSVR(random_state=23, tol=1e-05))])"
      ]
     },
     "metadata": {},
     "execution_count": 9
    }
   ],
   "source": [
    "regr = make_pipeline(StandardScaler(),LinearSVR(random_state=23, tol=1e-5))\n",
    "regr.fit(X, y)"
   ]
  },
  {
   "cell_type": "code",
   "execution_count": 10,
   "metadata": {},
   "outputs": [
    {
     "output_type": "stream",
     "name": "stdout",
     "text": [
      "[1.14549817 2.21096316]\n"
     ]
    }
   ],
   "source": [
    "print(regr.named_steps['linearsvr'].coef_)"
   ]
  },
  {
   "cell_type": "code",
   "execution_count": 11,
   "metadata": {},
   "outputs": [
    {
     "output_type": "stream",
     "name": "stdout",
     "text": [
      "[31.07559158]\n"
     ]
    }
   ],
   "source": [
    "print(regr.predict([[input(),input()]]))\n",
    "# margin of error is 10"
   ]
  },
  {
   "cell_type": "code",
   "execution_count": 12,
   "metadata": {},
   "outputs": [
    {
     "output_type": "stream",
     "name": "stdout",
     "text": [
      "-1.3785437127007492\n"
     ]
    }
   ],
   "source": [
    "print(regr.score(X,y))"
   ]
  }
 ]
}