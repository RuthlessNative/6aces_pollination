{
 "metadata": {
  "language_info": {
   "codemirror_mode": {
    "name": "ipython",
    "version": 3
   },
   "file_extension": ".py",
   "mimetype": "text/x-python",
   "name": "python",
   "nbconvert_exporter": "python",
   "pygments_lexer": "ipython3",
   "version": "3.8.5"
  },
  "orig_nbformat": 2,
  "kernelspec": {
   "name": "python385jvsc74a57bd0fd67e6b1169f95e39aec8da660fd745774152eeffd80e8c856f0fbbda051db73",
   "display_name": "Python 3.8.5 64-bit ('base': conda)"
  }
 },
 "nbformat": 4,
 "nbformat_minor": 2,
 "cells": [
  {
   "cell_type": "code",
   "execution_count": 1,
   "metadata": {},
   "outputs": [],
   "source": [
    "import matplotlib.pyplot as plt\n",
    "import pandas as pd\n",
    "import os\n",
    "from sklearn import preprocessing\n",
    "from sklearn import utils\n",
    "from sklearn.model_selection import train_test_split\n",
    "from sklearn.linear_model import LogisticRegression\n",
    "from sklearn.preprocessing import StandardScaler\n",
    "from sklearn import tree\n",
    "from sklearn.svm import LinearSVR\n",
    "from sklearn.pipeline import make_pipeline\n",
    "from sklearn.datasets import make_regression"
   ]
  },
  {
   "cell_type": "code",
   "execution_count": 2,
   "metadata": {},
   "outputs": [
    {
     "output_type": "execute_result",
     "data": {
      "text/plain": [
       "        state  max_h_prod_cny  yield/cny  prod(1000_lbs)  prod_held_stocks  \\\n",
       "0     Alabama               7       42.0             294                44   \n",
       "1     Arizona              23       46.0            1058               201   \n",
       "2    Arkansas              20       55.0            1100               176   \n",
       "3  California             335       48.0           16080              3216   \n",
       "4    Colorado              32       46.0            1472               500   \n",
       "\n",
       "   avg_price/lb(1_dollar)  value_prod(1000_dollars)  \n",
       "0                    3.38                       994  \n",
       "1                    2.04                      2158  \n",
       "2                    1.65                      1815  \n",
       "3                    1.60                     25728  \n",
       "4                    2.34                      3444  "
      ],
      "text/html": "<div>\n<style scoped>\n    .dataframe tbody tr th:only-of-type {\n        vertical-align: middle;\n    }\n\n    .dataframe tbody tr th {\n        vertical-align: top;\n    }\n\n    .dataframe thead th {\n        text-align: right;\n    }\n</style>\n<table border=\"1\" class=\"dataframe\">\n  <thead>\n    <tr style=\"text-align: right;\">\n      <th></th>\n      <th>state</th>\n      <th>max_h_prod_cny</th>\n      <th>yield/cny</th>\n      <th>prod(1000_lbs)</th>\n      <th>prod_held_stocks</th>\n      <th>avg_price/lb(1_dollar)</th>\n      <th>value_prod(1000_dollars)</th>\n    </tr>\n  </thead>\n  <tbody>\n    <tr>\n      <th>0</th>\n      <td>Alabama</td>\n      <td>7</td>\n      <td>42.0</td>\n      <td>294</td>\n      <td>44</td>\n      <td>3.38</td>\n      <td>994</td>\n    </tr>\n    <tr>\n      <th>1</th>\n      <td>Arizona</td>\n      <td>23</td>\n      <td>46.0</td>\n      <td>1058</td>\n      <td>201</td>\n      <td>2.04</td>\n      <td>2158</td>\n    </tr>\n    <tr>\n      <th>2</th>\n      <td>Arkansas</td>\n      <td>20</td>\n      <td>55.0</td>\n      <td>1100</td>\n      <td>176</td>\n      <td>1.65</td>\n      <td>1815</td>\n    </tr>\n    <tr>\n      <th>3</th>\n      <td>California</td>\n      <td>335</td>\n      <td>48.0</td>\n      <td>16080</td>\n      <td>3216</td>\n      <td>1.60</td>\n      <td>25728</td>\n    </tr>\n    <tr>\n      <th>4</th>\n      <td>Colorado</td>\n      <td>32</td>\n      <td>46.0</td>\n      <td>1472</td>\n      <td>500</td>\n      <td>2.34</td>\n      <td>3444</td>\n    </tr>\n  </tbody>\n</table>\n</div>"
     },
     "metadata": {},
     "execution_count": 2
    }
   ],
   "source": [
    "honey = \"../2_Transform/hp_prod_19.csv\"\n",
    "df1 = pd.read_csv(honey)\n",
    "df1.head()"
   ]
  },
  {
   "cell_type": "code",
   "execution_count": 3,
   "metadata": {},
   "outputs": [
    {
     "output_type": "execute_result",
     "data": {
      "text/plain": [
       "        state  max_h_prod_cny  yield/cny  prod(1000_lbs)  prod_held_stocks  \\\n",
       "0     Alabama               7       42.0             294                44   \n",
       "1     Arizona              23       46.0            1058               201   \n",
       "2    Arkansas              20       55.0            1100               176   \n",
       "3  California             335       48.0           16080              3216   \n",
       "4    Colorado              32       46.0            1472               500   \n",
       "\n",
       "   avg_price/lb(1_dollar)  value_prod(1000_dollars)  \n",
       "0                    3.38                       994  \n",
       "1                    2.04                      2158  \n",
       "2                    1.65                      1815  \n",
       "3                    1.60                     25728  \n",
       "4                    2.34                      3444  "
      ],
      "text/html": "<div>\n<style scoped>\n    .dataframe tbody tr th:only-of-type {\n        vertical-align: middle;\n    }\n\n    .dataframe tbody tr th {\n        vertical-align: top;\n    }\n\n    .dataframe thead th {\n        text-align: right;\n    }\n</style>\n<table border=\"1\" class=\"dataframe\">\n  <thead>\n    <tr style=\"text-align: right;\">\n      <th></th>\n      <th>state</th>\n      <th>max_h_prod_cny</th>\n      <th>yield/cny</th>\n      <th>prod(1000_lbs)</th>\n      <th>prod_held_stocks</th>\n      <th>avg_price/lb(1_dollar)</th>\n      <th>value_prod(1000_dollars)</th>\n    </tr>\n  </thead>\n  <tbody>\n    <tr>\n      <th>0</th>\n      <td>Alabama</td>\n      <td>7</td>\n      <td>42.0</td>\n      <td>294</td>\n      <td>44</td>\n      <td>3.38</td>\n      <td>994</td>\n    </tr>\n    <tr>\n      <th>1</th>\n      <td>Arizona</td>\n      <td>23</td>\n      <td>46.0</td>\n      <td>1058</td>\n      <td>201</td>\n      <td>2.04</td>\n      <td>2158</td>\n    </tr>\n    <tr>\n      <th>2</th>\n      <td>Arkansas</td>\n      <td>20</td>\n      <td>55.0</td>\n      <td>1100</td>\n      <td>176</td>\n      <td>1.65</td>\n      <td>1815</td>\n    </tr>\n    <tr>\n      <th>3</th>\n      <td>California</td>\n      <td>335</td>\n      <td>48.0</td>\n      <td>16080</td>\n      <td>3216</td>\n      <td>1.60</td>\n      <td>25728</td>\n    </tr>\n    <tr>\n      <th>4</th>\n      <td>Colorado</td>\n      <td>32</td>\n      <td>46.0</td>\n      <td>1472</td>\n      <td>500</td>\n      <td>2.34</td>\n      <td>3444</td>\n    </tr>\n  </tbody>\n</table>\n</div>"
     },
     "metadata": {},
     "execution_count": 3
    }
   ],
   "source": [
    "df1 = df1[df1['state']!='United States']\n",
    "# df1 = df1[df1['state']!='Other States']\n",
    "df1.head()"
   ]
  },
  {
   "cell_type": "code",
   "execution_count": 4,
   "metadata": {},
   "outputs": [
    {
     "output_type": "execute_result",
     "data": {
      "text/plain": [
       "        state  v_mites  other_pest_para  diseases  pesticides  other  unknown\n",
       "0     Alabama     27.2             22.7       1.8         0.3    3.1      9.0\n",
       "1     Arizona     25.8              7.9       6.5        16.2    8.4      0.2\n",
       "2    Arkansas     19.5              1.5       3.3        55.3    0.7      2.9\n",
       "3  California     43.5             13.4       6.4        12.3    8.7      5.6\n",
       "4    Colorado     11.2              0.3       NaN         NaN    2.5      0.6"
      ],
      "text/html": "<div>\n<style scoped>\n    .dataframe tbody tr th:only-of-type {\n        vertical-align: middle;\n    }\n\n    .dataframe tbody tr th {\n        vertical-align: top;\n    }\n\n    .dataframe thead th {\n        text-align: right;\n    }\n</style>\n<table border=\"1\" class=\"dataframe\">\n  <thead>\n    <tr style=\"text-align: right;\">\n      <th></th>\n      <th>state</th>\n      <th>v_mites</th>\n      <th>other_pest_para</th>\n      <th>diseases</th>\n      <th>pesticides</th>\n      <th>other</th>\n      <th>unknown</th>\n    </tr>\n  </thead>\n  <tbody>\n    <tr>\n      <th>0</th>\n      <td>Alabama</td>\n      <td>27.2</td>\n      <td>22.7</td>\n      <td>1.8</td>\n      <td>0.3</td>\n      <td>3.1</td>\n      <td>9.0</td>\n    </tr>\n    <tr>\n      <th>1</th>\n      <td>Arizona</td>\n      <td>25.8</td>\n      <td>7.9</td>\n      <td>6.5</td>\n      <td>16.2</td>\n      <td>8.4</td>\n      <td>0.2</td>\n    </tr>\n    <tr>\n      <th>2</th>\n      <td>Arkansas</td>\n      <td>19.5</td>\n      <td>1.5</td>\n      <td>3.3</td>\n      <td>55.3</td>\n      <td>0.7</td>\n      <td>2.9</td>\n    </tr>\n    <tr>\n      <th>3</th>\n      <td>California</td>\n      <td>43.5</td>\n      <td>13.4</td>\n      <td>6.4</td>\n      <td>12.3</td>\n      <td>8.7</td>\n      <td>5.6</td>\n    </tr>\n    <tr>\n      <th>4</th>\n      <td>Colorado</td>\n      <td>11.2</td>\n      <td>0.3</td>\n      <td>NaN</td>\n      <td>NaN</td>\n      <td>2.5</td>\n      <td>0.6</td>\n    </tr>\n  </tbody>\n</table>\n</div>"
     },
     "metadata": {},
     "execution_count": 4
    }
   ],
   "source": [
    "# remove conneticut maryland mass oklahoma new mex\n",
    "q1 = \"../2_Transform/USDA-HB_colony_Health_2019/hbcny_stress_19q1.csv\"\n",
    "stress1 = pd.read_csv(q1)\n",
    "stress1 = stress1[stress1['state']!='Connecticut']\n",
    "stress1 = stress1[stress1['state']!='Maryland']\n",
    "stress1 = stress1[stress1['state']!='Massachusetts']\n",
    "stress1 = stress1[stress1['state']!='Oklahoma']\n",
    "stress1 = stress1[stress1['state']!='New Mexico']\n",
    "stress1 = stress1[stress1['state']!='United States']\n",
    "stress1.head()"
   ]
  },
  {
   "cell_type": "code",
   "execution_count": 5,
   "metadata": {},
   "outputs": [
    {
     "output_type": "execute_result",
     "data": {
      "text/plain": [
       "        state  v_mites  other_pest_para  diseases  pesticides  other  unknown\n",
       "0     Alabama     27.2             22.7       1.8         0.3    3.1      9.0\n",
       "1     Arizona     25.8              7.9       6.5        16.2    8.4      0.2\n",
       "2    Arkansas     19.5              1.5       3.3        55.3    0.7      2.9\n",
       "3  California     43.5             13.4       6.4        12.3    8.7      5.6\n",
       "4    Colorado     11.2              0.3       NaN         NaN    2.5      0.6"
      ],
      "text/html": "<div>\n<style scoped>\n    .dataframe tbody tr th:only-of-type {\n        vertical-align: middle;\n    }\n\n    .dataframe tbody tr th {\n        vertical-align: top;\n    }\n\n    .dataframe thead th {\n        text-align: right;\n    }\n</style>\n<table border=\"1\" class=\"dataframe\">\n  <thead>\n    <tr style=\"text-align: right;\">\n      <th></th>\n      <th>state</th>\n      <th>v_mites</th>\n      <th>other_pest_para</th>\n      <th>diseases</th>\n      <th>pesticides</th>\n      <th>other</th>\n      <th>unknown</th>\n    </tr>\n  </thead>\n  <tbody>\n    <tr>\n      <th>0</th>\n      <td>Alabama</td>\n      <td>27.2</td>\n      <td>22.7</td>\n      <td>1.8</td>\n      <td>0.3</td>\n      <td>3.1</td>\n      <td>9.0</td>\n    </tr>\n    <tr>\n      <th>1</th>\n      <td>Arizona</td>\n      <td>25.8</td>\n      <td>7.9</td>\n      <td>6.5</td>\n      <td>16.2</td>\n      <td>8.4</td>\n      <td>0.2</td>\n    </tr>\n    <tr>\n      <th>2</th>\n      <td>Arkansas</td>\n      <td>19.5</td>\n      <td>1.5</td>\n      <td>3.3</td>\n      <td>55.3</td>\n      <td>0.7</td>\n      <td>2.9</td>\n    </tr>\n    <tr>\n      <th>3</th>\n      <td>California</td>\n      <td>43.5</td>\n      <td>13.4</td>\n      <td>6.4</td>\n      <td>12.3</td>\n      <td>8.7</td>\n      <td>5.6</td>\n    </tr>\n    <tr>\n      <th>4</th>\n      <td>Colorado</td>\n      <td>11.2</td>\n      <td>0.3</td>\n      <td>NaN</td>\n      <td>NaN</td>\n      <td>2.5</td>\n      <td>0.6</td>\n    </tr>\n  </tbody>\n</table>\n</div>"
     },
     "metadata": {},
     "execution_count": 5
    }
   ],
   "source": [
    "q3 = \"../2_Transform/USDA-HB_colony_Health_2019/hbcny_stress_19q3.csv\"\n",
    "stress3 = pd.read_csv(q1)\n",
    "stress3 = stress1[stress1['state']!='Connecticut']\n",
    "stress3 = stress1[stress1['state']!='Maryland']\n",
    "stress3 = stress1[stress1['state']!='Massachusetts']\n",
    "stress3 = stress1[stress1['state']!='Oklahoma']\n",
    "stress3 = stress1[stress1['state']!='New Mexico']\n",
    "stress3 = stress1[stress1['state']!='United States']\n",
    "stress3.head()"
   ]
  },
  {
   "cell_type": "code",
   "execution_count": 6,
   "metadata": {},
   "outputs": [
    {
     "output_type": "execute_result",
     "data": {
      "text/plain": [
       "        state  v_mites  other_pest_para  diseases  pesticides  other  unknown\n",
       "0     Alabama     27.2             22.7       1.8         0.3    3.1      9.0\n",
       "1     Arizona     25.8              7.9       6.5        16.2    8.4      0.2\n",
       "2    Arkansas     19.5              1.5       3.3        55.3    0.7      2.9\n",
       "3  California     43.5             13.4       6.4        12.3    8.7      5.6\n",
       "4    Colorado     11.2              0.3       NaN         NaN    2.5      0.6"
      ],
      "text/html": "<div>\n<style scoped>\n    .dataframe tbody tr th:only-of-type {\n        vertical-align: middle;\n    }\n\n    .dataframe tbody tr th {\n        vertical-align: top;\n    }\n\n    .dataframe thead th {\n        text-align: right;\n    }\n</style>\n<table border=\"1\" class=\"dataframe\">\n  <thead>\n    <tr style=\"text-align: right;\">\n      <th></th>\n      <th>state</th>\n      <th>v_mites</th>\n      <th>other_pest_para</th>\n      <th>diseases</th>\n      <th>pesticides</th>\n      <th>other</th>\n      <th>unknown</th>\n    </tr>\n  </thead>\n  <tbody>\n    <tr>\n      <th>0</th>\n      <td>Alabama</td>\n      <td>27.2</td>\n      <td>22.7</td>\n      <td>1.8</td>\n      <td>0.3</td>\n      <td>3.1</td>\n      <td>9.0</td>\n    </tr>\n    <tr>\n      <th>1</th>\n      <td>Arizona</td>\n      <td>25.8</td>\n      <td>7.9</td>\n      <td>6.5</td>\n      <td>16.2</td>\n      <td>8.4</td>\n      <td>0.2</td>\n    </tr>\n    <tr>\n      <th>2</th>\n      <td>Arkansas</td>\n      <td>19.5</td>\n      <td>1.5</td>\n      <td>3.3</td>\n      <td>55.3</td>\n      <td>0.7</td>\n      <td>2.9</td>\n    </tr>\n    <tr>\n      <th>3</th>\n      <td>California</td>\n      <td>43.5</td>\n      <td>13.4</td>\n      <td>6.4</td>\n      <td>12.3</td>\n      <td>8.7</td>\n      <td>5.6</td>\n    </tr>\n    <tr>\n      <th>4</th>\n      <td>Colorado</td>\n      <td>11.2</td>\n      <td>0.3</td>\n      <td>NaN</td>\n      <td>NaN</td>\n      <td>2.5</td>\n      <td>0.6</td>\n    </tr>\n  </tbody>\n</table>\n</div>"
     },
     "metadata": {},
     "execution_count": 6
    }
   ],
   "source": [
    "q4 = \"../2_Transform/USDA-HB_colony_Health_2019/hbcny_stress_19q1.csv\"\n",
    "stress4 = pd.read_csv(q1)\n",
    "stress4 = stress1[stress1['state']!='Connecticut']\n",
    "stress4 = stress1[stress1['state']!='Maryland']\n",
    "stress4 = stress1[stress1['state']!='Massachusetts']\n",
    "stress4 = stress1[stress1['state']!='Oklahoma']\n",
    "stress4 = stress1[stress1['state']!='New Mexico']\n",
    "stress4 = stress1[stress1['state']!='United States']\n",
    "stress4.head()"
   ]
  },
  {
   "cell_type": "code",
   "execution_count": 7,
   "metadata": {},
   "outputs": [
    {
     "output_type": "execute_result",
     "data": {
      "text/plain": [
       "Index(['state', 'v_mites_q1', 'other_pest_para_q1', 'diseases_q1',\n",
       "       'pesticides_q1', 'other_q1', 'unknown_q1', 'v_mites_q3',\n",
       "       'other_pest_para_q3', 'diseases_q3', 'pesticides_q3', 'other_q3',\n",
       "       'unknown_q3', 'v_mites', 'other_pest_para', 'diseases', 'pesticides',\n",
       "       'other', 'unknown', 'max_h_prod_cny', 'yield/cny', 'prod(1000_lbs)',\n",
       "       'prod_held_stocks', 'avg_price/lb(1_dollar)',\n",
       "       'value_prod(1000_dollars)'],\n",
       "      dtype='object')"
      ]
     },
     "metadata": {},
     "execution_count": 7
    }
   ],
   "source": [
    "#merge stress \n",
    "stressM = stress1.merge(stress3, left_on='state', right_on='state',\n",
    "          suffixes=('_q1', '_q3'))\n",
    "stressM2 = stressM.merge(stress4, left_on='state', right_on='state',\n",
    "          suffixes=('M', '_q4'))\n",
    "df2 = stressM2.merge(df1, left_on='state', right_on='state',\n",
    "          suffixes=('M', '_honey'))\n",
    "df2 = df2.dropna()\n",
    "df2.columns"
   ]
  },
  {
   "cell_type": "code",
   "execution_count": 8,
   "metadata": {},
   "outputs": [
    {
     "output_type": "stream",
     "name": "stdout",
     "text": [
      "(29, 20) (29,)\n"
     ]
    }
   ],
   "source": [
    "X = df2[['max_h_prod_cny','prod_held_stocks', 'v_mites_q1', 'other_pest_para_q1', 'diseases_q1',\n",
    "       'pesticides_q1', 'other_q1', 'unknown_q1', 'v_mites_q3',\n",
    "       'other_pest_para_q3', 'diseases_q3', 'pesticides_q3', 'other_q3',\n",
    "       'unknown_q3', 'v_mites', 'other_pest_para', 'diseases', 'pesticides',\n",
    "       'other', 'unknown']].astype(int)\n",
    "y = df2['yield/cny'].astype(int)\n",
    "feature_names = X\n",
    "print(X.shape, y.shape)"
   ]
  },
  {
   "cell_type": "code",
   "execution_count": 9,
   "metadata": {},
   "outputs": [],
   "source": [
    "X_train, X_test, y_train, y_test = train_test_split(X, y, random_state=42)"
   ]
  },
  {
   "cell_type": "code",
   "execution_count": 10,
   "metadata": {},
   "outputs": [
    {
     "output_type": "execute_result",
     "data": {
      "text/plain": [
       "Pipeline(steps=[('standardscaler', StandardScaler()),\n",
       "                ('linearsvr', LinearSVR(random_state=23, tol=1e-05))])"
      ]
     },
     "metadata": {},
     "execution_count": 10
    }
   ],
   "source": [
    "regr = make_pipeline(StandardScaler(),LinearSVR(random_state=23, tol=1e-5))\n",
    "regr.fit(X, y)"
   ]
  },
  {
   "cell_type": "code",
   "execution_count": 11,
   "metadata": {},
   "outputs": [
    {
     "output_type": "stream",
     "name": "stdout",
     "text": [
      "[ 3.60822483e-16 -1.11022302e-15 -3.88578059e-16  1.16573418e-15\n -1.13797860e-15 -2.22044605e-16 -7.77156117e-16  1.44328993e-15\n -3.88578059e-16  1.16573418e-15 -1.13797860e-15 -2.22044605e-16\n -7.77156117e-16  1.44328993e-15 -3.88578059e-16  1.16573418e-15\n -1.13797860e-15 -2.22044605e-16 -7.77156117e-16  1.44328993e-15]\n"
     ]
    }
   ],
   "source": [
    "print(regr.named_steps['linearsvr'].coef_)"
   ]
  },
  {
   "cell_type": "code",
   "execution_count": 12,
   "metadata": {},
   "outputs": [
    {
     "output_type": "stream",
     "name": "stdout",
     "text": [
      "[29.]\n"
     ]
    }
   ],
   "source": [
    "print(regr.named_steps['linearsvr'].intercept_)"
   ]
  },
  {
   "cell_type": "code",
   "execution_count": 13,
   "metadata": {},
   "outputs": [
    {
     "output_type": "stream",
     "name": "stdout",
     "text": [
      "[29.]\n"
     ]
    }
   ],
   "source": [
    "print(regr.predict([[0,0,0,0,0,0,0,0,0,0,0,0,0,0,0,0,0,0,0,0]]))"
   ]
  },
  {
   "cell_type": "code",
   "execution_count": 14,
   "metadata": {},
   "outputs": [
    {
     "output_type": "stream",
     "name": "stdout",
     "text": [
      "-2.6176518111577898\n"
     ]
    }
   ],
   "source": [
    "print(regr.score(X,y))"
   ]
  },
  {
   "cell_type": "code",
   "execution_count": null,
   "metadata": {},
   "outputs": [],
   "source": []
  }
 ]
}