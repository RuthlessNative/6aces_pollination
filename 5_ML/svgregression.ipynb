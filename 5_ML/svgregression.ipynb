{
 "metadata": {
  "language_info": {
   "codemirror_mode": {
    "name": "ipython",
    "version": 3
   },
   "file_extension": ".py",
   "mimetype": "text/x-python",
   "name": "python",
   "nbconvert_exporter": "python",
   "pygments_lexer": "ipython3",
   "version": "3.8.5"
  },
  "orig_nbformat": 2,
  "kernelspec": {
   "name": "python385jvsc74a57bd0fd67e6b1169f95e39aec8da660fd745774152eeffd80e8c856f0fbbda051db73",
   "display_name": "Python 3.8.5 64-bit ('base': conda)"
  }
 },
 "nbformat": 4,
 "nbformat_minor": 2,
 "cells": [
  {
   "cell_type": "code",
   "execution_count": 1,
   "metadata": {},
   "outputs": [],
   "source": [
    "import matplotlib.pyplot as plt\n",
    "import pandas as pd\n",
    "import os\n",
    "from sklearn import preprocessing\n",
    "from sklearn import utils\n",
    "from sklearn.model_selection import train_test_split\n",
    "from sklearn.linear_model import LogisticRegression\n",
    "from sklearn.preprocessing import StandardScaler\n",
    "from sklearn import tree\n",
    "from sklearn.svm import LinearSVR\n",
    "from sklearn.pipeline import make_pipeline\n",
    "from sklearn.datasets import make_regression"
   ]
  },
  {
   "cell_type": "code",
   "execution_count": 2,
   "metadata": {},
   "outputs": [
    {
     "output_type": "execute_result",
     "data": {
      "text/plain": [
       "        state  max_h_prod_cny  yield/cny  prod(1000_lbs)  prod_held_stocks  \\\n",
       "0     Alabama               7       42.0             294                44   \n",
       "1     Arizona              23       46.0            1058               201   \n",
       "2    Arkansas              20       55.0            1100               176   \n",
       "3  California             335       48.0           16080              3216   \n",
       "4    Colorado              32       46.0            1472               500   \n",
       "\n",
       "   avg_price/lb(1_dollar)  value_prod(1000_dollars)  \n",
       "0                    3.38                       994  \n",
       "1                    2.04                      2158  \n",
       "2                    1.65                      1815  \n",
       "3                    1.60                     25728  \n",
       "4                    2.34                      3444  "
      ],
      "text/html": "<div>\n<style scoped>\n    .dataframe tbody tr th:only-of-type {\n        vertical-align: middle;\n    }\n\n    .dataframe tbody tr th {\n        vertical-align: top;\n    }\n\n    .dataframe thead th {\n        text-align: right;\n    }\n</style>\n<table border=\"1\" class=\"dataframe\">\n  <thead>\n    <tr style=\"text-align: right;\">\n      <th></th>\n      <th>state</th>\n      <th>max_h_prod_cny</th>\n      <th>yield/cny</th>\n      <th>prod(1000_lbs)</th>\n      <th>prod_held_stocks</th>\n      <th>avg_price/lb(1_dollar)</th>\n      <th>value_prod(1000_dollars)</th>\n    </tr>\n  </thead>\n  <tbody>\n    <tr>\n      <th>0</th>\n      <td>Alabama</td>\n      <td>7</td>\n      <td>42.0</td>\n      <td>294</td>\n      <td>44</td>\n      <td>3.38</td>\n      <td>994</td>\n    </tr>\n    <tr>\n      <th>1</th>\n      <td>Arizona</td>\n      <td>23</td>\n      <td>46.0</td>\n      <td>1058</td>\n      <td>201</td>\n      <td>2.04</td>\n      <td>2158</td>\n    </tr>\n    <tr>\n      <th>2</th>\n      <td>Arkansas</td>\n      <td>20</td>\n      <td>55.0</td>\n      <td>1100</td>\n      <td>176</td>\n      <td>1.65</td>\n      <td>1815</td>\n    </tr>\n    <tr>\n      <th>3</th>\n      <td>California</td>\n      <td>335</td>\n      <td>48.0</td>\n      <td>16080</td>\n      <td>3216</td>\n      <td>1.60</td>\n      <td>25728</td>\n    </tr>\n    <tr>\n      <th>4</th>\n      <td>Colorado</td>\n      <td>32</td>\n      <td>46.0</td>\n      <td>1472</td>\n      <td>500</td>\n      <td>2.34</td>\n      <td>3444</td>\n    </tr>\n  </tbody>\n</table>\n</div>"
     },
     "metadata": {},
     "execution_count": 2
    }
   ],
   "source": [
    "honey = \"../2_Transform/hp_prod_19.csv\"\n",
    "df1 = pd.read_csv(honey)\n",
    "df1.head()"
   ]
  },
  {
   "cell_type": "code",
   "execution_count": 3,
   "metadata": {},
   "outputs": [
    {
     "output_type": "execute_result",
     "data": {
      "text/plain": [
       "             state  max_h_prod_cny  yield/cny  prod(1000_lbs)  \\\n",
       "0          Alabama               7       42.0             294   \n",
       "1          Arizona              23       46.0            1058   \n",
       "2         Arkansas              20       55.0            1100   \n",
       "3       California             335       48.0           16080   \n",
       "4         Colorado              32       46.0            1472   \n",
       "5          Florida             205       45.0            9225   \n",
       "6          Georgia             102       33.0            3366   \n",
       "7           Hawaii              16       80.0            1280   \n",
       "8            Idaho              92       32.0            2944   \n",
       "9         Illinois              11       39.0             429   \n",
       "10         Indiana               9       55.0             495   \n",
       "11            Iowa              38       55.0            2090   \n",
       "12          Kansas               7       79.0             553   \n",
       "13        Kentucky               6       41.0             246   \n",
       "14       Louisiana              54       72.0            3888   \n",
       "15           Maine              15       35.0             525   \n",
       "16        Michigan              94       50.0            4700   \n",
       "17       Minnesota             118       59.0            6962   \n",
       "18     Mississippi              22       80.0            1760   \n",
       "19        Missouri              10       43.0             430   \n",
       "20         Montana             173       86.0           14878   \n",
       "21        Nebraska              39       52.0            2028   \n",
       "22      New Jersey              15       28.0             420   \n",
       "23        New York              59       58.0            3422   \n",
       "24  North Carolina              14       42.0             588   \n",
       "25    North Dakota             520       65.0           33800   \n",
       "26            Ohio              15       67.0            1005   \n",
       "27          Oregon              87       32.0            2784   \n",
       "28    Pennsylvania              19       50.0             950   \n",
       "29  South Carolina              16       47.0             752   \n",
       "30    South Dakota             270       72.0           19440   \n",
       "31       Tennessee               8       57.0             456   \n",
       "32           Texas             126       60.0            7560   \n",
       "33            Utah              22       29.0             638   \n",
       "34         Vermont               6       48.0             288   \n",
       "35        Virginia               5       39.0             195   \n",
       "36      Washington              81       35.0            2835   \n",
       "37   West Virginia               6       37.0             222   \n",
       "38       Wisconsin              46       47.0            2162   \n",
       "39         Wyoming              39       56.0            2184   \n",
       "40    Other States              30       47.0            1418   \n",
       "\n",
       "    prod_held_stocks  avg_price/lb(1_dollar)  value_prod(1000_dollars)  \n",
       "0                 44                    3.38                       994  \n",
       "1                201                    2.04                      2158  \n",
       "2                176                    1.65                      1815  \n",
       "3               3216                    1.60                     25728  \n",
       "4                500                    2.34                      3444  \n",
       "5                830                    2.46                     22694  \n",
       "6                370                    2.67                      8987  \n",
       "7                 51                    1.30                      1664  \n",
       "8                677                    1.62                      4769  \n",
       "9                116                    4.12                      1767  \n",
       "10               188                    3.78                      1871  \n",
       "11              1170                    2.35                      4912  \n",
       "12               171                    2.35                      1300  \n",
       "13                44                    4.66                      1146  \n",
       "14               428                    2.15                      8359  \n",
       "15               110                    3.28                      1722  \n",
       "16              1363                    2.56                     12032  \n",
       "17              3063                    1.83                     12740  \n",
       "18               141                    1.87                      3291  \n",
       "19                73                    3.35                      1441  \n",
       "20              5802                    1.49                     22168  \n",
       "21               223                    1.44                      2920  \n",
       "22               155                    4.68                      1966  \n",
       "23              1027                    4.00                     13688  \n",
       "24               118                    4.11                      2417  \n",
       "25              6422                    1.43                     48334  \n",
       "26               442                    3.46                      3477  \n",
       "27              1141                    2.50                      6960  \n",
       "28               409                    4.41                      4190  \n",
       "29                45                    5.03                      3783  \n",
       "30              7582                    1.56                     30326  \n",
       "31                91                    4.72                      2152  \n",
       "32              1663                    2.32                     17539  \n",
       "33                89                    1.97                      1257  \n",
       "34                84                    4.48                      1290  \n",
       "35                49                    7.19                      1402  \n",
       "36              1191                    2.18                      6180  \n",
       "37                47                    4.26                       946  \n",
       "38               692                    3.00                      6486  \n",
       "39               306                    1.43                      3123  \n",
       "40               351                    4.65                      6594  "
      ],
      "text/html": "<div>\n<style scoped>\n    .dataframe tbody tr th:only-of-type {\n        vertical-align: middle;\n    }\n\n    .dataframe tbody tr th {\n        vertical-align: top;\n    }\n\n    .dataframe thead th {\n        text-align: right;\n    }\n</style>\n<table border=\"1\" class=\"dataframe\">\n  <thead>\n    <tr style=\"text-align: right;\">\n      <th></th>\n      <th>state</th>\n      <th>max_h_prod_cny</th>\n      <th>yield/cny</th>\n      <th>prod(1000_lbs)</th>\n      <th>prod_held_stocks</th>\n      <th>avg_price/lb(1_dollar)</th>\n      <th>value_prod(1000_dollars)</th>\n    </tr>\n  </thead>\n  <tbody>\n    <tr>\n      <th>0</th>\n      <td>Alabama</td>\n      <td>7</td>\n      <td>42.0</td>\n      <td>294</td>\n      <td>44</td>\n      <td>3.38</td>\n      <td>994</td>\n    </tr>\n    <tr>\n      <th>1</th>\n      <td>Arizona</td>\n      <td>23</td>\n      <td>46.0</td>\n      <td>1058</td>\n      <td>201</td>\n      <td>2.04</td>\n      <td>2158</td>\n    </tr>\n    <tr>\n      <th>2</th>\n      <td>Arkansas</td>\n      <td>20</td>\n      <td>55.0</td>\n      <td>1100</td>\n      <td>176</td>\n      <td>1.65</td>\n      <td>1815</td>\n    </tr>\n    <tr>\n      <th>3</th>\n      <td>California</td>\n      <td>335</td>\n      <td>48.0</td>\n      <td>16080</td>\n      <td>3216</td>\n      <td>1.60</td>\n      <td>25728</td>\n    </tr>\n    <tr>\n      <th>4</th>\n      <td>Colorado</td>\n      <td>32</td>\n      <td>46.0</td>\n      <td>1472</td>\n      <td>500</td>\n      <td>2.34</td>\n      <td>3444</td>\n    </tr>\n    <tr>\n      <th>5</th>\n      <td>Florida</td>\n      <td>205</td>\n      <td>45.0</td>\n      <td>9225</td>\n      <td>830</td>\n      <td>2.46</td>\n      <td>22694</td>\n    </tr>\n    <tr>\n      <th>6</th>\n      <td>Georgia</td>\n      <td>102</td>\n      <td>33.0</td>\n      <td>3366</td>\n      <td>370</td>\n      <td>2.67</td>\n      <td>8987</td>\n    </tr>\n    <tr>\n      <th>7</th>\n      <td>Hawaii</td>\n      <td>16</td>\n      <td>80.0</td>\n      <td>1280</td>\n      <td>51</td>\n      <td>1.30</td>\n      <td>1664</td>\n    </tr>\n    <tr>\n      <th>8</th>\n      <td>Idaho</td>\n      <td>92</td>\n      <td>32.0</td>\n      <td>2944</td>\n      <td>677</td>\n      <td>1.62</td>\n      <td>4769</td>\n    </tr>\n    <tr>\n      <th>9</th>\n      <td>Illinois</td>\n      <td>11</td>\n      <td>39.0</td>\n      <td>429</td>\n      <td>116</td>\n      <td>4.12</td>\n      <td>1767</td>\n    </tr>\n    <tr>\n      <th>10</th>\n      <td>Indiana</td>\n      <td>9</td>\n      <td>55.0</td>\n      <td>495</td>\n      <td>188</td>\n      <td>3.78</td>\n      <td>1871</td>\n    </tr>\n    <tr>\n      <th>11</th>\n      <td>Iowa</td>\n      <td>38</td>\n      <td>55.0</td>\n      <td>2090</td>\n      <td>1170</td>\n      <td>2.35</td>\n      <td>4912</td>\n    </tr>\n    <tr>\n      <th>12</th>\n      <td>Kansas</td>\n      <td>7</td>\n      <td>79.0</td>\n      <td>553</td>\n      <td>171</td>\n      <td>2.35</td>\n      <td>1300</td>\n    </tr>\n    <tr>\n      <th>13</th>\n      <td>Kentucky</td>\n      <td>6</td>\n      <td>41.0</td>\n      <td>246</td>\n      <td>44</td>\n      <td>4.66</td>\n      <td>1146</td>\n    </tr>\n    <tr>\n      <th>14</th>\n      <td>Louisiana</td>\n      <td>54</td>\n      <td>72.0</td>\n      <td>3888</td>\n      <td>428</td>\n      <td>2.15</td>\n      <td>8359</td>\n    </tr>\n    <tr>\n      <th>15</th>\n      <td>Maine</td>\n      <td>15</td>\n      <td>35.0</td>\n      <td>525</td>\n      <td>110</td>\n      <td>3.28</td>\n      <td>1722</td>\n    </tr>\n    <tr>\n      <th>16</th>\n      <td>Michigan</td>\n      <td>94</td>\n      <td>50.0</td>\n      <td>4700</td>\n      <td>1363</td>\n      <td>2.56</td>\n      <td>12032</td>\n    </tr>\n    <tr>\n      <th>17</th>\n      <td>Minnesota</td>\n      <td>118</td>\n      <td>59.0</td>\n      <td>6962</td>\n      <td>3063</td>\n      <td>1.83</td>\n      <td>12740</td>\n    </tr>\n    <tr>\n      <th>18</th>\n      <td>Mississippi</td>\n      <td>22</td>\n      <td>80.0</td>\n      <td>1760</td>\n      <td>141</td>\n      <td>1.87</td>\n      <td>3291</td>\n    </tr>\n    <tr>\n      <th>19</th>\n      <td>Missouri</td>\n      <td>10</td>\n      <td>43.0</td>\n      <td>430</td>\n      <td>73</td>\n      <td>3.35</td>\n      <td>1441</td>\n    </tr>\n    <tr>\n      <th>20</th>\n      <td>Montana</td>\n      <td>173</td>\n      <td>86.0</td>\n      <td>14878</td>\n      <td>5802</td>\n      <td>1.49</td>\n      <td>22168</td>\n    </tr>\n    <tr>\n      <th>21</th>\n      <td>Nebraska</td>\n      <td>39</td>\n      <td>52.0</td>\n      <td>2028</td>\n      <td>223</td>\n      <td>1.44</td>\n      <td>2920</td>\n    </tr>\n    <tr>\n      <th>22</th>\n      <td>New Jersey</td>\n      <td>15</td>\n      <td>28.0</td>\n      <td>420</td>\n      <td>155</td>\n      <td>4.68</td>\n      <td>1966</td>\n    </tr>\n    <tr>\n      <th>23</th>\n      <td>New York</td>\n      <td>59</td>\n      <td>58.0</td>\n      <td>3422</td>\n      <td>1027</td>\n      <td>4.00</td>\n      <td>13688</td>\n    </tr>\n    <tr>\n      <th>24</th>\n      <td>North Carolina</td>\n      <td>14</td>\n      <td>42.0</td>\n      <td>588</td>\n      <td>118</td>\n      <td>4.11</td>\n      <td>2417</td>\n    </tr>\n    <tr>\n      <th>25</th>\n      <td>North Dakota</td>\n      <td>520</td>\n      <td>65.0</td>\n      <td>33800</td>\n      <td>6422</td>\n      <td>1.43</td>\n      <td>48334</td>\n    </tr>\n    <tr>\n      <th>26</th>\n      <td>Ohio</td>\n      <td>15</td>\n      <td>67.0</td>\n      <td>1005</td>\n      <td>442</td>\n      <td>3.46</td>\n      <td>3477</td>\n    </tr>\n    <tr>\n      <th>27</th>\n      <td>Oregon</td>\n      <td>87</td>\n      <td>32.0</td>\n      <td>2784</td>\n      <td>1141</td>\n      <td>2.50</td>\n      <td>6960</td>\n    </tr>\n    <tr>\n      <th>28</th>\n      <td>Pennsylvania</td>\n      <td>19</td>\n      <td>50.0</td>\n      <td>950</td>\n      <td>409</td>\n      <td>4.41</td>\n      <td>4190</td>\n    </tr>\n    <tr>\n      <th>29</th>\n      <td>South Carolina</td>\n      <td>16</td>\n      <td>47.0</td>\n      <td>752</td>\n      <td>45</td>\n      <td>5.03</td>\n      <td>3783</td>\n    </tr>\n    <tr>\n      <th>30</th>\n      <td>South Dakota</td>\n      <td>270</td>\n      <td>72.0</td>\n      <td>19440</td>\n      <td>7582</td>\n      <td>1.56</td>\n      <td>30326</td>\n    </tr>\n    <tr>\n      <th>31</th>\n      <td>Tennessee</td>\n      <td>8</td>\n      <td>57.0</td>\n      <td>456</td>\n      <td>91</td>\n      <td>4.72</td>\n      <td>2152</td>\n    </tr>\n    <tr>\n      <th>32</th>\n      <td>Texas</td>\n      <td>126</td>\n      <td>60.0</td>\n      <td>7560</td>\n      <td>1663</td>\n      <td>2.32</td>\n      <td>17539</td>\n    </tr>\n    <tr>\n      <th>33</th>\n      <td>Utah</td>\n      <td>22</td>\n      <td>29.0</td>\n      <td>638</td>\n      <td>89</td>\n      <td>1.97</td>\n      <td>1257</td>\n    </tr>\n    <tr>\n      <th>34</th>\n      <td>Vermont</td>\n      <td>6</td>\n      <td>48.0</td>\n      <td>288</td>\n      <td>84</td>\n      <td>4.48</td>\n      <td>1290</td>\n    </tr>\n    <tr>\n      <th>35</th>\n      <td>Virginia</td>\n      <td>5</td>\n      <td>39.0</td>\n      <td>195</td>\n      <td>49</td>\n      <td>7.19</td>\n      <td>1402</td>\n    </tr>\n    <tr>\n      <th>36</th>\n      <td>Washington</td>\n      <td>81</td>\n      <td>35.0</td>\n      <td>2835</td>\n      <td>1191</td>\n      <td>2.18</td>\n      <td>6180</td>\n    </tr>\n    <tr>\n      <th>37</th>\n      <td>West Virginia</td>\n      <td>6</td>\n      <td>37.0</td>\n      <td>222</td>\n      <td>47</td>\n      <td>4.26</td>\n      <td>946</td>\n    </tr>\n    <tr>\n      <th>38</th>\n      <td>Wisconsin</td>\n      <td>46</td>\n      <td>47.0</td>\n      <td>2162</td>\n      <td>692</td>\n      <td>3.00</td>\n      <td>6486</td>\n    </tr>\n    <tr>\n      <th>39</th>\n      <td>Wyoming</td>\n      <td>39</td>\n      <td>56.0</td>\n      <td>2184</td>\n      <td>306</td>\n      <td>1.43</td>\n      <td>3123</td>\n    </tr>\n    <tr>\n      <th>40</th>\n      <td>Other States</td>\n      <td>30</td>\n      <td>47.0</td>\n      <td>1418</td>\n      <td>351</td>\n      <td>4.65</td>\n      <td>6594</td>\n    </tr>\n  </tbody>\n</table>\n</div>"
     },
     "metadata": {},
     "execution_count": 3
    }
   ],
   "source": [
    "df1 = df1[df1['state']!='United States']\n",
    "# df1 = df1[df1['state']!='Other States']\n",
    "df1.head(50)"
   ]
  },
  {
   "cell_type": "code",
   "execution_count": 4,
   "metadata": {},
   "outputs": [
    {
     "output_type": "execute_result",
     "data": {
      "text/plain": [
       "        state  v_mites  other_pest_para  diseases  pesticides  other  unknown\n",
       "0     Alabama     27.2             22.7       1.8         0.3    3.1      9.0\n",
       "1     Arizona     25.8              7.9       6.5        16.2    8.4      0.2\n",
       "2    Arkansas     19.5              1.5       3.3        55.3    0.7      2.9\n",
       "3  California     43.5             13.4       6.4        12.3    8.7      5.6\n",
       "4    Colorado     11.2              0.3       NaN         NaN    2.5      0.6"
      ],
      "text/html": "<div>\n<style scoped>\n    .dataframe tbody tr th:only-of-type {\n        vertical-align: middle;\n    }\n\n    .dataframe tbody tr th {\n        vertical-align: top;\n    }\n\n    .dataframe thead th {\n        text-align: right;\n    }\n</style>\n<table border=\"1\" class=\"dataframe\">\n  <thead>\n    <tr style=\"text-align: right;\">\n      <th></th>\n      <th>state</th>\n      <th>v_mites</th>\n      <th>other_pest_para</th>\n      <th>diseases</th>\n      <th>pesticides</th>\n      <th>other</th>\n      <th>unknown</th>\n    </tr>\n  </thead>\n  <tbody>\n    <tr>\n      <th>0</th>\n      <td>Alabama</td>\n      <td>27.2</td>\n      <td>22.7</td>\n      <td>1.8</td>\n      <td>0.3</td>\n      <td>3.1</td>\n      <td>9.0</td>\n    </tr>\n    <tr>\n      <th>1</th>\n      <td>Arizona</td>\n      <td>25.8</td>\n      <td>7.9</td>\n      <td>6.5</td>\n      <td>16.2</td>\n      <td>8.4</td>\n      <td>0.2</td>\n    </tr>\n    <tr>\n      <th>2</th>\n      <td>Arkansas</td>\n      <td>19.5</td>\n      <td>1.5</td>\n      <td>3.3</td>\n      <td>55.3</td>\n      <td>0.7</td>\n      <td>2.9</td>\n    </tr>\n    <tr>\n      <th>3</th>\n      <td>California</td>\n      <td>43.5</td>\n      <td>13.4</td>\n      <td>6.4</td>\n      <td>12.3</td>\n      <td>8.7</td>\n      <td>5.6</td>\n    </tr>\n    <tr>\n      <th>4</th>\n      <td>Colorado</td>\n      <td>11.2</td>\n      <td>0.3</td>\n      <td>NaN</td>\n      <td>NaN</td>\n      <td>2.5</td>\n      <td>0.6</td>\n    </tr>\n  </tbody>\n</table>\n</div>"
     },
     "metadata": {},
     "execution_count": 4
    }
   ],
   "source": [
    "# remove conneticut maryland mass oklahoma new mex\n",
    "q1 = \"../2_Transform/USDA-HB_colony_Health_2019/hbcny_stress_19q1.csv\"\n",
    "stress1 = pd.read_csv(q1)\n",
    "stress1 = stress1[stress1['state']!='Connecticut']\n",
    "stress1 = stress1[stress1['state']!='Maryland']\n",
    "stress1 = stress1[stress1['state']!='Massachusetts']\n",
    "stress1 = stress1[stress1['state']!='Oklahoma']\n",
    "stress1 = stress1[stress1['state']!='New Mexico']\n",
    "stress1 = stress1[stress1['state']!='United States']\n",
    "stress1.head()"
   ]
  },
  {
   "cell_type": "code",
   "execution_count": 5,
   "metadata": {},
   "outputs": [
    {
     "output_type": "execute_result",
     "data": {
      "text/plain": [
       "        state  v_mites  other_pest_para  diseases  pesticides  other  unknown\n",
       "0     Alabama     27.2             22.7       1.8         0.3    3.1      9.0\n",
       "1     Arizona     25.8              7.9       6.5        16.2    8.4      0.2\n",
       "2    Arkansas     19.5              1.5       3.3        55.3    0.7      2.9\n",
       "3  California     43.5             13.4       6.4        12.3    8.7      5.6\n",
       "4    Colorado     11.2              0.3       NaN         NaN    2.5      0.6"
      ],
      "text/html": "<div>\n<style scoped>\n    .dataframe tbody tr th:only-of-type {\n        vertical-align: middle;\n    }\n\n    .dataframe tbody tr th {\n        vertical-align: top;\n    }\n\n    .dataframe thead th {\n        text-align: right;\n    }\n</style>\n<table border=\"1\" class=\"dataframe\">\n  <thead>\n    <tr style=\"text-align: right;\">\n      <th></th>\n      <th>state</th>\n      <th>v_mites</th>\n      <th>other_pest_para</th>\n      <th>diseases</th>\n      <th>pesticides</th>\n      <th>other</th>\n      <th>unknown</th>\n    </tr>\n  </thead>\n  <tbody>\n    <tr>\n      <th>0</th>\n      <td>Alabama</td>\n      <td>27.2</td>\n      <td>22.7</td>\n      <td>1.8</td>\n      <td>0.3</td>\n      <td>3.1</td>\n      <td>9.0</td>\n    </tr>\n    <tr>\n      <th>1</th>\n      <td>Arizona</td>\n      <td>25.8</td>\n      <td>7.9</td>\n      <td>6.5</td>\n      <td>16.2</td>\n      <td>8.4</td>\n      <td>0.2</td>\n    </tr>\n    <tr>\n      <th>2</th>\n      <td>Arkansas</td>\n      <td>19.5</td>\n      <td>1.5</td>\n      <td>3.3</td>\n      <td>55.3</td>\n      <td>0.7</td>\n      <td>2.9</td>\n    </tr>\n    <tr>\n      <th>3</th>\n      <td>California</td>\n      <td>43.5</td>\n      <td>13.4</td>\n      <td>6.4</td>\n      <td>12.3</td>\n      <td>8.7</td>\n      <td>5.6</td>\n    </tr>\n    <tr>\n      <th>4</th>\n      <td>Colorado</td>\n      <td>11.2</td>\n      <td>0.3</td>\n      <td>NaN</td>\n      <td>NaN</td>\n      <td>2.5</td>\n      <td>0.6</td>\n    </tr>\n  </tbody>\n</table>\n</div>"
     },
     "metadata": {},
     "execution_count": 5
    }
   ],
   "source": [
    "q3 = \"../2_Transform/USDA-HB_colony_Health_2019/hbcny_stress_19q3.csv\"\n",
    "stress3 = pd.read_csv(q1)\n",
    "stress3 = stress1[stress1['state']!='Connecticut']\n",
    "stress3 = stress1[stress1['state']!='Maryland']\n",
    "stress3 = stress1[stress1['state']!='Massachusetts']\n",
    "stress3 = stress1[stress1['state']!='Oklahoma']\n",
    "stress3 = stress1[stress1['state']!='New Mexico']\n",
    "stress3 = stress1[stress1['state']!='United States']\n",
    "stress3.head()"
   ]
  },
  {
   "cell_type": "code",
   "execution_count": 6,
   "metadata": {},
   "outputs": [
    {
     "output_type": "execute_result",
     "data": {
      "text/plain": [
       "        state  v_mites  other_pest_para  diseases  pesticides  other  unknown\n",
       "0     Alabama     27.2             22.7       1.8         0.3    3.1      9.0\n",
       "1     Arizona     25.8              7.9       6.5        16.2    8.4      0.2\n",
       "2    Arkansas     19.5              1.5       3.3        55.3    0.7      2.9\n",
       "3  California     43.5             13.4       6.4        12.3    8.7      5.6\n",
       "4    Colorado     11.2              0.3       NaN         NaN    2.5      0.6"
      ],
      "text/html": "<div>\n<style scoped>\n    .dataframe tbody tr th:only-of-type {\n        vertical-align: middle;\n    }\n\n    .dataframe tbody tr th {\n        vertical-align: top;\n    }\n\n    .dataframe thead th {\n        text-align: right;\n    }\n</style>\n<table border=\"1\" class=\"dataframe\">\n  <thead>\n    <tr style=\"text-align: right;\">\n      <th></th>\n      <th>state</th>\n      <th>v_mites</th>\n      <th>other_pest_para</th>\n      <th>diseases</th>\n      <th>pesticides</th>\n      <th>other</th>\n      <th>unknown</th>\n    </tr>\n  </thead>\n  <tbody>\n    <tr>\n      <th>0</th>\n      <td>Alabama</td>\n      <td>27.2</td>\n      <td>22.7</td>\n      <td>1.8</td>\n      <td>0.3</td>\n      <td>3.1</td>\n      <td>9.0</td>\n    </tr>\n    <tr>\n      <th>1</th>\n      <td>Arizona</td>\n      <td>25.8</td>\n      <td>7.9</td>\n      <td>6.5</td>\n      <td>16.2</td>\n      <td>8.4</td>\n      <td>0.2</td>\n    </tr>\n    <tr>\n      <th>2</th>\n      <td>Arkansas</td>\n      <td>19.5</td>\n      <td>1.5</td>\n      <td>3.3</td>\n      <td>55.3</td>\n      <td>0.7</td>\n      <td>2.9</td>\n    </tr>\n    <tr>\n      <th>3</th>\n      <td>California</td>\n      <td>43.5</td>\n      <td>13.4</td>\n      <td>6.4</td>\n      <td>12.3</td>\n      <td>8.7</td>\n      <td>5.6</td>\n    </tr>\n    <tr>\n      <th>4</th>\n      <td>Colorado</td>\n      <td>11.2</td>\n      <td>0.3</td>\n      <td>NaN</td>\n      <td>NaN</td>\n      <td>2.5</td>\n      <td>0.6</td>\n    </tr>\n  </tbody>\n</table>\n</div>"
     },
     "metadata": {},
     "execution_count": 6
    }
   ],
   "source": [
    "q4 = \"../2_Transform/USDA-HB_colony_Health_2019/hbcny_stress_19q4.csv\"\n",
    "stress4 = pd.read_csv(q1)\n",
    "stress4 = stress1[stress1['state']!='Connecticut']\n",
    "stress4 = stress1[stress1['state']!='Maryland']\n",
    "stress4 = stress1[stress1['state']!='Massachusetts']\n",
    "stress4 = stress1[stress1['state']!='Oklahoma']\n",
    "stress4 = stress1[stress1['state']!='New Mexico']\n",
    "stress4 = stress1[stress1['state']!='United States']\n",
    "stress4.head()"
   ]
  },
  {
   "cell_type": "code",
   "execution_count": 7,
   "metadata": {},
   "outputs": [
    {
     "output_type": "execute_result",
     "data": {
      "text/plain": [
       "        state  v_mites_q1  other_pest_para_q1  diseases_q1  pesticides_q1  \\\n",
       "0     Alabama        27.2                22.7          1.8            0.3   \n",
       "1     Arizona        25.8                 7.9          6.5           16.2   \n",
       "2    Arkansas        19.5                 1.5          3.3           55.3   \n",
       "3  California        43.5                13.4          6.4           12.3   \n",
       "5     Florida        46.9                24.8          5.5           22.9   \n",
       "\n",
       "   other_q1  unknown_q1  v_mites_q3  other_pest_para_q3  diseases_q3  ...  \\\n",
       "0       3.1         9.0        27.2                22.7          1.8  ...   \n",
       "1       8.4         0.2        25.8                 7.9          6.5  ...   \n",
       "2       0.7         2.9        19.5                 1.5          3.3  ...   \n",
       "3       8.7         5.6        43.5                13.4          6.4  ...   \n",
       "5       7.4         5.5        46.9                24.8          5.5  ...   \n",
       "\n",
       "   diseases  pesticides  other  unknown  max_h_prod_cny  yield/cny  \\\n",
       "0       1.8         0.3    3.1      9.0               7       42.0   \n",
       "1       6.5        16.2    8.4      0.2              23       46.0   \n",
       "2       3.3        55.3    0.7      2.9              20       55.0   \n",
       "3       6.4        12.3    8.7      5.6             335       48.0   \n",
       "5       5.5        22.9    7.4      5.5             205       45.0   \n",
       "\n",
       "   prod(1000_lbs)  prod_held_stocks  avg_price/lb(1_dollar)  \\\n",
       "0             294                44                    3.38   \n",
       "1            1058               201                    2.04   \n",
       "2            1100               176                    1.65   \n",
       "3           16080              3216                    1.60   \n",
       "5            9225               830                    2.46   \n",
       "\n",
       "   value_prod(1000_dollars)  \n",
       "0                       994  \n",
       "1                      2158  \n",
       "2                      1815  \n",
       "3                     25728  \n",
       "5                     22694  \n",
       "\n",
       "[5 rows x 25 columns]"
      ],
      "text/html": "<div>\n<style scoped>\n    .dataframe tbody tr th:only-of-type {\n        vertical-align: middle;\n    }\n\n    .dataframe tbody tr th {\n        vertical-align: top;\n    }\n\n    .dataframe thead th {\n        text-align: right;\n    }\n</style>\n<table border=\"1\" class=\"dataframe\">\n  <thead>\n    <tr style=\"text-align: right;\">\n      <th></th>\n      <th>state</th>\n      <th>v_mites_q1</th>\n      <th>other_pest_para_q1</th>\n      <th>diseases_q1</th>\n      <th>pesticides_q1</th>\n      <th>other_q1</th>\n      <th>unknown_q1</th>\n      <th>v_mites_q3</th>\n      <th>other_pest_para_q3</th>\n      <th>diseases_q3</th>\n      <th>...</th>\n      <th>diseases</th>\n      <th>pesticides</th>\n      <th>other</th>\n      <th>unknown</th>\n      <th>max_h_prod_cny</th>\n      <th>yield/cny</th>\n      <th>prod(1000_lbs)</th>\n      <th>prod_held_stocks</th>\n      <th>avg_price/lb(1_dollar)</th>\n      <th>value_prod(1000_dollars)</th>\n    </tr>\n  </thead>\n  <tbody>\n    <tr>\n      <th>0</th>\n      <td>Alabama</td>\n      <td>27.2</td>\n      <td>22.7</td>\n      <td>1.8</td>\n      <td>0.3</td>\n      <td>3.1</td>\n      <td>9.0</td>\n      <td>27.2</td>\n      <td>22.7</td>\n      <td>1.8</td>\n      <td>...</td>\n      <td>1.8</td>\n      <td>0.3</td>\n      <td>3.1</td>\n      <td>9.0</td>\n      <td>7</td>\n      <td>42.0</td>\n      <td>294</td>\n      <td>44</td>\n      <td>3.38</td>\n      <td>994</td>\n    </tr>\n    <tr>\n      <th>1</th>\n      <td>Arizona</td>\n      <td>25.8</td>\n      <td>7.9</td>\n      <td>6.5</td>\n      <td>16.2</td>\n      <td>8.4</td>\n      <td>0.2</td>\n      <td>25.8</td>\n      <td>7.9</td>\n      <td>6.5</td>\n      <td>...</td>\n      <td>6.5</td>\n      <td>16.2</td>\n      <td>8.4</td>\n      <td>0.2</td>\n      <td>23</td>\n      <td>46.0</td>\n      <td>1058</td>\n      <td>201</td>\n      <td>2.04</td>\n      <td>2158</td>\n    </tr>\n    <tr>\n      <th>2</th>\n      <td>Arkansas</td>\n      <td>19.5</td>\n      <td>1.5</td>\n      <td>3.3</td>\n      <td>55.3</td>\n      <td>0.7</td>\n      <td>2.9</td>\n      <td>19.5</td>\n      <td>1.5</td>\n      <td>3.3</td>\n      <td>...</td>\n      <td>3.3</td>\n      <td>55.3</td>\n      <td>0.7</td>\n      <td>2.9</td>\n      <td>20</td>\n      <td>55.0</td>\n      <td>1100</td>\n      <td>176</td>\n      <td>1.65</td>\n      <td>1815</td>\n    </tr>\n    <tr>\n      <th>3</th>\n      <td>California</td>\n      <td>43.5</td>\n      <td>13.4</td>\n      <td>6.4</td>\n      <td>12.3</td>\n      <td>8.7</td>\n      <td>5.6</td>\n      <td>43.5</td>\n      <td>13.4</td>\n      <td>6.4</td>\n      <td>...</td>\n      <td>6.4</td>\n      <td>12.3</td>\n      <td>8.7</td>\n      <td>5.6</td>\n      <td>335</td>\n      <td>48.0</td>\n      <td>16080</td>\n      <td>3216</td>\n      <td>1.60</td>\n      <td>25728</td>\n    </tr>\n    <tr>\n      <th>5</th>\n      <td>Florida</td>\n      <td>46.9</td>\n      <td>24.8</td>\n      <td>5.5</td>\n      <td>22.9</td>\n      <td>7.4</td>\n      <td>5.5</td>\n      <td>46.9</td>\n      <td>24.8</td>\n      <td>5.5</td>\n      <td>...</td>\n      <td>5.5</td>\n      <td>22.9</td>\n      <td>7.4</td>\n      <td>5.5</td>\n      <td>205</td>\n      <td>45.0</td>\n      <td>9225</td>\n      <td>830</td>\n      <td>2.46</td>\n      <td>22694</td>\n    </tr>\n  </tbody>\n</table>\n<p>5 rows × 25 columns</p>\n</div>"
     },
     "metadata": {},
     "execution_count": 7
    }
   ],
   "source": [
    "#merge stress \n",
    "stressM = stress1.merge(stress3, left_on='state', right_on='state',\n",
    "          suffixes=('_q1', '_q3'))\n",
    "stressM2 = stressM.merge(stress4, left_on='state', right_on='state',\n",
    "          suffixes=('M', '_q4'))\n",
    "df2 = stressM2.merge(df1, left_on='state', right_on='state',\n",
    "          suffixes=('M', '_honey'))\n",
    "df2 = df2.dropna()\n",
    "df2.head()"
   ]
  },
  {
   "cell_type": "code",
   "execution_count": 8,
   "metadata": {},
   "outputs": [
    {
     "output_type": "stream",
     "name": "stdout",
     "text": [
      "(29, 8) (29,)\n"
     ]
    }
   ],
   "source": [
    "X = df2[['max_h_prod_cny','prod_held_stocks', 'v_mites_q1', 'other_pest_para_q1', 'diseases_q1',\n",
    "       'pesticides_q1', 'other_q1', 'unknown_q1']].astype(int)\n",
    "y = df2['yield/cny'].astype(int)\n",
    "feature_names = X\n",
    "print(X.shape, y.shape)\n",
    "#'v_mites_q3',\n",
    "       # 'other_pest_para_q3', 'diseases_q3', 'pesticides_q3', 'other_q3',\n",
    "       # 'unknown_q3', 'v_mites', 'other_pest_para', 'diseases', 'pesticides',\n",
    "       # 'other', 'unknown'"
   ]
  },
  {
   "cell_type": "code",
   "execution_count": 9,
   "metadata": {},
   "outputs": [],
   "source": [
    "X_train, X_test, y_train, y_test = train_test_split(X, y, random_state=42)"
   ]
  },
  {
   "cell_type": "code",
   "execution_count": 10,
   "metadata": {},
   "outputs": [
    {
     "output_type": "execute_result",
     "data": {
      "text/plain": [
       "Pipeline(steps=[('standardscaler', StandardScaler()),\n",
       "                ('linearsvr', LinearSVR(random_state=23, tol=1e-05))])"
      ]
     },
     "metadata": {},
     "execution_count": 10
    }
   ],
   "source": [
    "regr = make_pipeline(StandardScaler(),LinearSVR(random_state=23, tol=1e-5))\n",
    "regr.fit(X, y)"
   ]
  },
  {
   "cell_type": "code",
   "execution_count": 11,
   "metadata": {},
   "outputs": [
    {
     "output_type": "stream",
     "name": "stdout",
     "text": [
      "[-7.77156117e-16 -4.44089210e-16 -6.80011603e-16  6.24500451e-16\n -1.16681838e-15 -4.19803081e-16 -2.32452946e-16  9.85322934e-16]\n"
     ]
    }
   ],
   "source": [
    "print(regr.named_steps['linearsvr'].coef_)"
   ]
  },
  {
   "cell_type": "code",
   "execution_count": 12,
   "metadata": {},
   "outputs": [
    {
     "output_type": "stream",
     "name": "stdout",
     "text": [
      "[29.]\n"
     ]
    }
   ],
   "source": [
    "print(regr.named_steps['linearsvr'].intercept_)"
   ]
  },
  {
   "cell_type": "code",
   "execution_count": 13,
   "metadata": {},
   "outputs": [
    {
     "output_type": "stream",
     "name": "stdout",
     "text": [
      "[29.]\n"
     ]
    }
   ],
   "source": [
    "print(regr.predict([[0,0,0,0,0,0,0,0]]))"
   ]
  },
  {
   "cell_type": "code",
   "execution_count": 14,
   "metadata": {},
   "outputs": [
    {
     "output_type": "stream",
     "name": "stdout",
     "text": [
      "-2.6176518111577898\n"
     ]
    }
   ],
   "source": [
    "print(regr.score(X,y))"
   ]
  },
  {
   "cell_type": "code",
   "execution_count": null,
   "metadata": {},
   "outputs": [],
   "source": []
  }
 ]
}